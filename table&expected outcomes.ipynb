{
 "cells": [
  {
   "cell_type": "code",
   "execution_count": 1,
   "id": "a5545940-b415-4bf6-83f3-1235a5f55504",
   "metadata": {},
   "outputs": [
    {
     "name": "stderr",
     "output_type": "stream",
     "text": [
      "── \u001b[1mAttaching packages\u001b[22m ─────────────────────────────────────── tidyverse 1.3.1 ──\n",
      "\n",
      "\u001b[32m✔\u001b[39m \u001b[34mggplot2\u001b[39m 3.3.6     \u001b[32m✔\u001b[39m \u001b[34mpurrr  \u001b[39m 0.3.4\n",
      "\u001b[32m✔\u001b[39m \u001b[34mtibble \u001b[39m 3.1.7     \u001b[32m✔\u001b[39m \u001b[34mdplyr  \u001b[39m 1.0.9\n",
      "\u001b[32m✔\u001b[39m \u001b[34mtidyr  \u001b[39m 1.2.0     \u001b[32m✔\u001b[39m \u001b[34mstringr\u001b[39m 1.4.0\n",
      "\u001b[32m✔\u001b[39m \u001b[34mreadr  \u001b[39m 2.1.2     \u001b[32m✔\u001b[39m \u001b[34mforcats\u001b[39m 0.5.1\n",
      "\n",
      "── \u001b[1mConflicts\u001b[22m ────────────────────────────────────────── tidyverse_conflicts() ──\n",
      "\u001b[31m✖\u001b[39m \u001b[34mdplyr\u001b[39m::\u001b[32mfilter()\u001b[39m masks \u001b[34mstats\u001b[39m::filter()\n",
      "\u001b[31m✖\u001b[39m \u001b[34mdplyr\u001b[39m::\u001b[32mlag()\u001b[39m    masks \u001b[34mstats\u001b[39m::lag()\n",
      "\n",
      "── \u001b[1mAttaching packages\u001b[22m ────────────────────────────────────── tidymodels 1.0.0 ──\n",
      "\n",
      "\u001b[32m✔\u001b[39m \u001b[34mbroom       \u001b[39m 1.0.0     \u001b[32m✔\u001b[39m \u001b[34mrsample     \u001b[39m 1.0.0\n",
      "\u001b[32m✔\u001b[39m \u001b[34mdials       \u001b[39m 1.0.0     \u001b[32m✔\u001b[39m \u001b[34mtune        \u001b[39m 1.0.0\n",
      "\u001b[32m✔\u001b[39m \u001b[34minfer       \u001b[39m 1.0.2     \u001b[32m✔\u001b[39m \u001b[34mworkflows   \u001b[39m 1.0.0\n",
      "\u001b[32m✔\u001b[39m \u001b[34mmodeldata   \u001b[39m 1.0.0     \u001b[32m✔\u001b[39m \u001b[34mworkflowsets\u001b[39m 1.0.0\n",
      "\u001b[32m✔\u001b[39m \u001b[34mparsnip     \u001b[39m 1.0.0     \u001b[32m✔\u001b[39m \u001b[34myardstick   \u001b[39m 1.0.0\n",
      "\u001b[32m✔\u001b[39m \u001b[34mrecipes     \u001b[39m 1.0.1     \n",
      "\n",
      "── \u001b[1mConflicts\u001b[22m ───────────────────────────────────────── tidymodels_conflicts() ──\n",
      "\u001b[31m✖\u001b[39m \u001b[34mscales\u001b[39m::\u001b[32mdiscard()\u001b[39m masks \u001b[34mpurrr\u001b[39m::discard()\n",
      "\u001b[31m✖\u001b[39m \u001b[34mdplyr\u001b[39m::\u001b[32mfilter()\u001b[39m   masks \u001b[34mstats\u001b[39m::filter()\n",
      "\u001b[31m✖\u001b[39m \u001b[34mrecipes\u001b[39m::\u001b[32mfixed()\u001b[39m  masks \u001b[34mstringr\u001b[39m::fixed()\n",
      "\u001b[31m✖\u001b[39m \u001b[34mdplyr\u001b[39m::\u001b[32mlag()\u001b[39m      masks \u001b[34mstats\u001b[39m::lag()\n",
      "\u001b[31m✖\u001b[39m \u001b[34myardstick\u001b[39m::\u001b[32mspec()\u001b[39m masks \u001b[34mreadr\u001b[39m::spec()\n",
      "\u001b[31m✖\u001b[39m \u001b[34mrecipes\u001b[39m::\u001b[32mstep()\u001b[39m   masks \u001b[34mstats\u001b[39m::step()\n",
      "\u001b[34m•\u001b[39m Search for functions across packages at \u001b[32mhttps://www.tidymodels.org/find/\u001b[39m\n",
      "\n",
      "\u001b[1mRows: \u001b[22m\u001b[34m9762\u001b[39m \u001b[1mColumns: \u001b[22m\u001b[34m40\u001b[39m\n",
      "\u001b[36m──\u001b[39m \u001b[1mColumn specification\u001b[22m \u001b[36m────────────────────────────────────────────────────────\u001b[39m\n",
      "\u001b[1mDelimiter:\u001b[22m \",\"\n",
      "\u001b[31mchr\u001b[39m   (3): prname, prnameFR, percentrecover\n",
      "\u001b[32mdbl\u001b[39m  (36): pruid, update, numconf, numprob, numdeaths, numtotal, numtested, ...\n",
      "\u001b[34mdate\u001b[39m  (1): date\n",
      "\n",
      "\u001b[36mℹ\u001b[39m Use `spec()` to retrieve the full column specification for this data.\n",
      "\u001b[36mℹ\u001b[39m Specify the column types or set `show_col_types = FALSE` to quiet this message.\n"
     ]
    },
    {
     "data": {
      "text/html": [
       "<table class=\"dataframe\">\n",
       "<caption>A tibble: 5 × 40</caption>\n",
       "<thead>\n",
       "\t<tr><th scope=col>pruid</th><th scope=col>prname</th><th scope=col>prnameFR</th><th scope=col>date</th><th scope=col>update</th><th scope=col>numconf</th><th scope=col>numprob</th><th scope=col>numdeaths</th><th scope=col>numtotal</th><th scope=col>numtested</th><th scope=col>⋯</th><th scope=col>ratedeaths_last14</th><th scope=col>numtotal_last7</th><th scope=col>ratetotal_last7</th><th scope=col>numdeaths_last7</th><th scope=col>ratedeaths_last7</th><th scope=col>avgtotal_last7</th><th scope=col>avgincidence_last7</th><th scope=col>avgdeaths_last7</th><th scope=col>avgratedeaths_last7</th><th scope=col>raterecovered</th></tr>\n",
       "\t<tr><th scope=col>&lt;dbl&gt;</th><th scope=col>&lt;chr&gt;</th><th scope=col>&lt;chr&gt;</th><th scope=col>&lt;date&gt;</th><th scope=col>&lt;dbl&gt;</th><th scope=col>&lt;dbl&gt;</th><th scope=col>&lt;dbl&gt;</th><th scope=col>&lt;dbl&gt;</th><th scope=col>&lt;dbl&gt;</th><th scope=col>&lt;dbl&gt;</th><th scope=col>⋯</th><th scope=col>&lt;dbl&gt;</th><th scope=col>&lt;dbl&gt;</th><th scope=col>&lt;dbl&gt;</th><th scope=col>&lt;dbl&gt;</th><th scope=col>&lt;dbl&gt;</th><th scope=col>&lt;dbl&gt;</th><th scope=col>&lt;dbl&gt;</th><th scope=col>&lt;dbl&gt;</th><th scope=col>&lt;dbl&gt;</th><th scope=col>&lt;dbl&gt;</th></tr>\n",
       "</thead>\n",
       "<tbody>\n",
       "\t<tr><td>35</td><td>Ontario         </td><td>Ontario             </td><td>2020-01-31</td><td>NA</td><td>3</td><td>0</td><td>0</td><td>3</td><td>NA</td><td>⋯</td><td>NA</td><td>NA</td><td>NA</td><td>NA</td><td>NA</td><td>NA</td><td>NA</td><td>NA</td><td>NA</td><td>0</td></tr>\n",
       "\t<tr><td>59</td><td>British Columbia</td><td>Colombie-Britannique</td><td>2020-01-31</td><td>NA</td><td>1</td><td>0</td><td>0</td><td>1</td><td>NA</td><td>⋯</td><td>NA</td><td>NA</td><td>NA</td><td>NA</td><td>NA</td><td>NA</td><td>NA</td><td>NA</td><td>NA</td><td>0</td></tr>\n",
       "\t<tr><td> 1</td><td>Canada          </td><td>Canada              </td><td>2020-01-31</td><td>NA</td><td>4</td><td>0</td><td>0</td><td>4</td><td>NA</td><td>⋯</td><td>NA</td><td>NA</td><td>NA</td><td>NA</td><td>NA</td><td>NA</td><td>NA</td><td>NA</td><td>NA</td><td>0</td></tr>\n",
       "\t<tr><td>35</td><td>Ontario         </td><td>Ontario             </td><td>2020-02-08</td><td>NA</td><td>3</td><td>0</td><td>0</td><td>3</td><td>NA</td><td>⋯</td><td>NA</td><td>NA</td><td>NA</td><td>NA</td><td>NA</td><td>NA</td><td>NA</td><td>NA</td><td>NA</td><td>0</td></tr>\n",
       "\t<tr><td>59</td><td>British Columbia</td><td>Colombie-Britannique</td><td>2020-02-08</td><td>NA</td><td>4</td><td>0</td><td>0</td><td>4</td><td>NA</td><td>⋯</td><td>NA</td><td>NA</td><td>NA</td><td>NA</td><td>NA</td><td>NA</td><td>NA</td><td>NA</td><td>NA</td><td>0</td></tr>\n",
       "</tbody>\n",
       "</table>\n"
      ],
      "text/latex": [
       "A tibble: 5 × 40\n",
       "\\begin{tabular}{lllllllllllllllllllll}\n",
       " pruid & prname & prnameFR & date & update & numconf & numprob & numdeaths & numtotal & numtested & ⋯ & ratedeaths\\_last14 & numtotal\\_last7 & ratetotal\\_last7 & numdeaths\\_last7 & ratedeaths\\_last7 & avgtotal\\_last7 & avgincidence\\_last7 & avgdeaths\\_last7 & avgratedeaths\\_last7 & raterecovered\\\\\n",
       " <dbl> & <chr> & <chr> & <date> & <dbl> & <dbl> & <dbl> & <dbl> & <dbl> & <dbl> & ⋯ & <dbl> & <dbl> & <dbl> & <dbl> & <dbl> & <dbl> & <dbl> & <dbl> & <dbl> & <dbl>\\\\\n",
       "\\hline\n",
       "\t 35 & Ontario          & Ontario              & 2020-01-31 & NA & 3 & 0 & 0 & 3 & NA & ⋯ & NA & NA & NA & NA & NA & NA & NA & NA & NA & 0\\\\\n",
       "\t 59 & British Columbia & Colombie-Britannique & 2020-01-31 & NA & 1 & 0 & 0 & 1 & NA & ⋯ & NA & NA & NA & NA & NA & NA & NA & NA & NA & 0\\\\\n",
       "\t  1 & Canada           & Canada               & 2020-01-31 & NA & 4 & 0 & 0 & 4 & NA & ⋯ & NA & NA & NA & NA & NA & NA & NA & NA & NA & 0\\\\\n",
       "\t 35 & Ontario          & Ontario              & 2020-02-08 & NA & 3 & 0 & 0 & 3 & NA & ⋯ & NA & NA & NA & NA & NA & NA & NA & NA & NA & 0\\\\\n",
       "\t 59 & British Columbia & Colombie-Britannique & 2020-02-08 & NA & 4 & 0 & 0 & 4 & NA & ⋯ & NA & NA & NA & NA & NA & NA & NA & NA & NA & 0\\\\\n",
       "\\end{tabular}\n"
      ],
      "text/markdown": [
       "\n",
       "A tibble: 5 × 40\n",
       "\n",
       "| pruid &lt;dbl&gt; | prname &lt;chr&gt; | prnameFR &lt;chr&gt; | date &lt;date&gt; | update &lt;dbl&gt; | numconf &lt;dbl&gt; | numprob &lt;dbl&gt; | numdeaths &lt;dbl&gt; | numtotal &lt;dbl&gt; | numtested &lt;dbl&gt; | ⋯ ⋯ | ratedeaths_last14 &lt;dbl&gt; | numtotal_last7 &lt;dbl&gt; | ratetotal_last7 &lt;dbl&gt; | numdeaths_last7 &lt;dbl&gt; | ratedeaths_last7 &lt;dbl&gt; | avgtotal_last7 &lt;dbl&gt; | avgincidence_last7 &lt;dbl&gt; | avgdeaths_last7 &lt;dbl&gt; | avgratedeaths_last7 &lt;dbl&gt; | raterecovered &lt;dbl&gt; |\n",
       "|---|---|---|---|---|---|---|---|---|---|---|---|---|---|---|---|---|---|---|---|---|\n",
       "| 35 | Ontario          | Ontario              | 2020-01-31 | NA | 3 | 0 | 0 | 3 | NA | ⋯ | NA | NA | NA | NA | NA | NA | NA | NA | NA | 0 |\n",
       "| 59 | British Columbia | Colombie-Britannique | 2020-01-31 | NA | 1 | 0 | 0 | 1 | NA | ⋯ | NA | NA | NA | NA | NA | NA | NA | NA | NA | 0 |\n",
       "|  1 | Canada           | Canada               | 2020-01-31 | NA | 4 | 0 | 0 | 4 | NA | ⋯ | NA | NA | NA | NA | NA | NA | NA | NA | NA | 0 |\n",
       "| 35 | Ontario          | Ontario              | 2020-02-08 | NA | 3 | 0 | 0 | 3 | NA | ⋯ | NA | NA | NA | NA | NA | NA | NA | NA | NA | 0 |\n",
       "| 59 | British Columbia | Colombie-Britannique | 2020-02-08 | NA | 4 | 0 | 0 | 4 | NA | ⋯ | NA | NA | NA | NA | NA | NA | NA | NA | NA | 0 |\n",
       "\n"
      ],
      "text/plain": [
       "  pruid prname           prnameFR             date       update numconf numprob\n",
       "1 35    Ontario          Ontario              2020-01-31 NA     3       0      \n",
       "2 59    British Columbia Colombie-Britannique 2020-01-31 NA     1       0      \n",
       "3  1    Canada           Canada               2020-01-31 NA     4       0      \n",
       "4 35    Ontario          Ontario              2020-02-08 NA     3       0      \n",
       "5 59    British Columbia Colombie-Britannique 2020-02-08 NA     4       0      \n",
       "  numdeaths numtotal numtested ⋯ ratedeaths_last14 numtotal_last7\n",
       "1 0         3        NA        ⋯ NA                NA            \n",
       "2 0         1        NA        ⋯ NA                NA            \n",
       "3 0         4        NA        ⋯ NA                NA            \n",
       "4 0         3        NA        ⋯ NA                NA            \n",
       "5 0         4        NA        ⋯ NA                NA            \n",
       "  ratetotal_last7 numdeaths_last7 ratedeaths_last7 avgtotal_last7\n",
       "1 NA              NA              NA               NA            \n",
       "2 NA              NA              NA               NA            \n",
       "3 NA              NA              NA               NA            \n",
       "4 NA              NA              NA               NA            \n",
       "5 NA              NA              NA               NA            \n",
       "  avgincidence_last7 avgdeaths_last7 avgratedeaths_last7 raterecovered\n",
       "1 NA                 NA              NA                  0            \n",
       "2 NA                 NA              NA                  0            \n",
       "3 NA                 NA              NA                  0            \n",
       "4 NA                 NA              NA                  0            \n",
       "5 NA                 NA              NA                  0            "
      ]
     },
     "metadata": {},
     "output_type": "display_data"
    }
   ],
   "source": [
    "library(repr)\n",
    "library(tidyverse)\n",
    "library(tidymodels)\n",
    "\n",
    "covid_19 <- read_csv(\"canada-covid-19.csv\")\n",
    "head(covid_19,5)"
   ]
  },
  {
   "cell_type": "code",
   "execution_count": 2,
   "id": "047a84aa-0eb9-439a-97e1-d3b0292ae98d",
   "metadata": {},
   "outputs": [
    {
     "data": {
      "text/html": [
       "<table class=\"dataframe\">\n",
       "<caption>A tibble: 5 × 10</caption>\n",
       "<thead>\n",
       "\t<tr><th scope=col>prname</th><th scope=col>date</th><th scope=col>numconf</th><th scope=col>numprob</th><th scope=col>numdeaths</th><th scope=col>numtotal</th><th scope=col>numtested</th><th scope=col>numrecover</th><th scope=col>percentrecover</th><th scope=col>ratetested</th></tr>\n",
       "\t<tr><th scope=col>&lt;chr&gt;</th><th scope=col>&lt;date&gt;</th><th scope=col>&lt;dbl&gt;</th><th scope=col>&lt;dbl&gt;</th><th scope=col>&lt;dbl&gt;</th><th scope=col>&lt;dbl&gt;</th><th scope=col>&lt;dbl&gt;</th><th scope=col>&lt;dbl&gt;</th><th scope=col>&lt;chr&gt;</th><th scope=col>&lt;dbl&gt;</th></tr>\n",
       "</thead>\n",
       "<tbody>\n",
       "\t<tr><td>Ontario         </td><td>2020-01-31</td><td>3</td><td>0</td><td>0</td><td>3</td><td>NA</td><td>NA</td><td>NA</td><td>NA</td></tr>\n",
       "\t<tr><td>British Columbia</td><td>2020-01-31</td><td>1</td><td>0</td><td>0</td><td>1</td><td>NA</td><td>NA</td><td>NA</td><td>NA</td></tr>\n",
       "\t<tr><td>Canada          </td><td>2020-01-31</td><td>4</td><td>0</td><td>0</td><td>4</td><td>NA</td><td>NA</td><td>NA</td><td>NA</td></tr>\n",
       "\t<tr><td>Ontario         </td><td>2020-02-08</td><td>3</td><td>0</td><td>0</td><td>3</td><td>NA</td><td>NA</td><td>NA</td><td>NA</td></tr>\n",
       "\t<tr><td>British Columbia</td><td>2020-02-08</td><td>4</td><td>0</td><td>0</td><td>4</td><td>NA</td><td>NA</td><td>NA</td><td>NA</td></tr>\n",
       "</tbody>\n",
       "</table>\n"
      ],
      "text/latex": [
       "A tibble: 5 × 10\n",
       "\\begin{tabular}{llllllllll}\n",
       " prname & date & numconf & numprob & numdeaths & numtotal & numtested & numrecover & percentrecover & ratetested\\\\\n",
       " <chr> & <date> & <dbl> & <dbl> & <dbl> & <dbl> & <dbl> & <dbl> & <chr> & <dbl>\\\\\n",
       "\\hline\n",
       "\t Ontario          & 2020-01-31 & 3 & 0 & 0 & 3 & NA & NA & NA & NA\\\\\n",
       "\t British Columbia & 2020-01-31 & 1 & 0 & 0 & 1 & NA & NA & NA & NA\\\\\n",
       "\t Canada           & 2020-01-31 & 4 & 0 & 0 & 4 & NA & NA & NA & NA\\\\\n",
       "\t Ontario          & 2020-02-08 & 3 & 0 & 0 & 3 & NA & NA & NA & NA\\\\\n",
       "\t British Columbia & 2020-02-08 & 4 & 0 & 0 & 4 & NA & NA & NA & NA\\\\\n",
       "\\end{tabular}\n"
      ],
      "text/markdown": [
       "\n",
       "A tibble: 5 × 10\n",
       "\n",
       "| prname &lt;chr&gt; | date &lt;date&gt; | numconf &lt;dbl&gt; | numprob &lt;dbl&gt; | numdeaths &lt;dbl&gt; | numtotal &lt;dbl&gt; | numtested &lt;dbl&gt; | numrecover &lt;dbl&gt; | percentrecover &lt;chr&gt; | ratetested &lt;dbl&gt; |\n",
       "|---|---|---|---|---|---|---|---|---|---|\n",
       "| Ontario          | 2020-01-31 | 3 | 0 | 0 | 3 | NA | NA | NA | NA |\n",
       "| British Columbia | 2020-01-31 | 1 | 0 | 0 | 1 | NA | NA | NA | NA |\n",
       "| Canada           | 2020-01-31 | 4 | 0 | 0 | 4 | NA | NA | NA | NA |\n",
       "| Ontario          | 2020-02-08 | 3 | 0 | 0 | 3 | NA | NA | NA | NA |\n",
       "| British Columbia | 2020-02-08 | 4 | 0 | 0 | 4 | NA | NA | NA | NA |\n",
       "\n"
      ],
      "text/plain": [
       "  prname           date       numconf numprob numdeaths numtotal numtested\n",
       "1 Ontario          2020-01-31 3       0       0         3        NA       \n",
       "2 British Columbia 2020-01-31 1       0       0         1        NA       \n",
       "3 Canada           2020-01-31 4       0       0         4        NA       \n",
       "4 Ontario          2020-02-08 3       0       0         3        NA       \n",
       "5 British Columbia 2020-02-08 4       0       0         4        NA       \n",
       "  numrecover percentrecover ratetested\n",
       "1 NA         NA             NA        \n",
       "2 NA         NA             NA        \n",
       "3 NA         NA             NA        \n",
       "4 NA         NA             NA        \n",
       "5 NA         NA             NA        "
      ]
     },
     "metadata": {},
     "output_type": "display_data"
    }
   ],
   "source": [
    "covid_19 <- select(covid_19, prname,date,numconf,numprob,numdeaths,numtotal,numtested,numrecover,percentrecover,\n",
    "                   ratetested)\n",
    "head(covid_19,5)"
   ]
  },
  {
   "cell_type": "code",
   "execution_count": 3,
   "id": "bb85d784-d01a-42d1-bc32-9ae4e2284414",
   "metadata": {},
   "outputs": [],
   "source": [
    "colnames (covid_19) <- c(\"province_name\",\"date\",\"confirmed\",\"probable\",\"death\",\"total\",\"tested\",\"recover\",\"recover_percent\",\"test_rate\")"
   ]
  },
  {
   "cell_type": "code",
   "execution_count": 4,
   "id": "d29cc67e-d1f1-4395-99d9-e8e9bbff754d",
   "metadata": {},
   "outputs": [
    {
     "data": {
      "text/html": [
       "<table class=\"dataframe\">\n",
       "<caption>A tibble: 5 × 10</caption>\n",
       "<thead>\n",
       "\t<tr><th scope=col>province_name</th><th scope=col>date</th><th scope=col>confirmed</th><th scope=col>probable</th><th scope=col>death</th><th scope=col>total</th><th scope=col>tested</th><th scope=col>recover</th><th scope=col>recover_percent</th><th scope=col>test_rate</th></tr>\n",
       "\t<tr><th scope=col>&lt;chr&gt;</th><th scope=col>&lt;date&gt;</th><th scope=col>&lt;dbl&gt;</th><th scope=col>&lt;dbl&gt;</th><th scope=col>&lt;dbl&gt;</th><th scope=col>&lt;dbl&gt;</th><th scope=col>&lt;dbl&gt;</th><th scope=col>&lt;dbl&gt;</th><th scope=col>&lt;chr&gt;</th><th scope=col>&lt;dbl&gt;</th></tr>\n",
       "</thead>\n",
       "<tbody>\n",
       "\t<tr><td>Ontario         </td><td>2020-01-31</td><td>3</td><td>0</td><td>0</td><td>3</td><td>NA</td><td>NA</td><td>NA</td><td>NA</td></tr>\n",
       "\t<tr><td>British Columbia</td><td>2020-01-31</td><td>1</td><td>0</td><td>0</td><td>1</td><td>NA</td><td>NA</td><td>NA</td><td>NA</td></tr>\n",
       "\t<tr><td>Canada          </td><td>2020-01-31</td><td>4</td><td>0</td><td>0</td><td>4</td><td>NA</td><td>NA</td><td>NA</td><td>NA</td></tr>\n",
       "\t<tr><td>Ontario         </td><td>2020-02-08</td><td>3</td><td>0</td><td>0</td><td>3</td><td>NA</td><td>NA</td><td>NA</td><td>NA</td></tr>\n",
       "\t<tr><td>British Columbia</td><td>2020-02-08</td><td>4</td><td>0</td><td>0</td><td>4</td><td>NA</td><td>NA</td><td>NA</td><td>NA</td></tr>\n",
       "</tbody>\n",
       "</table>\n"
      ],
      "text/latex": [
       "A tibble: 5 × 10\n",
       "\\begin{tabular}{llllllllll}\n",
       " province\\_name & date & confirmed & probable & death & total & tested & recover & recover\\_percent & test\\_rate\\\\\n",
       " <chr> & <date> & <dbl> & <dbl> & <dbl> & <dbl> & <dbl> & <dbl> & <chr> & <dbl>\\\\\n",
       "\\hline\n",
       "\t Ontario          & 2020-01-31 & 3 & 0 & 0 & 3 & NA & NA & NA & NA\\\\\n",
       "\t British Columbia & 2020-01-31 & 1 & 0 & 0 & 1 & NA & NA & NA & NA\\\\\n",
       "\t Canada           & 2020-01-31 & 4 & 0 & 0 & 4 & NA & NA & NA & NA\\\\\n",
       "\t Ontario          & 2020-02-08 & 3 & 0 & 0 & 3 & NA & NA & NA & NA\\\\\n",
       "\t British Columbia & 2020-02-08 & 4 & 0 & 0 & 4 & NA & NA & NA & NA\\\\\n",
       "\\end{tabular}\n"
      ],
      "text/markdown": [
       "\n",
       "A tibble: 5 × 10\n",
       "\n",
       "| province_name &lt;chr&gt; | date &lt;date&gt; | confirmed &lt;dbl&gt; | probable &lt;dbl&gt; | death &lt;dbl&gt; | total &lt;dbl&gt; | tested &lt;dbl&gt; | recover &lt;dbl&gt; | recover_percent &lt;chr&gt; | test_rate &lt;dbl&gt; |\n",
       "|---|---|---|---|---|---|---|---|---|---|\n",
       "| Ontario          | 2020-01-31 | 3 | 0 | 0 | 3 | NA | NA | NA | NA |\n",
       "| British Columbia | 2020-01-31 | 1 | 0 | 0 | 1 | NA | NA | NA | NA |\n",
       "| Canada           | 2020-01-31 | 4 | 0 | 0 | 4 | NA | NA | NA | NA |\n",
       "| Ontario          | 2020-02-08 | 3 | 0 | 0 | 3 | NA | NA | NA | NA |\n",
       "| British Columbia | 2020-02-08 | 4 | 0 | 0 | 4 | NA | NA | NA | NA |\n",
       "\n"
      ],
      "text/plain": [
       "  province_name    date       confirmed probable death total tested recover\n",
       "1 Ontario          2020-01-31 3         0        0     3     NA     NA     \n",
       "2 British Columbia 2020-01-31 1         0        0     1     NA     NA     \n",
       "3 Canada           2020-01-31 4         0        0     4     NA     NA     \n",
       "4 Ontario          2020-02-08 3         0        0     3     NA     NA     \n",
       "5 British Columbia 2020-02-08 4         0        0     4     NA     NA     \n",
       "  recover_percent test_rate\n",
       "1 NA              NA       \n",
       "2 NA              NA       \n",
       "3 NA              NA       \n",
       "4 NA              NA       \n",
       "5 NA              NA       "
      ]
     },
     "metadata": {},
     "output_type": "display_data"
    }
   ],
   "source": [
    "head(covid_19,5)"
   ]
  },
  {
   "cell_type": "code",
   "execution_count": 2,
   "id": "ea7a1a65-4cdd-47c0-ad86-187e09e1e93d",
   "metadata": {},
   "outputs": [
    {
     "ename": "ERROR",
     "evalue": "Error in group_by(covid_19, province_name) %>% summarize(min_confirmed = min(confirmed, : could not find function \"%>%\"\n",
     "output_type": "error",
     "traceback": [
      "Error in group_by(covid_19, province_name) %>% summarize(min_confirmed = min(confirmed, : could not find function \"%>%\"\nTraceback:\n"
     ]
    }
   ],
   "source": [
    "obs_num_summary <- group_by(covid_19,province_name)%>%\n",
    "                            summarize( min_confirmed = min(confirmed,na.rm = TRUE),\n",
    "                             mean_confirmed = mean(confirmed,na.rm = TRUE),\n",
    "                             most_confirmed = max(confirmed,na.rm = TRUE),\n",
    "                             min_death = min(death,na.rm = TRUE),\n",
    "                             mean_death = mean(death,na.rm = TRUE),\n",
    "                             most_death = max(death,na.rm = TRUE),\n",
    "                             min_total = min(total,na.rm = TRUE),\n",
    "                             mean_death = mean(total,na.rm = TRUE),\n",
    "                             most_total = max(total,na.rm = TRUE),\n",
    "                             min_tested = min(tested,na.rm = TRUE),\n",
    "                             mean_tested = mean(tested,na.rm = TRUE),\n",
    "                             most_tested = max(tested,na.rm = TRUE))"
   ]
  },
  {
   "cell_type": "code",
   "execution_count": 6,
   "id": "0f4b97db-3972-4540-9df6-412f7a9120cd",
   "metadata": {},
   "outputs": [
    {
     "data": {
      "text/html": [
       "<table class=\"dataframe\">\n",
       "<caption>A tibble: 15 × 12</caption>\n",
       "<thead>\n",
       "\t<tr><th scope=col>province_name</th><th scope=col>min_confirmed</th><th scope=col>mean_confirmed</th><th scope=col>most_confirmed</th><th scope=col>min_death</th><th scope=col>mean_death</th><th scope=col>most_death</th><th scope=col>min_total</th><th scope=col>most_total</th><th scope=col>min_tested</th><th scope=col>mean_tested</th><th scope=col>most_tested</th></tr>\n",
       "\t<tr><th scope=col>&lt;chr&gt;</th><th scope=col>&lt;dbl&gt;</th><th scope=col>&lt;dbl&gt;</th><th scope=col>&lt;dbl&gt;</th><th scope=col>&lt;dbl&gt;</th><th scope=col>&lt;dbl&gt;</th><th scope=col>&lt;dbl&gt;</th><th scope=col>&lt;dbl&gt;</th><th scope=col>&lt;dbl&gt;</th><th scope=col>&lt;dbl&gt;</th><th scope=col>&lt;dbl&gt;</th><th scope=col>&lt;dbl&gt;</th></tr>\n",
       "</thead>\n",
       "<tbody>\n",
       "\t<tr><td>Alberta                  </td><td>1</td><td>130427.91680</td><td> 341023</td><td> 0</td><td>130421.92142</td><td> 3286</td><td>1</td><td> 341023</td><td>NA</td><td>9.261405e+05</td><td>NA</td></tr>\n",
       "\t<tr><td>British Columbia         </td><td>1</td><td> 79944.47059</td><td> 225785</td><td> 0</td><td> 79944.47059</td><td> 2399</td><td>1</td><td> 225785</td><td>NA</td><td>4.003620e+05</td><td>NA</td></tr>\n",
       "\t<tr><td>Canada                   </td><td>4</td><td>767522.77526</td><td>1866907</td><td> 0</td><td>767527.68477</td><td>30032</td><td>4</td><td>1866907</td><td>NA</td><td>6.282130e+06</td><td>NA</td></tr>\n",
       "\t<tr><td>Manitoba                 </td><td>0</td><td> 28554.30603</td><td>  70785</td><td> 0</td><td> 28557.08192</td><td> 1360</td><td>0</td><td>  70785</td><td>NA</td><td>1.665760e+05</td><td>NA</td></tr>\n",
       "\t<tr><td>New Brunswick            </td><td>0</td><td>  1802.32612</td><td>  10313</td><td> 0</td><td>  1802.40495</td><td>  146</td><td>0</td><td>  10313</td><td>NA</td><td>5.802824e+04</td><td>NA</td></tr>\n",
       "\t<tr><td>Newfoundland and Labrador</td><td>0</td><td>   836.54714</td><td>   2152</td><td> 0</td><td>   836.65379</td><td>   18</td><td>0</td><td>   2152</td><td>NA</td><td>3.443754e+04</td><td>NA</td></tr>\n",
       "\t<tr><td>Northwest Territories    </td><td>0</td><td>   293.00618</td><td>   2082</td><td> 0</td><td>   293.00618</td><td>   12</td><td>0</td><td>   2082</td><td>NA</td><td>3.939774e+03</td><td>NA</td></tr>\n",
       "\t<tr><td>Nova Scotia              </td><td>0</td><td>  3033.03091</td><td>   9202</td><td> 0</td><td>  3033.10046</td><td>  110</td><td>0</td><td>   9202</td><td>NA</td><td>8.535604e+04</td><td>NA</td></tr>\n",
       "\t<tr><td>Nunavut                  </td><td>0</td><td>   313.27512</td><td>    676</td><td> 0</td><td>   313.27512</td><td>    4</td><td>0</td><td>    676</td><td>NA</td><td>2.313502e+03</td><td>NA</td></tr>\n",
       "\t<tr><td>Ontario                  </td><td>3</td><td>276414.85219</td><td> 642465</td><td> 0</td><td>276414.85219</td><td>10107</td><td>3</td><td> 642465</td><td>NA</td><td>3.238261e+06</td><td>NA</td></tr>\n",
       "\t<tr><td>Prince Edward Island     </td><td>0</td><td>   137.93199</td><td>    475</td><td> 0</td><td>   137.93199</td><td>    0</td><td>0</td><td>    475</td><td>NA</td><td>3.197980e+04</td><td>NA</td></tr>\n",
       "\t<tr><td>Quebec                   </td><td>1</td><td>224917.11621</td><td> 478246</td><td> 0</td><td>224918.97859</td><td>11634</td><td>1</td><td> 478246</td><td>NA</td><td>1.196259e+06</td><td>NA</td></tr>\n",
       "\t<tr><td>Repatriated travellers   </td><td>1</td><td>    12.88253</td><td>     13</td><td>NA</td><td>    12.88253</td><td>   NA</td><td>1</td><td>     13</td><td>NA</td><td>7.427523e+01</td><td>NA</td></tr>\n",
       "\t<tr><td>Saskatchewan             </td><td>0</td><td> 27912.49459</td><td>  82069</td><td> 0</td><td> 27912.64915</td><td>  942</td><td>0</td><td>  82069</td><td>NA</td><td>1.355431e+05</td><td>NA</td></tr>\n",
       "\t<tr><td>Yukon                    </td><td>0</td><td>   260.12519</td><td>   1621</td><td> 0</td><td>   260.12519</td><td>   14</td><td>0</td><td>   1621</td><td>NA</td><td>2.810339e+03</td><td>NA</td></tr>\n",
       "</tbody>\n",
       "</table>\n"
      ],
      "text/latex": [
       "A tibble: 15 × 12\n",
       "\\begin{tabular}{llllllllllll}\n",
       " province\\_name & min\\_confirmed & mean\\_confirmed & most\\_confirmed & min\\_death & mean\\_death & most\\_death & min\\_total & most\\_total & min\\_tested & mean\\_tested & most\\_tested\\\\\n",
       " <chr> & <dbl> & <dbl> & <dbl> & <dbl> & <dbl> & <dbl> & <dbl> & <dbl> & <dbl> & <dbl> & <dbl>\\\\\n",
       "\\hline\n",
       "\t Alberta                   & 1 & 130427.91680 &  341023 &  0 & 130421.92142 &  3286 & 1 &  341023 & NA & 9.261405e+05 & NA\\\\\n",
       "\t British Columbia          & 1 &  79944.47059 &  225785 &  0 &  79944.47059 &  2399 & 1 &  225785 & NA & 4.003620e+05 & NA\\\\\n",
       "\t Canada                    & 4 & 767522.77526 & 1866907 &  0 & 767527.68477 & 30032 & 4 & 1866907 & NA & 6.282130e+06 & NA\\\\\n",
       "\t Manitoba                  & 0 &  28554.30603 &   70785 &  0 &  28557.08192 &  1360 & 0 &   70785 & NA & 1.665760e+05 & NA\\\\\n",
       "\t New Brunswick             & 0 &   1802.32612 &   10313 &  0 &   1802.40495 &   146 & 0 &   10313 & NA & 5.802824e+04 & NA\\\\\n",
       "\t Newfoundland and Labrador & 0 &    836.54714 &    2152 &  0 &    836.65379 &    18 & 0 &    2152 & NA & 3.443754e+04 & NA\\\\\n",
       "\t Northwest Territories     & 0 &    293.00618 &    2082 &  0 &    293.00618 &    12 & 0 &    2082 & NA & 3.939774e+03 & NA\\\\\n",
       "\t Nova Scotia               & 0 &   3033.03091 &    9202 &  0 &   3033.10046 &   110 & 0 &    9202 & NA & 8.535604e+04 & NA\\\\\n",
       "\t Nunavut                   & 0 &    313.27512 &     676 &  0 &    313.27512 &     4 & 0 &     676 & NA & 2.313502e+03 & NA\\\\\n",
       "\t Ontario                   & 3 & 276414.85219 &  642465 &  0 & 276414.85219 & 10107 & 3 &  642465 & NA & 3.238261e+06 & NA\\\\\n",
       "\t Prince Edward Island      & 0 &    137.93199 &     475 &  0 &    137.93199 &     0 & 0 &     475 & NA & 3.197980e+04 & NA\\\\\n",
       "\t Quebec                    & 1 & 224917.11621 &  478246 &  0 & 224918.97859 & 11634 & 1 &  478246 & NA & 1.196259e+06 & NA\\\\\n",
       "\t Repatriated travellers    & 1 &     12.88253 &      13 & NA &     12.88253 &    NA & 1 &      13 & NA & 7.427523e+01 & NA\\\\\n",
       "\t Saskatchewan              & 0 &  27912.49459 &   82069 &  0 &  27912.64915 &   942 & 0 &   82069 & NA & 1.355431e+05 & NA\\\\\n",
       "\t Yukon                     & 0 &    260.12519 &    1621 &  0 &    260.12519 &    14 & 0 &    1621 & NA & 2.810339e+03 & NA\\\\\n",
       "\\end{tabular}\n"
      ],
      "text/markdown": [
       "\n",
       "A tibble: 15 × 12\n",
       "\n",
       "| province_name &lt;chr&gt; | min_confirmed &lt;dbl&gt; | mean_confirmed &lt;dbl&gt; | most_confirmed &lt;dbl&gt; | min_death &lt;dbl&gt; | mean_death &lt;dbl&gt; | most_death &lt;dbl&gt; | min_total &lt;dbl&gt; | most_total &lt;dbl&gt; | min_tested &lt;dbl&gt; | mean_tested &lt;dbl&gt; | most_tested &lt;dbl&gt; |\n",
       "|---|---|---|---|---|---|---|---|---|---|---|---|\n",
       "| Alberta                   | 1 | 130427.91680 |  341023 |  0 | 130421.92142 |  3286 | 1 |  341023 | NA | 9.261405e+05 | NA |\n",
       "| British Columbia          | 1 |  79944.47059 |  225785 |  0 |  79944.47059 |  2399 | 1 |  225785 | NA | 4.003620e+05 | NA |\n",
       "| Canada                    | 4 | 767522.77526 | 1866907 |  0 | 767527.68477 | 30032 | 4 | 1866907 | NA | 6.282130e+06 | NA |\n",
       "| Manitoba                  | 0 |  28554.30603 |   70785 |  0 |  28557.08192 |  1360 | 0 |   70785 | NA | 1.665760e+05 | NA |\n",
       "| New Brunswick             | 0 |   1802.32612 |   10313 |  0 |   1802.40495 |   146 | 0 |   10313 | NA | 5.802824e+04 | NA |\n",
       "| Newfoundland and Labrador | 0 |    836.54714 |    2152 |  0 |    836.65379 |    18 | 0 |    2152 | NA | 3.443754e+04 | NA |\n",
       "| Northwest Territories     | 0 |    293.00618 |    2082 |  0 |    293.00618 |    12 | 0 |    2082 | NA | 3.939774e+03 | NA |\n",
       "| Nova Scotia               | 0 |   3033.03091 |    9202 |  0 |   3033.10046 |   110 | 0 |    9202 | NA | 8.535604e+04 | NA |\n",
       "| Nunavut                   | 0 |    313.27512 |     676 |  0 |    313.27512 |     4 | 0 |     676 | NA | 2.313502e+03 | NA |\n",
       "| Ontario                   | 3 | 276414.85219 |  642465 |  0 | 276414.85219 | 10107 | 3 |  642465 | NA | 3.238261e+06 | NA |\n",
       "| Prince Edward Island      | 0 |    137.93199 |     475 |  0 |    137.93199 |     0 | 0 |     475 | NA | 3.197980e+04 | NA |\n",
       "| Quebec                    | 1 | 224917.11621 |  478246 |  0 | 224918.97859 | 11634 | 1 |  478246 | NA | 1.196259e+06 | NA |\n",
       "| Repatriated travellers    | 1 |     12.88253 |      13 | NA |     12.88253 |    NA | 1 |      13 | NA | 7.427523e+01 | NA |\n",
       "| Saskatchewan              | 0 |  27912.49459 |   82069 |  0 |  27912.64915 |   942 | 0 |   82069 | NA | 1.355431e+05 | NA |\n",
       "| Yukon                     | 0 |    260.12519 |    1621 |  0 |    260.12519 |    14 | 0 |    1621 | NA | 2.810339e+03 | NA |\n",
       "\n"
      ],
      "text/plain": [
       "   province_name             min_confirmed mean_confirmed most_confirmed\n",
       "1  Alberta                   1             130427.91680    341023       \n",
       "2  British Columbia          1              79944.47059    225785       \n",
       "3  Canada                    4             767522.77526   1866907       \n",
       "4  Manitoba                  0              28554.30603     70785       \n",
       "5  New Brunswick             0               1802.32612     10313       \n",
       "6  Newfoundland and Labrador 0                836.54714      2152       \n",
       "7  Northwest Territories     0                293.00618      2082       \n",
       "8  Nova Scotia               0               3033.03091      9202       \n",
       "9  Nunavut                   0                313.27512       676       \n",
       "10 Ontario                   3             276414.85219    642465       \n",
       "11 Prince Edward Island      0                137.93199       475       \n",
       "12 Quebec                    1             224917.11621    478246       \n",
       "13 Repatriated travellers    1                 12.88253        13       \n",
       "14 Saskatchewan              0              27912.49459     82069       \n",
       "15 Yukon                     0                260.12519      1621       \n",
       "   min_death mean_death   most_death min_total most_total min_tested\n",
       "1   0        130421.92142  3286      1          341023    NA        \n",
       "2   0         79944.47059  2399      1          225785    NA        \n",
       "3   0        767527.68477 30032      4         1866907    NA        \n",
       "4   0         28557.08192  1360      0           70785    NA        \n",
       "5   0          1802.40495   146      0           10313    NA        \n",
       "6   0           836.65379    18      0            2152    NA        \n",
       "7   0           293.00618    12      0            2082    NA        \n",
       "8   0          3033.10046   110      0            9202    NA        \n",
       "9   0           313.27512     4      0             676    NA        \n",
       "10  0        276414.85219 10107      3          642465    NA        \n",
       "11  0           137.93199     0      0             475    NA        \n",
       "12  0        224918.97859 11634      1          478246    NA        \n",
       "13 NA            12.88253    NA      1              13    NA        \n",
       "14  0         27912.64915   942      0           82069    NA        \n",
       "15  0           260.12519    14      0            1621    NA        \n",
       "   mean_tested  most_tested\n",
       "1  9.261405e+05 NA         \n",
       "2  4.003620e+05 NA         \n",
       "3  6.282130e+06 NA         \n",
       "4  1.665760e+05 NA         \n",
       "5  5.802824e+04 NA         \n",
       "6  3.443754e+04 NA         \n",
       "7  3.939774e+03 NA         \n",
       "8  8.535604e+04 NA         \n",
       "9  2.313502e+03 NA         \n",
       "10 3.238261e+06 NA         \n",
       "11 3.197980e+04 NA         \n",
       "12 1.196259e+06 NA         \n",
       "13 7.427523e+01 NA         \n",
       "14 1.355431e+05 NA         \n",
       "15 2.810339e+03 NA         "
      ]
     },
     "metadata": {},
     "output_type": "display_data"
    }
   ],
   "source": [
    "obs_num_summary"
   ]
  },
  {
   "cell_type": "code",
   "execution_count": 7,
   "id": "8979ef31-d41b-4b38-8e1e-387031aa7421",
   "metadata": {},
   "outputs": [
    {
     "data": {
      "text/html": [
       "<table class=\"dataframe\">\n",
       "<caption>A tibble: 15 × 2</caption>\n",
       "<thead>\n",
       "\t<tr><th scope=col>province_name</th><th scope=col>n</th></tr>\n",
       "\t<tr><th scope=col>&lt;chr&gt;</th><th scope=col>&lt;int&gt;</th></tr>\n",
       "</thead>\n",
       "<tbody>\n",
       "\t<tr><td>Alberta                  </td><td>649</td></tr>\n",
       "\t<tr><td>British Columbia         </td><td>663</td></tr>\n",
       "\t<tr><td>Canada                   </td><td>663</td></tr>\n",
       "\t<tr><td>Manitoba                 </td><td>647</td></tr>\n",
       "\t<tr><td>New Brunswick            </td><td>647</td></tr>\n",
       "\t<tr><td>Newfoundland and Labrador</td><td>647</td></tr>\n",
       "\t<tr><td>Northwest Territories    </td><td>647</td></tr>\n",
       "\t<tr><td>Nova Scotia              </td><td>647</td></tr>\n",
       "\t<tr><td>Nunavut                  </td><td>647</td></tr>\n",
       "\t<tr><td>Ontario                  </td><td>663</td></tr>\n",
       "\t<tr><td>Prince Edward Island     </td><td>647</td></tr>\n",
       "\t<tr><td>Quebec                   </td><td>654</td></tr>\n",
       "\t<tr><td>Repatriated travellers   </td><td>647</td></tr>\n",
       "\t<tr><td>Saskatchewan             </td><td>647</td></tr>\n",
       "\t<tr><td>Yukon                    </td><td>647</td></tr>\n",
       "</tbody>\n",
       "</table>\n"
      ],
      "text/latex": [
       "A tibble: 15 × 2\n",
       "\\begin{tabular}{ll}\n",
       " province\\_name & n\\\\\n",
       " <chr> & <int>\\\\\n",
       "\\hline\n",
       "\t Alberta                   & 649\\\\\n",
       "\t British Columbia          & 663\\\\\n",
       "\t Canada                    & 663\\\\\n",
       "\t Manitoba                  & 647\\\\\n",
       "\t New Brunswick             & 647\\\\\n",
       "\t Newfoundland and Labrador & 647\\\\\n",
       "\t Northwest Territories     & 647\\\\\n",
       "\t Nova Scotia               & 647\\\\\n",
       "\t Nunavut                   & 647\\\\\n",
       "\t Ontario                   & 663\\\\\n",
       "\t Prince Edward Island      & 647\\\\\n",
       "\t Quebec                    & 654\\\\\n",
       "\t Repatriated travellers    & 647\\\\\n",
       "\t Saskatchewan              & 647\\\\\n",
       "\t Yukon                     & 647\\\\\n",
       "\\end{tabular}\n"
      ],
      "text/markdown": [
       "\n",
       "A tibble: 15 × 2\n",
       "\n",
       "| province_name &lt;chr&gt; | n &lt;int&gt; |\n",
       "|---|---|\n",
       "| Alberta                   | 649 |\n",
       "| British Columbia          | 663 |\n",
       "| Canada                    | 663 |\n",
       "| Manitoba                  | 647 |\n",
       "| New Brunswick             | 647 |\n",
       "| Newfoundland and Labrador | 647 |\n",
       "| Northwest Territories     | 647 |\n",
       "| Nova Scotia               | 647 |\n",
       "| Nunavut                   | 647 |\n",
       "| Ontario                   | 663 |\n",
       "| Prince Edward Island      | 647 |\n",
       "| Quebec                    | 654 |\n",
       "| Repatriated travellers    | 647 |\n",
       "| Saskatchewan              | 647 |\n",
       "| Yukon                     | 647 |\n",
       "\n"
      ],
      "text/plain": [
       "   province_name             n  \n",
       "1  Alberta                   649\n",
       "2  British Columbia          663\n",
       "3  Canada                    663\n",
       "4  Manitoba                  647\n",
       "5  New Brunswick             647\n",
       "6  Newfoundland and Labrador 647\n",
       "7  Northwest Territories     647\n",
       "8  Nova Scotia               647\n",
       "9  Nunavut                   647\n",
       "10 Ontario                   663\n",
       "11 Prince Edward Island      647\n",
       "12 Quebec                    654\n",
       "13 Repatriated travellers    647\n",
       "14 Saskatchewan              647\n",
       "15 Yukon                     647"
      ]
     },
     "metadata": {},
     "output_type": "display_data"
    }
   ],
   "source": [
    "observations <- group_by(covid_19,province_name)%>%\n",
    "summarize(n=n())\n",
    "observations"
   ]
  },
  {
   "cell_type": "code",
   "execution_count": 18,
   "id": "005697c6-8933-40e5-bf38-eda8c97ca433",
   "metadata": {},
   "outputs": [
    {
     "data": {
      "text/html": [
       "<table class=\"dataframe\">\n",
       "<caption>A tibble: 1 × 10</caption>\n",
       "<thead>\n",
       "\t<tr><th scope=col>province_name</th><th scope=col>date</th><th scope=col>confirmed</th><th scope=col>probable</th><th scope=col>death</th><th scope=col>total</th><th scope=col>tested</th><th scope=col>recover</th><th scope=col>recover_percent</th><th scope=col>test_rate</th></tr>\n",
       "\t<tr><th scope=col>&lt;int&gt;</th><th scope=col>&lt;int&gt;</th><th scope=col>&lt;int&gt;</th><th scope=col>&lt;int&gt;</th><th scope=col>&lt;int&gt;</th><th scope=col>&lt;int&gt;</th><th scope=col>&lt;int&gt;</th><th scope=col>&lt;int&gt;</th><th scope=col>&lt;int&gt;</th><th scope=col>&lt;int&gt;</th></tr>\n",
       "</thead>\n",
       "<tbody>\n",
       "\t<tr><td>0</td><td>0</td><td>0</td><td>3450</td><td>119</td><td>0</td><td>4857</td><td>524</td><td>524</td><td>5196</td></tr>\n",
       "</tbody>\n",
       "</table>\n"
      ],
      "text/latex": [
       "A tibble: 1 × 10\n",
       "\\begin{tabular}{llllllllll}\n",
       " province\\_name & date & confirmed & probable & death & total & tested & recover & recover\\_percent & test\\_rate\\\\\n",
       " <int> & <int> & <int> & <int> & <int> & <int> & <int> & <int> & <int> & <int>\\\\\n",
       "\\hline\n",
       "\t 0 & 0 & 0 & 3450 & 119 & 0 & 4857 & 524 & 524 & 5196\\\\\n",
       "\\end{tabular}\n"
      ],
      "text/markdown": [
       "\n",
       "A tibble: 1 × 10\n",
       "\n",
       "| province_name &lt;int&gt; | date &lt;int&gt; | confirmed &lt;int&gt; | probable &lt;int&gt; | death &lt;int&gt; | total &lt;int&gt; | tested &lt;int&gt; | recover &lt;int&gt; | recover_percent &lt;int&gt; | test_rate &lt;int&gt; |\n",
       "|---|---|---|---|---|---|---|---|---|---|\n",
       "| 0 | 0 | 0 | 3450 | 119 | 0 | 4857 | 524 | 524 | 5196 |\n",
       "\n"
      ],
      "text/plain": [
       "  province_name date confirmed probable death total tested recover\n",
       "1 0             0    0         3450     119   0     4857   524    \n",
       "  recover_percent test_rate\n",
       "1 524             5196     "
      ]
     },
     "metadata": {},
     "output_type": "display_data"
    }
   ],
   "source": [
    "missing <- covid_19 %>% summarise_all(~ sum(is.na(.)))\n",
    "missing"
   ]
  },
  {
   "cell_type": "markdown",
   "id": "153d518b-5d9e-49c7-bfff-f8639cf7ee81",
   "metadata": {},
   "source": []
  }
 ],
 "metadata": {
  "kernelspec": {
   "display_name": "R",
   "language": "R",
   "name": "ir"
  },
  "language_info": {
   "codemirror_mode": "r",
   "file_extension": ".r",
   "mimetype": "text/x-r-source",
   "name": "R",
   "pygments_lexer": "r",
   "version": "4.1.3"
  }
 },
 "nbformat": 4,
 "nbformat_minor": 5
}
