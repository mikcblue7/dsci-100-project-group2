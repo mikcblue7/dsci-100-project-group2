{
 "cells": [
  {
   "cell_type": "code",
   "execution_count": null,
   "id": "742fe55b-6f37-4386-96a1-d09e84cd1551",
   "metadata": {},
   "outputs": [],
   "source": [
    "Jason Ji (69217222), Mikayla Chau (29043288), Linda Zhang (95711800), Alireza Mohammadi (20700985)"
   ]
  }
 ],
 "metadata": {
  "kernelspec": {
   "display_name": "R",
   "language": "R",
   "name": "ir"
  },
  "language_info": {
   "codemirror_mode": "r",
   "file_extension": ".r",
   "mimetype": "text/x-r-source",
   "name": "R",
   "pygments_lexer": "r",
   "version": "4.1.3"
  }
 },
 "nbformat": 4,
 "nbformat_minor": 5
}
