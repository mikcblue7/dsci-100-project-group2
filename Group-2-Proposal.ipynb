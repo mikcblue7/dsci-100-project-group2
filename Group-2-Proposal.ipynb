{
 "cells": [
  {
   "cell_type": "markdown",
   "id": "82571850-76be-42a6-8087-9e8deea013f9",
   "metadata": {},
   "source": [
    "# Predicting which Canadian province will have the highest percentage of COVID-19 recoveries\n",
    "### Group Members\n",
    "Jason Ji (69217222), Mikayla Chau (29043288), Linda Zhang (95711800), Alireza Mohammadi (20700985)"
   ]
  },
  {
   "cell_type": "code",
   "execution_count": 56,
   "id": "bf75b4dd-98eb-46a1-82d5-e2761062def5",
   "metadata": {},
   "outputs": [],
   "source": [
    "set.seed(36)\n",
    "library(tidyverse)\n",
    "library(repr)\n",
    "library(tidymodels)\n",
    "options(repr.matrix.max.rows = 6)"
   ]
  },
  {
   "cell_type": "markdown",
   "id": "8129fcdc-108b-4e7e-8c16-a40620b171f0",
   "metadata": {},
   "source": [
    "### Intoduction\n",
    "\n",
    "COVID-19 is an infectious disease caused by the SARS-CoV-2 virus (Government of Canada). The first known case was identified in Wuhan, China, on December 12th 2019 (CDC Museum Covid-19 Timeline). The disease quickly spread worldwide, resulting in the COVID-19 pandemic. Canada has also been severely impacted by COVID-19. According to the Government of Canada, some people are at higher risk of more severe disease or outcomes from COVID-19 than others. Although there are a number of available vaccines and treatments, there were nearly 4,300,000 infected people by the end of September, 2022. Ontario has the highest total number of infected people, at nearly 1,470,000, however, the total number of infected people in Nunavut is just 3531 (Government of Canada). Because the Yukon, Northwest Territories and Nunavut are three provinces that are close to the Arctic Circle, there are not as many people living there compared to the other 10 provinces, which causes a huge difference in the number of the total infected people. This means that comparing the absolute number of recoveries would lead to a biased data set; the number of recoveries in Ontario will be more than recoveries in Nunavut solely because there are more people. As such, we will be comparing the percent recovered from COVID-19, allowing for a fairer playing field across the provinces.\n",
    "\n",
    "In this project, we will try to predict which Canadian province will have the highest percentage of COVID-19 recoveries in December 2022. In order to do so we will investigate public health information gathered from different Canadian provinces from the end of January 2020 to the end of December 2021, and create a classification model able to predict which province has the highest percent recovery rate. Then once that model has been trained and tested, we will complete one last test on COVID-19 data for December 2022, ensuring our model works.\n",
    "\n",
    "The dataset we used for this project was taken from https://health-infobase.canada.ca/ (Government of Canada) based on data that provincial and territorial partners published on cases and deaths. This data contains daily information of COVID-19 cases from February 2020 until October 2022. There are 7 important properties for each data report:\n",
    "\n",
    "1. province : Canada province/territory (P/T) from which the information was reported, containing names of 13 Canadian provinces and territories.\n",
    "2. date : Date of recorded observation\n",
    "3. numconf : Number of confirmed cases in each P/T (Canada= sum of all P/T)\n",
    "4. numprob : Number of probable cases in each P/T (Canada= sum of all P/T)\n",
    "5. numdeaths : Number of deaths in each P/T (Canada= sum of all P/T)\n",
    "6. numtotal : Total number of cases, calculated by number of confirmed cases plus number of probable cases.\n",
    "7. Percentrecover : Percentage of recovered cases, Calculated by the number of recovered cases for P/T divided by the total number of confirmed cases for that P/T [(numrecover/numtotal) * 100]\n",
    "\n",
    "As of October 21, 2022, 9 am ET,Public Health Agency of Canada(PHAC) has received detailed case report data on 4,135,488 cases.\n",
    "\n",
    "\n",
    "\n",
    "References:\n",
    "\n",
    "Public Health Agency. “Government of Canada.” Canada.ca, Government of Canada, 18 Aug. 2022, https://www.canada.ca/en/public-health/services/diseases/2019-novel-coronavirus-infection.html\n",
    "“CDC Museum Covid-19 Timeline.” David J. Sencer CDC Museum: In Association with the Smithsonian Institution, Centers for Disease Control and Prevention, 16 Aug. 2022, https://www.cdc.gov/museum/timeline/covid19.html. "
   ]
  },
  {
   "cell_type": "markdown",
   "id": "e791c4a4-da0e-4974-ae8e-28613ac7265e",
   "metadata": {},
   "source": [
    "### Preliminary Data Analysis"
   ]
  },
  {
   "cell_type": "markdown",
   "id": "dfb1b946-1237-43b6-b59b-b3392c746b9d",
   "metadata": {},
   "source": [
    "The data is mostly tidy, however there are many columns we do not need for our analysis. Tidying the data included taking out these unwanted columns, any unwanted rows (Canada and Repatriated Travellers), and changing some column names to make it more reader-friendly. First, we read the data into R (NOTE: This data is for January 31, 2020 to December 17, 2021)."
   ]
  },
  {
   "cell_type": "code",
   "execution_count": 57,
   "id": "e4063913-ec92-45cf-9912-7dc0f8d002fb",
   "metadata": {},
   "outputs": [
    {
     "name": "stderr",
     "output_type": "stream",
     "text": [
      "\u001b[1mRows: \u001b[22m\u001b[34m9762\u001b[39m \u001b[1mColumns: \u001b[22m\u001b[34m40\u001b[39m\n",
      "\u001b[36m──\u001b[39m \u001b[1mColumn specification\u001b[22m \u001b[36m────────────────────────────────────────────────────────\u001b[39m\n",
      "\u001b[1mDelimiter:\u001b[22m \",\"\n",
      "\u001b[31mchr\u001b[39m   (3): prname, prnameFR, percentrecover\n",
      "\u001b[32mdbl\u001b[39m  (36): pruid, update, numconf, numprob, numdeaths, numtotal, numtested, ...\n",
      "\u001b[34mdate\u001b[39m  (1): date\n",
      "\n",
      "\u001b[36mℹ\u001b[39m Use `spec()` to retrieve the full column specification for this data.\n",
      "\u001b[36mℹ\u001b[39m Specify the column types or set `show_col_types = FALSE` to quiet this message.\n"
     ]
    },
    {
     "data": {
      "text/html": [
       "<table class=\"dataframe\">\n",
       "<caption>A spec_tbl_df: 9762 × 40</caption>\n",
       "<thead>\n",
       "\t<tr><th scope=col>pruid</th><th scope=col>prname</th><th scope=col>prnameFR</th><th scope=col>date</th><th scope=col>update</th><th scope=col>numconf</th><th scope=col>numprob</th><th scope=col>numdeaths</th><th scope=col>numtotal</th><th scope=col>numtested</th><th scope=col>⋯</th><th scope=col>ratedeaths_last14</th><th scope=col>numtotal_last7</th><th scope=col>ratetotal_last7</th><th scope=col>numdeaths_last7</th><th scope=col>ratedeaths_last7</th><th scope=col>avgtotal_last7</th><th scope=col>avgincidence_last7</th><th scope=col>avgdeaths_last7</th><th scope=col>avgratedeaths_last7</th><th scope=col>raterecovered</th></tr>\n",
       "\t<tr><th scope=col>&lt;dbl&gt;</th><th scope=col>&lt;chr&gt;</th><th scope=col>&lt;chr&gt;</th><th scope=col>&lt;date&gt;</th><th scope=col>&lt;dbl&gt;</th><th scope=col>&lt;dbl&gt;</th><th scope=col>&lt;dbl&gt;</th><th scope=col>&lt;dbl&gt;</th><th scope=col>&lt;dbl&gt;</th><th scope=col>&lt;dbl&gt;</th><th scope=col>⋯</th><th scope=col>&lt;dbl&gt;</th><th scope=col>&lt;dbl&gt;</th><th scope=col>&lt;dbl&gt;</th><th scope=col>&lt;dbl&gt;</th><th scope=col>&lt;dbl&gt;</th><th scope=col>&lt;dbl&gt;</th><th scope=col>&lt;dbl&gt;</th><th scope=col>&lt;dbl&gt;</th><th scope=col>&lt;dbl&gt;</th><th scope=col>&lt;dbl&gt;</th></tr>\n",
       "</thead>\n",
       "<tbody>\n",
       "\t<tr><td>35</td><td>Ontario         </td><td>Ontario             </td><td>2020-01-31</td><td>NA</td><td>3</td><td>0</td><td>0</td><td>3</td><td>NA</td><td>⋯</td><td>NA</td><td>NA</td><td>NA</td><td>NA</td><td>NA</td><td>NA</td><td>NA</td><td>NA</td><td>NA</td><td>0</td></tr>\n",
       "\t<tr><td>59</td><td>British Columbia</td><td>Colombie-Britannique</td><td>2020-01-31</td><td>NA</td><td>1</td><td>0</td><td>0</td><td>1</td><td>NA</td><td>⋯</td><td>NA</td><td>NA</td><td>NA</td><td>NA</td><td>NA</td><td>NA</td><td>NA</td><td>NA</td><td>NA</td><td>0</td></tr>\n",
       "\t<tr><td> 1</td><td>Canada          </td><td>Canada              </td><td>2020-01-31</td><td>NA</td><td>4</td><td>0</td><td>0</td><td>4</td><td>NA</td><td>⋯</td><td>NA</td><td>NA</td><td>NA</td><td>NA</td><td>NA</td><td>NA</td><td>NA</td><td>NA</td><td>NA</td><td>0</td></tr>\n",
       "\t<tr><td>⋮</td><td>⋮</td><td>⋮</td><td>⋮</td><td>⋮</td><td>⋮</td><td>⋮</td><td>⋮</td><td>⋮</td><td>⋮</td><td>⋱</td><td>⋮</td><td>⋮</td><td>⋮</td><td>⋮</td><td>⋮</td><td>⋮</td><td>⋮</td><td>⋮</td><td>⋮</td><td>⋮</td></tr>\n",
       "\t<tr><td>62</td><td>Nunavut               </td><td>Nunavut            </td><td>2021-12-17</td><td> 1</td><td>    676</td><td>NA</td><td>    4</td><td>    676</td><td>NA</td><td>⋯</td><td>0.00</td><td>    0</td><td>  0.00</td><td>  0</td><td>0.00</td><td>   0</td><td> 0.00</td><td> 0</td><td>0.00</td><td> 0.00</td></tr>\n",
       "\t<tr><td>99</td><td>Repatriated travellers</td><td>Voyageurs rapatriés</td><td>2021-12-17</td><td>NA</td><td>     13</td><td>NA</td><td>    0</td><td>     13</td><td>NA</td><td>⋯</td><td>  NA</td><td>    0</td><td>    NA</td><td>  0</td><td>  NA</td><td>   0</td><td>   NA</td><td> 0</td><td>  NA</td><td>   NA</td></tr>\n",
       "\t<tr><td> 1</td><td>Canada                </td><td>Canada             </td><td>2021-12-17</td><td>NA</td><td>1866907</td><td>NA</td><td>30032</td><td>1866907</td><td>NA</td><td>⋯</td><td>0.72</td><td>39216</td><td>102.54</td><td>132</td><td>0.35</td><td>5602</td><td>14.65</td><td>19</td><td>0.05</td><td>10.85</td></tr>\n",
       "</tbody>\n",
       "</table>\n"
      ],
      "text/latex": [
       "A spec\\_tbl\\_df: 9762 × 40\n",
       "\\begin{tabular}{lllllllllllllllllllll}\n",
       " pruid & prname & prnameFR & date & update & numconf & numprob & numdeaths & numtotal & numtested & ⋯ & ratedeaths\\_last14 & numtotal\\_last7 & ratetotal\\_last7 & numdeaths\\_last7 & ratedeaths\\_last7 & avgtotal\\_last7 & avgincidence\\_last7 & avgdeaths\\_last7 & avgratedeaths\\_last7 & raterecovered\\\\\n",
       " <dbl> & <chr> & <chr> & <date> & <dbl> & <dbl> & <dbl> & <dbl> & <dbl> & <dbl> & ⋯ & <dbl> & <dbl> & <dbl> & <dbl> & <dbl> & <dbl> & <dbl> & <dbl> & <dbl> & <dbl>\\\\\n",
       "\\hline\n",
       "\t 35 & Ontario          & Ontario              & 2020-01-31 & NA & 3 & 0 & 0 & 3 & NA & ⋯ & NA & NA & NA & NA & NA & NA & NA & NA & NA & 0\\\\\n",
       "\t 59 & British Columbia & Colombie-Britannique & 2020-01-31 & NA & 1 & 0 & 0 & 1 & NA & ⋯ & NA & NA & NA & NA & NA & NA & NA & NA & NA & 0\\\\\n",
       "\t  1 & Canada           & Canada               & 2020-01-31 & NA & 4 & 0 & 0 & 4 & NA & ⋯ & NA & NA & NA & NA & NA & NA & NA & NA & NA & 0\\\\\n",
       "\t ⋮ & ⋮ & ⋮ & ⋮ & ⋮ & ⋮ & ⋮ & ⋮ & ⋮ & ⋮ & ⋱ & ⋮ & ⋮ & ⋮ & ⋮ & ⋮ & ⋮ & ⋮ & ⋮ & ⋮ & ⋮\\\\\n",
       "\t 62 & Nunavut                & Nunavut             & 2021-12-17 &  1 &     676 & NA &     4 &     676 & NA & ⋯ & 0.00 &     0 &   0.00 &   0 & 0.00 &    0 &  0.00 &  0 & 0.00 &  0.00\\\\\n",
       "\t 99 & Repatriated travellers & Voyageurs rapatriés & 2021-12-17 & NA &      13 & NA &     0 &      13 & NA & ⋯ &   NA &     0 &     NA &   0 &   NA &    0 &    NA &  0 &   NA &    NA\\\\\n",
       "\t  1 & Canada                 & Canada              & 2021-12-17 & NA & 1866907 & NA & 30032 & 1866907 & NA & ⋯ & 0.72 & 39216 & 102.54 & 132 & 0.35 & 5602 & 14.65 & 19 & 0.05 & 10.85\\\\\n",
       "\\end{tabular}\n"
      ],
      "text/markdown": [
       "\n",
       "A spec_tbl_df: 9762 × 40\n",
       "\n",
       "| pruid &lt;dbl&gt; | prname &lt;chr&gt; | prnameFR &lt;chr&gt; | date &lt;date&gt; | update &lt;dbl&gt; | numconf &lt;dbl&gt; | numprob &lt;dbl&gt; | numdeaths &lt;dbl&gt; | numtotal &lt;dbl&gt; | numtested &lt;dbl&gt; | ⋯ ⋯ | ratedeaths_last14 &lt;dbl&gt; | numtotal_last7 &lt;dbl&gt; | ratetotal_last7 &lt;dbl&gt; | numdeaths_last7 &lt;dbl&gt; | ratedeaths_last7 &lt;dbl&gt; | avgtotal_last7 &lt;dbl&gt; | avgincidence_last7 &lt;dbl&gt; | avgdeaths_last7 &lt;dbl&gt; | avgratedeaths_last7 &lt;dbl&gt; | raterecovered &lt;dbl&gt; |\n",
       "|---|---|---|---|---|---|---|---|---|---|---|---|---|---|---|---|---|---|---|---|---|\n",
       "| 35 | Ontario          | Ontario              | 2020-01-31 | NA | 3 | 0 | 0 | 3 | NA | ⋯ | NA | NA | NA | NA | NA | NA | NA | NA | NA | 0 |\n",
       "| 59 | British Columbia | Colombie-Britannique | 2020-01-31 | NA | 1 | 0 | 0 | 1 | NA | ⋯ | NA | NA | NA | NA | NA | NA | NA | NA | NA | 0 |\n",
       "|  1 | Canada           | Canada               | 2020-01-31 | NA | 4 | 0 | 0 | 4 | NA | ⋯ | NA | NA | NA | NA | NA | NA | NA | NA | NA | 0 |\n",
       "| ⋮ | ⋮ | ⋮ | ⋮ | ⋮ | ⋮ | ⋮ | ⋮ | ⋮ | ⋮ | ⋱ | ⋮ | ⋮ | ⋮ | ⋮ | ⋮ | ⋮ | ⋮ | ⋮ | ⋮ | ⋮ |\n",
       "| 62 | Nunavut                | Nunavut             | 2021-12-17 |  1 |     676 | NA |     4 |     676 | NA | ⋯ | 0.00 |     0 |   0.00 |   0 | 0.00 |    0 |  0.00 |  0 | 0.00 |  0.00 |\n",
       "| 99 | Repatriated travellers | Voyageurs rapatriés | 2021-12-17 | NA |      13 | NA |     0 |      13 | NA | ⋯ |   NA |     0 |     NA |   0 |   NA |    0 |    NA |  0 |   NA |    NA |\n",
       "|  1 | Canada                 | Canada              | 2021-12-17 | NA | 1866907 | NA | 30032 | 1866907 | NA | ⋯ | 0.72 | 39216 | 102.54 | 132 | 0.35 | 5602 | 14.65 | 19 | 0.05 | 10.85 |\n",
       "\n"
      ],
      "text/plain": [
       "     pruid prname                 prnameFR             date       update\n",
       "1    35    Ontario                Ontario              2020-01-31 NA    \n",
       "2    59    British Columbia       Colombie-Britannique 2020-01-31 NA    \n",
       "3     1    Canada                 Canada               2020-01-31 NA    \n",
       "⋮    ⋮     ⋮                      ⋮                    ⋮          ⋮     \n",
       "9760 62    Nunavut                Nunavut              2021-12-17  1    \n",
       "9761 99    Repatriated travellers Voyageurs rapatriés  2021-12-17 NA    \n",
       "9762  1    Canada                 Canada               2021-12-17 NA    \n",
       "     numconf numprob numdeaths numtotal numtested ⋯ ratedeaths_last14\n",
       "1    3       0       0         3        NA        ⋯ NA               \n",
       "2    1       0       0         1        NA        ⋯ NA               \n",
       "3    4       0       0         4        NA        ⋯ NA               \n",
       "⋮    ⋮       ⋮       ⋮         ⋮        ⋮         ⋱ ⋮                \n",
       "9760     676 NA          4         676  NA        ⋯ 0.00             \n",
       "9761      13 NA          0          13  NA        ⋯   NA             \n",
       "9762 1866907 NA      30032     1866907  NA        ⋯ 0.72             \n",
       "     numtotal_last7 ratetotal_last7 numdeaths_last7 ratedeaths_last7\n",
       "1    NA             NA              NA              NA              \n",
       "2    NA             NA              NA              NA              \n",
       "3    NA             NA              NA              NA              \n",
       "⋮    ⋮              ⋮               ⋮               ⋮               \n",
       "9760     0            0.00            0             0.00            \n",
       "9761     0              NA            0               NA            \n",
       "9762 39216          102.54          132             0.35            \n",
       "     avgtotal_last7 avgincidence_last7 avgdeaths_last7 avgratedeaths_last7\n",
       "1    NA             NA                 NA              NA                 \n",
       "2    NA             NA                 NA              NA                 \n",
       "3    NA             NA                 NA              NA                 \n",
       "⋮    ⋮              ⋮                  ⋮               ⋮                  \n",
       "9760    0            0.00               0              0.00               \n",
       "9761    0              NA               0                NA               \n",
       "9762 5602           14.65              19              0.05               \n",
       "     raterecovered\n",
       "1    0            \n",
       "2    0            \n",
       "3    0            \n",
       "⋮    ⋮            \n",
       "9760  0.00        \n",
       "9761    NA        \n",
       "9762 10.85        "
      ]
     },
     "metadata": {},
     "output_type": "display_data"
    }
   ],
   "source": [
    "covid <- read_csv(\"canada-covid-19.csv\")\n",
    "covid"
   ]
  },
  {
   "cell_type": "markdown",
   "id": "32dedf62-f266-4cb4-8960-ff50240d4ea3",
   "metadata": {},
   "source": [
    "Next, we tidy our data, keeping only the columns we will use for our model."
   ]
  },
  {
   "cell_type": "code",
   "execution_count": 58,
   "id": "56c5cabf-4705-40c2-a1dc-6558b1f77cc3",
   "metadata": {},
   "outputs": [
    {
     "name": "stderr",
     "output_type": "stream",
     "text": [
      "Warning message in mask$eval_all_mutate(quo):\n",
      "“NAs introduced by coercion”\n"
     ]
    },
    {
     "data": {
      "text/html": [
       "<table class=\"dataframe\">\n",
       "<caption>A grouped_df: 8452 × 7</caption>\n",
       "<thead>\n",
       "\t<tr><th scope=col>province</th><th scope=col>date</th><th scope=col>numconf</th><th scope=col>numprob</th><th scope=col>numdeaths</th><th scope=col>numtotal</th><th scope=col>percentrecover</th></tr>\n",
       "\t<tr><th scope=col>&lt;chr&gt;</th><th scope=col>&lt;date&gt;</th><th scope=col>&lt;dbl&gt;</th><th scope=col>&lt;dbl&gt;</th><th scope=col>&lt;dbl&gt;</th><th scope=col>&lt;dbl&gt;</th><th scope=col>&lt;dbl&gt;</th></tr>\n",
       "</thead>\n",
       "<tbody>\n",
       "\t<tr><td>Ontario         </td><td>2020-01-31</td><td>3</td><td>0</td><td>0</td><td>3</td><td>NA</td></tr>\n",
       "\t<tr><td>British Columbia</td><td>2020-01-31</td><td>1</td><td>0</td><td>0</td><td>1</td><td>NA</td></tr>\n",
       "\t<tr><td>Ontario         </td><td>2020-02-08</td><td>3</td><td>0</td><td>0</td><td>3</td><td>NA</td></tr>\n",
       "\t<tr><td>⋮</td><td>⋮</td><td>⋮</td><td>⋮</td><td>⋮</td><td>⋮</td><td>⋮</td></tr>\n",
       "\t<tr><td>Yukon                </td><td>2021-12-17</td><td>1621</td><td>NA</td><td>14</td><td>1621</td><td>96.79</td></tr>\n",
       "\t<tr><td>Northwest Territories</td><td>2021-12-17</td><td>2082</td><td>NA</td><td>12</td><td>2082</td><td>98.75</td></tr>\n",
       "\t<tr><td>Nunavut              </td><td>2021-12-17</td><td> 676</td><td>NA</td><td> 4</td><td> 676</td><td>99.26</td></tr>\n",
       "</tbody>\n",
       "</table>\n"
      ],
      "text/latex": [
       "A grouped\\_df: 8452 × 7\n",
       "\\begin{tabular}{lllllll}\n",
       " province & date & numconf & numprob & numdeaths & numtotal & percentrecover\\\\\n",
       " <chr> & <date> & <dbl> & <dbl> & <dbl> & <dbl> & <dbl>\\\\\n",
       "\\hline\n",
       "\t Ontario          & 2020-01-31 & 3 & 0 & 0 & 3 & NA\\\\\n",
       "\t British Columbia & 2020-01-31 & 1 & 0 & 0 & 1 & NA\\\\\n",
       "\t Ontario          & 2020-02-08 & 3 & 0 & 0 & 3 & NA\\\\\n",
       "\t ⋮ & ⋮ & ⋮ & ⋮ & ⋮ & ⋮ & ⋮\\\\\n",
       "\t Yukon                 & 2021-12-17 & 1621 & NA & 14 & 1621 & 96.79\\\\\n",
       "\t Northwest Territories & 2021-12-17 & 2082 & NA & 12 & 2082 & 98.75\\\\\n",
       "\t Nunavut               & 2021-12-17 &  676 & NA &  4 &  676 & 99.26\\\\\n",
       "\\end{tabular}\n"
      ],
      "text/markdown": [
       "\n",
       "A grouped_df: 8452 × 7\n",
       "\n",
       "| province &lt;chr&gt; | date &lt;date&gt; | numconf &lt;dbl&gt; | numprob &lt;dbl&gt; | numdeaths &lt;dbl&gt; | numtotal &lt;dbl&gt; | percentrecover &lt;dbl&gt; |\n",
       "|---|---|---|---|---|---|---|\n",
       "| Ontario          | 2020-01-31 | 3 | 0 | 0 | 3 | NA |\n",
       "| British Columbia | 2020-01-31 | 1 | 0 | 0 | 1 | NA |\n",
       "| Ontario          | 2020-02-08 | 3 | 0 | 0 | 3 | NA |\n",
       "| ⋮ | ⋮ | ⋮ | ⋮ | ⋮ | ⋮ | ⋮ |\n",
       "| Yukon                 | 2021-12-17 | 1621 | NA | 14 | 1621 | 96.79 |\n",
       "| Northwest Territories | 2021-12-17 | 2082 | NA | 12 | 2082 | 98.75 |\n",
       "| Nunavut               | 2021-12-17 |  676 | NA |  4 |  676 | 99.26 |\n",
       "\n"
      ],
      "text/plain": [
       "     province              date       numconf numprob numdeaths numtotal\n",
       "1    Ontario               2020-01-31 3       0       0         3       \n",
       "2    British Columbia      2020-01-31 1       0       0         1       \n",
       "3    Ontario               2020-02-08 3       0       0         3       \n",
       "⋮    ⋮                     ⋮          ⋮       ⋮       ⋮         ⋮       \n",
       "8450 Yukon                 2021-12-17 1621    NA      14        1621    \n",
       "8451 Northwest Territories 2021-12-17 2082    NA      12        2082    \n",
       "8452 Nunavut               2021-12-17  676    NA       4         676    \n",
       "     percentrecover\n",
       "1    NA            \n",
       "2    NA            \n",
       "3    NA            \n",
       "⋮    ⋮             \n",
       "8450 96.79         \n",
       "8451 98.75         \n",
       "8452 99.26         "
      ]
     },
     "metadata": {},
     "output_type": "display_data"
    }
   ],
   "source": [
    "tidy_covid <- covid |> \n",
    "    mutate(province = prname) |>\n",
    "    mutate(percentrecover = as.numeric(percentrecover)) |>\n",
    "    select(province, date, numconf, numprob, numdeaths, numtotal, percentrecover) |>\n",
    "    filter(province != \"Repatriated travellers\") |>\n",
    "    filter(province != \"Canada\") |>\n",
    "    group_by(province)\n",
    "tidy_covid"
   ]
  },
  {
   "cell_type": "markdown",
   "id": "87e97b4e-5e12-45a7-9382-045a38dea876",
   "metadata": {},
   "source": [
    "Next, we split our data set into a training and testing set, ensuring our model will not be affected by the data we will test it with."
   ]
  },
  {
   "cell_type": "code",
   "execution_count": 59,
   "id": "3ab18bac-921f-4d69-9b19-9ab81cb52a53",
   "metadata": {},
   "outputs": [
    {
     "name": "stderr",
     "output_type": "stream",
     "text": [
      "Warning message:\n",
      "“Too little data to stratify.\n",
      "\u001b[36m•\u001b[39m Resampling will be unstratified.”\n"
     ]
    },
    {
     "data": {
      "text/html": [
       "<table class=\"dataframe\">\n",
       "<caption>A grouped_df: 6339 × 7</caption>\n",
       "<thead>\n",
       "\t<tr><th scope=col>province</th><th scope=col>date</th><th scope=col>numconf</th><th scope=col>numprob</th><th scope=col>numdeaths</th><th scope=col>numtotal</th><th scope=col>percentrecover</th></tr>\n",
       "\t<tr><th scope=col>&lt;chr&gt;</th><th scope=col>&lt;date&gt;</th><th scope=col>&lt;dbl&gt;</th><th scope=col>&lt;dbl&gt;</th><th scope=col>&lt;dbl&gt;</th><th scope=col>&lt;dbl&gt;</th><th scope=col>&lt;dbl&gt;</th></tr>\n",
       "</thead>\n",
       "<tbody>\n",
       "\t<tr><td>Ontario         </td><td>2020-01-31</td><td>3</td><td>0</td><td>0</td><td>3</td><td>NA</td></tr>\n",
       "\t<tr><td>British Columbia</td><td>2020-01-31</td><td>1</td><td>0</td><td>0</td><td>1</td><td>NA</td></tr>\n",
       "\t<tr><td>Ontario         </td><td>2020-02-16</td><td>3</td><td>0</td><td>0</td><td>3</td><td>NA</td></tr>\n",
       "\t<tr><td>⋮</td><td>⋮</td><td>⋮</td><td>⋮</td><td>⋮</td><td>⋮</td><td>⋮</td></tr>\n",
       "\t<tr><td>Yukon                </td><td>2021-12-17</td><td>1621</td><td>NA</td><td>14</td><td>1621</td><td>96.79</td></tr>\n",
       "\t<tr><td>Northwest Territories</td><td>2021-12-17</td><td>2082</td><td>NA</td><td>12</td><td>2082</td><td>98.75</td></tr>\n",
       "\t<tr><td>Nunavut              </td><td>2021-12-17</td><td> 676</td><td>NA</td><td> 4</td><td> 676</td><td>99.26</td></tr>\n",
       "</tbody>\n",
       "</table>\n"
      ],
      "text/latex": [
       "A grouped\\_df: 6339 × 7\n",
       "\\begin{tabular}{lllllll}\n",
       " province & date & numconf & numprob & numdeaths & numtotal & percentrecover\\\\\n",
       " <chr> & <date> & <dbl> & <dbl> & <dbl> & <dbl> & <dbl>\\\\\n",
       "\\hline\n",
       "\t Ontario          & 2020-01-31 & 3 & 0 & 0 & 3 & NA\\\\\n",
       "\t British Columbia & 2020-01-31 & 1 & 0 & 0 & 1 & NA\\\\\n",
       "\t Ontario          & 2020-02-16 & 3 & 0 & 0 & 3 & NA\\\\\n",
       "\t ⋮ & ⋮ & ⋮ & ⋮ & ⋮ & ⋮ & ⋮\\\\\n",
       "\t Yukon                 & 2021-12-17 & 1621 & NA & 14 & 1621 & 96.79\\\\\n",
       "\t Northwest Territories & 2021-12-17 & 2082 & NA & 12 & 2082 & 98.75\\\\\n",
       "\t Nunavut               & 2021-12-17 &  676 & NA &  4 &  676 & 99.26\\\\\n",
       "\\end{tabular}\n"
      ],
      "text/markdown": [
       "\n",
       "A grouped_df: 6339 × 7\n",
       "\n",
       "| province &lt;chr&gt; | date &lt;date&gt; | numconf &lt;dbl&gt; | numprob &lt;dbl&gt; | numdeaths &lt;dbl&gt; | numtotal &lt;dbl&gt; | percentrecover &lt;dbl&gt; |\n",
       "|---|---|---|---|---|---|---|\n",
       "| Ontario          | 2020-01-31 | 3 | 0 | 0 | 3 | NA |\n",
       "| British Columbia | 2020-01-31 | 1 | 0 | 0 | 1 | NA |\n",
       "| Ontario          | 2020-02-16 | 3 | 0 | 0 | 3 | NA |\n",
       "| ⋮ | ⋮ | ⋮ | ⋮ | ⋮ | ⋮ | ⋮ |\n",
       "| Yukon                 | 2021-12-17 | 1621 | NA | 14 | 1621 | 96.79 |\n",
       "| Northwest Territories | 2021-12-17 | 2082 | NA | 12 | 2082 | 98.75 |\n",
       "| Nunavut               | 2021-12-17 |  676 | NA |  4 |  676 | 99.26 |\n",
       "\n"
      ],
      "text/plain": [
       "     province              date       numconf numprob numdeaths numtotal\n",
       "1    Ontario               2020-01-31 3       0       0         3       \n",
       "2    British Columbia      2020-01-31 1       0       0         1       \n",
       "3    Ontario               2020-02-16 3       0       0         3       \n",
       "⋮    ⋮                     ⋮          ⋮       ⋮       ⋮         ⋮       \n",
       "6337 Yukon                 2021-12-17 1621    NA      14        1621    \n",
       "6338 Northwest Territories 2021-12-17 2082    NA      12        2082    \n",
       "6339 Nunavut               2021-12-17  676    NA       4         676    \n",
       "     percentrecover\n",
       "1    NA            \n",
       "2    NA            \n",
       "3    NA            \n",
       "⋮    ⋮             \n",
       "6337 96.79         \n",
       "6338 98.75         \n",
       "6339 99.26         "
      ]
     },
     "metadata": {},
     "output_type": "display_data"
    },
    {
     "data": {
      "text/html": [
       "<table class=\"dataframe\">\n",
       "<caption>A grouped_df: 2113 × 7</caption>\n",
       "<thead>\n",
       "\t<tr><th scope=col>province</th><th scope=col>date</th><th scope=col>numconf</th><th scope=col>numprob</th><th scope=col>numdeaths</th><th scope=col>numtotal</th><th scope=col>percentrecover</th></tr>\n",
       "\t<tr><th scope=col>&lt;chr&gt;</th><th scope=col>&lt;date&gt;</th><th scope=col>&lt;dbl&gt;</th><th scope=col>&lt;dbl&gt;</th><th scope=col>&lt;dbl&gt;</th><th scope=col>&lt;dbl&gt;</th><th scope=col>&lt;dbl&gt;</th></tr>\n",
       "</thead>\n",
       "<tbody>\n",
       "\t<tr><td>Ontario         </td><td>2020-02-08</td><td>3</td><td>0</td><td>0</td><td>3</td><td>NA</td></tr>\n",
       "\t<tr><td>British Columbia</td><td>2020-02-08</td><td>4</td><td>0</td><td>0</td><td>4</td><td>NA</td></tr>\n",
       "\t<tr><td>British Columbia</td><td>2020-02-16</td><td>5</td><td>0</td><td>0</td><td>5</td><td>NA</td></tr>\n",
       "\t<tr><td>⋮</td><td>⋮</td><td>⋮</td><td>⋮</td><td>⋮</td><td>⋮</td><td>⋮</td></tr>\n",
       "\t<tr><td>Prince Edward Island</td><td>2021-12-16</td><td>  444</td><td>NA</td><td>   0</td><td>  444</td><td>88.96</td></tr>\n",
       "\t<tr><td>Manitoba            </td><td>2021-12-17</td><td>70785</td><td>NA</td><td>1360</td><td>70785</td><td>95.54</td></tr>\n",
       "\t<tr><td>New Brunswick       </td><td>2021-12-17</td><td>10313</td><td>NA</td><td> 146</td><td>10313</td><td>86.40</td></tr>\n",
       "</tbody>\n",
       "</table>\n"
      ],
      "text/latex": [
       "A grouped\\_df: 2113 × 7\n",
       "\\begin{tabular}{lllllll}\n",
       " province & date & numconf & numprob & numdeaths & numtotal & percentrecover\\\\\n",
       " <chr> & <date> & <dbl> & <dbl> & <dbl> & <dbl> & <dbl>\\\\\n",
       "\\hline\n",
       "\t Ontario          & 2020-02-08 & 3 & 0 & 0 & 3 & NA\\\\\n",
       "\t British Columbia & 2020-02-08 & 4 & 0 & 0 & 4 & NA\\\\\n",
       "\t British Columbia & 2020-02-16 & 5 & 0 & 0 & 5 & NA\\\\\n",
       "\t ⋮ & ⋮ & ⋮ & ⋮ & ⋮ & ⋮ & ⋮\\\\\n",
       "\t Prince Edward Island & 2021-12-16 &   444 & NA &    0 &   444 & 88.96\\\\\n",
       "\t Manitoba             & 2021-12-17 & 70785 & NA & 1360 & 70785 & 95.54\\\\\n",
       "\t New Brunswick        & 2021-12-17 & 10313 & NA &  146 & 10313 & 86.40\\\\\n",
       "\\end{tabular}\n"
      ],
      "text/markdown": [
       "\n",
       "A grouped_df: 2113 × 7\n",
       "\n",
       "| province &lt;chr&gt; | date &lt;date&gt; | numconf &lt;dbl&gt; | numprob &lt;dbl&gt; | numdeaths &lt;dbl&gt; | numtotal &lt;dbl&gt; | percentrecover &lt;dbl&gt; |\n",
       "|---|---|---|---|---|---|---|\n",
       "| Ontario          | 2020-02-08 | 3 | 0 | 0 | 3 | NA |\n",
       "| British Columbia | 2020-02-08 | 4 | 0 | 0 | 4 | NA |\n",
       "| British Columbia | 2020-02-16 | 5 | 0 | 0 | 5 | NA |\n",
       "| ⋮ | ⋮ | ⋮ | ⋮ | ⋮ | ⋮ | ⋮ |\n",
       "| Prince Edward Island | 2021-12-16 |   444 | NA |    0 |   444 | 88.96 |\n",
       "| Manitoba             | 2021-12-17 | 70785 | NA | 1360 | 70785 | 95.54 |\n",
       "| New Brunswick        | 2021-12-17 | 10313 | NA |  146 | 10313 | 86.40 |\n",
       "\n"
      ],
      "text/plain": [
       "     province             date       numconf numprob numdeaths numtotal\n",
       "1    Ontario              2020-02-08 3       0       0         3       \n",
       "2    British Columbia     2020-02-08 4       0       0         4       \n",
       "3    British Columbia     2020-02-16 5       0       0         5       \n",
       "⋮    ⋮                    ⋮          ⋮       ⋮       ⋮         ⋮       \n",
       "2111 Prince Edward Island 2021-12-16   444   NA         0        444   \n",
       "2112 Manitoba             2021-12-17 70785   NA      1360      70785   \n",
       "2113 New Brunswick        2021-12-17 10313   NA       146      10313   \n",
       "     percentrecover\n",
       "1    NA            \n",
       "2    NA            \n",
       "3    NA            \n",
       "⋮    ⋮             \n",
       "2111 88.96         \n",
       "2112 95.54         \n",
       "2113 86.40         "
      ]
     },
     "metadata": {},
     "output_type": "display_data"
    }
   ],
   "source": [
    "covid_split <- initial_split(tidy_covid, prop = 0.75, strata = province)\n",
    "covid_train <- training(covid_split)\n",
    "covid_test <- testing(covid_split)\n",
    "covid_train\n",
    "covid_test"
   ]
  },
  {
   "cell_type": "markdown",
   "id": "64d2da3c-2ae9-46c1-a0b7-15c1f1da1701",
   "metadata": {},
   "source": [
    "### Summary Tables\n",
    "\n",
    "The below table documents the average, minimum, and maximum values of each column."
   ]
  },
  {
   "cell_type": "code",
   "execution_count": 60,
   "id": "bda472fe-f929-413a-bb57-e6abcb66f253",
   "metadata": {},
   "outputs": [
    {
     "data": {
      "text/html": [
       "<table class=\"dataframe\">\n",
       "<caption>A tibble: 13 × 9</caption>\n",
       "<thead>\n",
       "\t<tr><th scope=col>province</th><th scope=col>min_conf</th><th scope=col>mean_conf</th><th scope=col>most_conf</th><th scope=col>min_death</th><th scope=col>mean_death</th><th scope=col>most_death</th><th scope=col>min_total</th><th scope=col>most_total</th></tr>\n",
       "\t<tr><th scope=col>&lt;chr&gt;</th><th scope=col>&lt;dbl&gt;</th><th scope=col>&lt;dbl&gt;</th><th scope=col>&lt;dbl&gt;</th><th scope=col>&lt;dbl&gt;</th><th scope=col>&lt;dbl&gt;</th><th scope=col>&lt;dbl&gt;</th><th scope=col>&lt;dbl&gt;</th><th scope=col>&lt;dbl&gt;</th></tr>\n",
       "</thead>\n",
       "<tbody>\n",
       "\t<tr><td>Alberta         </td><td>14</td><td>130984.11</td><td>341023</td><td>0</td><td>130976.36</td><td>3286</td><td>14</td><td>341023</td></tr>\n",
       "\t<tr><td>British Columbia</td><td> 1</td><td> 78322.58</td><td>225785</td><td>0</td><td> 78322.58</td><td>2399</td><td> 1</td><td>225785</td></tr>\n",
       "\t<tr><td>Manitoba        </td><td> 0</td><td> 28092.25</td><td> 70539</td><td>0</td><td> 28095.17</td><td>1359</td><td> 0</td><td> 70539</td></tr>\n",
       "\t<tr><td>⋮</td><td>⋮</td><td>⋮</td><td>⋮</td><td>⋮</td><td>⋮</td><td>⋮</td><td>⋮</td><td>⋮</td></tr>\n",
       "\t<tr><td>Quebec      </td><td>1</td><td>221218.1320</td><td>478246</td><td>0</td><td>221220.5680</td><td>11634</td><td>1</td><td>478246</td></tr>\n",
       "\t<tr><td>Saskatchewan</td><td>0</td><td> 27265.9607</td><td> 82069</td><td>0</td><td> 27266.1260</td><td>  942</td><td>1</td><td> 82069</td></tr>\n",
       "\t<tr><td>Yukon       </td><td>0</td><td>   245.4528</td><td>  1621</td><td>0</td><td>   245.4528</td><td>   14</td><td>0</td><td>  1621</td></tr>\n",
       "</tbody>\n",
       "</table>\n"
      ],
      "text/latex": [
       "A tibble: 13 × 9\n",
       "\\begin{tabular}{lllllllll}\n",
       " province & min\\_conf & mean\\_conf & most\\_conf & min\\_death & mean\\_death & most\\_death & min\\_total & most\\_total\\\\\n",
       " <chr> & <dbl> & <dbl> & <dbl> & <dbl> & <dbl> & <dbl> & <dbl> & <dbl>\\\\\n",
       "\\hline\n",
       "\t Alberta          & 14 & 130984.11 & 341023 & 0 & 130976.36 & 3286 & 14 & 341023\\\\\n",
       "\t British Columbia &  1 &  78322.58 & 225785 & 0 &  78322.58 & 2399 &  1 & 225785\\\\\n",
       "\t Manitoba         &  0 &  28092.25 &  70539 & 0 &  28095.17 & 1359 &  0 &  70539\\\\\n",
       "\t ⋮ & ⋮ & ⋮ & ⋮ & ⋮ & ⋮ & ⋮ & ⋮ & ⋮\\\\\n",
       "\t Quebec       & 1 & 221218.1320 & 478246 & 0 & 221220.5680 & 11634 & 1 & 478246\\\\\n",
       "\t Saskatchewan & 0 &  27265.9607 &  82069 & 0 &  27266.1260 &   942 & 1 &  82069\\\\\n",
       "\t Yukon        & 0 &    245.4528 &   1621 & 0 &    245.4528 &    14 & 0 &   1621\\\\\n",
       "\\end{tabular}\n"
      ],
      "text/markdown": [
       "\n",
       "A tibble: 13 × 9\n",
       "\n",
       "| province &lt;chr&gt; | min_conf &lt;dbl&gt; | mean_conf &lt;dbl&gt; | most_conf &lt;dbl&gt; | min_death &lt;dbl&gt; | mean_death &lt;dbl&gt; | most_death &lt;dbl&gt; | min_total &lt;dbl&gt; | most_total &lt;dbl&gt; |\n",
       "|---|---|---|---|---|---|---|---|---|\n",
       "| Alberta          | 14 | 130984.11 | 341023 | 0 | 130976.36 | 3286 | 14 | 341023 |\n",
       "| British Columbia |  1 |  78322.58 | 225785 | 0 |  78322.58 | 2399 |  1 | 225785 |\n",
       "| Manitoba         |  0 |  28092.25 |  70539 | 0 |  28095.17 | 1359 |  0 |  70539 |\n",
       "| ⋮ | ⋮ | ⋮ | ⋮ | ⋮ | ⋮ | ⋮ | ⋮ | ⋮ |\n",
       "| Quebec       | 1 | 221218.1320 | 478246 | 0 | 221220.5680 | 11634 | 1 | 478246 |\n",
       "| Saskatchewan | 0 |  27265.9607 |  82069 | 0 |  27266.1260 |   942 | 1 |  82069 |\n",
       "| Yukon        | 0 |    245.4528 |   1621 | 0 |    245.4528 |    14 | 0 |   1621 |\n",
       "\n"
      ],
      "text/plain": [
       "   province         min_conf mean_conf   most_conf min_death mean_death \n",
       "1  Alberta          14       130984.11   341023    0         130976.36  \n",
       "2  British Columbia  1        78322.58   225785    0          78322.58  \n",
       "3  Manitoba          0        28092.25    70539    0          28095.17  \n",
       "⋮  ⋮                ⋮        ⋮           ⋮         ⋮         ⋮          \n",
       "11 Quebec           1        221218.1320 478246    0         221220.5680\n",
       "12 Saskatchewan     0         27265.9607  82069    0          27266.1260\n",
       "13 Yukon            0           245.4528   1621    0            245.4528\n",
       "   most_death min_total most_total\n",
       "1  3286       14        341023    \n",
       "2  2399        1        225785    \n",
       "3  1359        0         70539    \n",
       "⋮  ⋮          ⋮         ⋮         \n",
       "11 11634      1         478246    \n",
       "12   942      1          82069    \n",
       "13    14      0           1621    "
      ]
     },
     "metadata": {},
     "output_type": "display_data"
    }
   ],
   "source": [
    "obs_num_summary <- group_by(covid_train, province)%>%\n",
    "                            summarize( \n",
    "                             min_conf = min(numconf, na.rm = TRUE),\n",
    "                             mean_conf = mean(numconf,na.rm = TRUE),\n",
    "                             most_conf = max(numconf, na.rm = TRUE),\n",
    "                             min_death = min(numdeaths, na.rm = TRUE),\n",
    "                             mean_death = mean(numdeaths,na.rm = TRUE),\n",
    "                             most_death = max(numdeaths, na.rm = TRUE),\n",
    "                             min_total = min(numtotal, na.rm = TRUE),\n",
    "                             mean_death = mean(numtotal,na.rm = TRUE),\n",
    "                             most_total = max(numtotal, na.rm = TRUE),\n",
    "                             )\n",
    "obs_num_summary"
   ]
  },
  {
   "cell_type": "markdown",
   "id": "206cfb5a-d6df-4241-bcf2-a5085258e616",
   "metadata": {},
   "source": [
    "This table collects the number of observations for each province, ordering from most to least."
   ]
  },
  {
   "cell_type": "code",
   "execution_count": 71,
   "id": "e4b9ed44-3d7d-4dc1-aedb-60f2caac26af",
   "metadata": {},
   "outputs": [
    {
     "data": {
      "text/html": [
       "<table class=\"dataframe\">\n",
       "<caption>A tibble: 13 × 2</caption>\n",
       "<thead>\n",
       "\t<tr><th scope=col>province</th><th scope=col>num_obs</th></tr>\n",
       "\t<tr><th scope=col>&lt;chr&gt;</th><th scope=col>&lt;int&gt;</th></tr>\n",
       "</thead>\n",
       "<tbody>\n",
       "\t<tr><td>Alberta                  </td><td>502</td></tr>\n",
       "\t<tr><td>Northwest Territories    </td><td>502</td></tr>\n",
       "\t<tr><td>Quebec                   </td><td>500</td></tr>\n",
       "\t<tr><td>Ontario                  </td><td>495</td></tr>\n",
       "\t<tr><td>Manitoba                 </td><td>493</td></tr>\n",
       "\t<tr><td>Newfoundland and Labrador</td><td>486</td></tr>\n",
       "\t<tr><td>Nova Scotia              </td><td>486</td></tr>\n",
       "\t<tr><td>Prince Edward Island     </td><td>486</td></tr>\n",
       "\t<tr><td>British Columbia         </td><td>484</td></tr>\n",
       "\t<tr><td>Saskatchewan             </td><td>484</td></tr>\n",
       "\t<tr><td>Nunavut                  </td><td>479</td></tr>\n",
       "\t<tr><td>New Brunswick            </td><td>476</td></tr>\n",
       "\t<tr><td>Yukon                    </td><td>466</td></tr>\n",
       "</tbody>\n",
       "</table>\n"
      ],
      "text/latex": [
       "A tibble: 13 × 2\n",
       "\\begin{tabular}{ll}\n",
       " province & num\\_obs\\\\\n",
       " <chr> & <int>\\\\\n",
       "\\hline\n",
       "\t Alberta                   & 502\\\\\n",
       "\t Northwest Territories     & 502\\\\\n",
       "\t Quebec                    & 500\\\\\n",
       "\t Ontario                   & 495\\\\\n",
       "\t Manitoba                  & 493\\\\\n",
       "\t Newfoundland and Labrador & 486\\\\\n",
       "\t Nova Scotia               & 486\\\\\n",
       "\t Prince Edward Island      & 486\\\\\n",
       "\t British Columbia          & 484\\\\\n",
       "\t Saskatchewan              & 484\\\\\n",
       "\t Nunavut                   & 479\\\\\n",
       "\t New Brunswick             & 476\\\\\n",
       "\t Yukon                     & 466\\\\\n",
       "\\end{tabular}\n"
      ],
      "text/markdown": [
       "\n",
       "A tibble: 13 × 2\n",
       "\n",
       "| province &lt;chr&gt; | num_obs &lt;int&gt; |\n",
       "|---|---|\n",
       "| Alberta                   | 502 |\n",
       "| Northwest Territories     | 502 |\n",
       "| Quebec                    | 500 |\n",
       "| Ontario                   | 495 |\n",
       "| Manitoba                  | 493 |\n",
       "| Newfoundland and Labrador | 486 |\n",
       "| Nova Scotia               | 486 |\n",
       "| Prince Edward Island      | 486 |\n",
       "| British Columbia          | 484 |\n",
       "| Saskatchewan              | 484 |\n",
       "| Nunavut                   | 479 |\n",
       "| New Brunswick             | 476 |\n",
       "| Yukon                     | 466 |\n",
       "\n"
      ],
      "text/plain": [
       "   province                  num_obs\n",
       "1  Alberta                   502    \n",
       "2  Northwest Territories     502    \n",
       "3  Quebec                    500    \n",
       "4  Ontario                   495    \n",
       "5  Manitoba                  493    \n",
       "6  Newfoundland and Labrador 486    \n",
       "7  Nova Scotia               486    \n",
       "8  Prince Edward Island      486    \n",
       "9  British Columbia          484    \n",
       "10 Saskatchewan              484    \n",
       "11 Nunavut                   479    \n",
       "12 New Brunswick             476    \n",
       "13 Yukon                     466    "
      ]
     },
     "metadata": {},
     "output_type": "display_data"
    }
   ],
   "source": [
    "province_obs <- group_by(covid_train,province)%>%\n",
    "summarize(num_obs=n()) |>\n",
    "arrange(by = desc(num_obs))\n",
    "province_obs"
   ]
  },
  {
   "cell_type": "markdown",
   "id": "676087ba-1fb0-4e29-9c35-a0c04756629b",
   "metadata": {},
   "source": [
    "This table records how much missing data there is and in which columns they occur."
   ]
  },
  {
   "cell_type": "code",
   "execution_count": 62,
   "id": "e3c29c76-ce80-40fe-93e2-a39a0c24e74a",
   "metadata": {},
   "outputs": [
    {
     "data": {
      "text/html": [
       "<table class=\"dataframe\">\n",
       "<caption>A tibble: 13 × 7</caption>\n",
       "<thead>\n",
       "\t<tr><th scope=col>province</th><th scope=col>date</th><th scope=col>numconf</th><th scope=col>numprob</th><th scope=col>numdeaths</th><th scope=col>numtotal</th><th scope=col>percentrecover</th></tr>\n",
       "\t<tr><th scope=col>&lt;chr&gt;</th><th scope=col>&lt;int&gt;</th><th scope=col>&lt;int&gt;</th><th scope=col>&lt;int&gt;</th><th scope=col>&lt;int&gt;</th><th scope=col>&lt;int&gt;</th><th scope=col>&lt;int&gt;</th></tr>\n",
       "</thead>\n",
       "<tbody>\n",
       "\t<tr><td>Alberta         </td><td>0</td><td>0</td><td>181</td><td>0</td><td>0</td><td>22</td></tr>\n",
       "\t<tr><td>British Columbia</td><td>0</td><td>0</td><td>164</td><td>0</td><td>0</td><td>23</td></tr>\n",
       "\t<tr><td>Manitoba        </td><td>0</td><td>0</td><td>177</td><td>0</td><td>0</td><td>23</td></tr>\n",
       "\t<tr><td>⋮</td><td>⋮</td><td>⋮</td><td>⋮</td><td>⋮</td><td>⋮</td><td>⋮</td></tr>\n",
       "\t<tr><td>Quebec      </td><td>0</td><td>0</td><td>165</td><td>0</td><td>0</td><td>27</td></tr>\n",
       "\t<tr><td>Saskatchewan</td><td>0</td><td>0</td><td>167</td><td>0</td><td>0</td><td>19</td></tr>\n",
       "\t<tr><td>Yukon       </td><td>0</td><td>0</td><td>161</td><td>0</td><td>0</td><td>23</td></tr>\n",
       "</tbody>\n",
       "</table>\n"
      ],
      "text/latex": [
       "A tibble: 13 × 7\n",
       "\\begin{tabular}{lllllll}\n",
       " province & date & numconf & numprob & numdeaths & numtotal & percentrecover\\\\\n",
       " <chr> & <int> & <int> & <int> & <int> & <int> & <int>\\\\\n",
       "\\hline\n",
       "\t Alberta          & 0 & 0 & 181 & 0 & 0 & 22\\\\\n",
       "\t British Columbia & 0 & 0 & 164 & 0 & 0 & 23\\\\\n",
       "\t Manitoba         & 0 & 0 & 177 & 0 & 0 & 23\\\\\n",
       "\t ⋮ & ⋮ & ⋮ & ⋮ & ⋮ & ⋮ & ⋮\\\\\n",
       "\t Quebec       & 0 & 0 & 165 & 0 & 0 & 27\\\\\n",
       "\t Saskatchewan & 0 & 0 & 167 & 0 & 0 & 19\\\\\n",
       "\t Yukon        & 0 & 0 & 161 & 0 & 0 & 23\\\\\n",
       "\\end{tabular}\n"
      ],
      "text/markdown": [
       "\n",
       "A tibble: 13 × 7\n",
       "\n",
       "| province &lt;chr&gt; | date &lt;int&gt; | numconf &lt;int&gt; | numprob &lt;int&gt; | numdeaths &lt;int&gt; | numtotal &lt;int&gt; | percentrecover &lt;int&gt; |\n",
       "|---|---|---|---|---|---|---|\n",
       "| Alberta          | 0 | 0 | 181 | 0 | 0 | 22 |\n",
       "| British Columbia | 0 | 0 | 164 | 0 | 0 | 23 |\n",
       "| Manitoba         | 0 | 0 | 177 | 0 | 0 | 23 |\n",
       "| ⋮ | ⋮ | ⋮ | ⋮ | ⋮ | ⋮ | ⋮ |\n",
       "| Quebec       | 0 | 0 | 165 | 0 | 0 | 27 |\n",
       "| Saskatchewan | 0 | 0 | 167 | 0 | 0 | 19 |\n",
       "| Yukon        | 0 | 0 | 161 | 0 | 0 | 23 |\n",
       "\n"
      ],
      "text/plain": [
       "   province         date numconf numprob numdeaths numtotal percentrecover\n",
       "1  Alberta          0    0       181     0         0        22            \n",
       "2  British Columbia 0    0       164     0         0        23            \n",
       "3  Manitoba         0    0       177     0         0        23            \n",
       "⋮  ⋮                ⋮    ⋮       ⋮       ⋮         ⋮        ⋮             \n",
       "11 Quebec           0    0       165     0         0        27            \n",
       "12 Saskatchewan     0    0       167     0         0        19            \n",
       "13 Yukon            0    0       161     0         0        23            "
      ]
     },
     "metadata": {},
     "output_type": "display_data"
    }
   ],
   "source": [
    "missing <- covid_train %>% summarise_all(~ sum(is.na(.)))\n",
    "missing"
   ]
  },
  {
   "cell_type": "markdown",
   "id": "a01288ad-7340-4b09-9b7a-a44d71062b3b",
   "metadata": {},
   "source": [
    "### Visualization\n",
    "\n",
    "Before we completed the visualization, we had to mutate the data slightly, finding the overall average recovery rate for each province."
   ]
  },
  {
   "cell_type": "code",
   "execution_count": 63,
   "id": "ae618fd5-4154-4b30-ab1a-fbd8e18f8157",
   "metadata": {},
   "outputs": [
    {
     "data": {
      "text/html": [
       "<table class=\"dataframe\">\n",
       "<caption>A tibble: 13 × 2</caption>\n",
       "<thead>\n",
       "\t<tr><th scope=col>province</th><th scope=col>mean_percent</th></tr>\n",
       "\t<tr><th scope=col>&lt;chr&gt;</th><th scope=col>&lt;dbl&gt;</th></tr>\n",
       "</thead>\n",
       "<tbody>\n",
       "\t<tr><td>Alberta                  </td><td>87.80650</td></tr>\n",
       "\t<tr><td>British Columbia         </td><td>86.47937</td></tr>\n",
       "\t<tr><td>Manitoba                 </td><td>82.33538</td></tr>\n",
       "\t<tr><td>New Brunswick            </td><td>88.97628</td></tr>\n",
       "\t<tr><td>Newfoundland and Labrador</td><td>93.20139</td></tr>\n",
       "\t<tr><td>Northwest Territories    </td><td>91.35557</td></tr>\n",
       "\t<tr><td>Nova Scotia              </td><td>89.89841</td></tr>\n",
       "\t<tr><td>Nunavut                  </td><td>89.78599</td></tr>\n",
       "\t<tr><td>Ontario                  </td><td>88.80849</td></tr>\n",
       "\t<tr><td>Prince Edward Island     </td><td>93.13359</td></tr>\n",
       "\t<tr><td>Quebec                   </td><td>81.83740</td></tr>\n",
       "\t<tr><td>Saskatchewan             </td><td>86.96510</td></tr>\n",
       "\t<tr><td>Yukon                    </td><td>91.25158</td></tr>\n",
       "</tbody>\n",
       "</table>\n"
      ],
      "text/latex": [
       "A tibble: 13 × 2\n",
       "\\begin{tabular}{ll}\n",
       " province & mean\\_percent\\\\\n",
       " <chr> & <dbl>\\\\\n",
       "\\hline\n",
       "\t Alberta                   & 87.80650\\\\\n",
       "\t British Columbia          & 86.47937\\\\\n",
       "\t Manitoba                  & 82.33538\\\\\n",
       "\t New Brunswick             & 88.97628\\\\\n",
       "\t Newfoundland and Labrador & 93.20139\\\\\n",
       "\t Northwest Territories     & 91.35557\\\\\n",
       "\t Nova Scotia               & 89.89841\\\\\n",
       "\t Nunavut                   & 89.78599\\\\\n",
       "\t Ontario                   & 88.80849\\\\\n",
       "\t Prince Edward Island      & 93.13359\\\\\n",
       "\t Quebec                    & 81.83740\\\\\n",
       "\t Saskatchewan              & 86.96510\\\\\n",
       "\t Yukon                     & 91.25158\\\\\n",
       "\\end{tabular}\n"
      ],
      "text/markdown": [
       "\n",
       "A tibble: 13 × 2\n",
       "\n",
       "| province &lt;chr&gt; | mean_percent &lt;dbl&gt; |\n",
       "|---|---|\n",
       "| Alberta                   | 87.80650 |\n",
       "| British Columbia          | 86.47937 |\n",
       "| Manitoba                  | 82.33538 |\n",
       "| New Brunswick             | 88.97628 |\n",
       "| Newfoundland and Labrador | 93.20139 |\n",
       "| Northwest Territories     | 91.35557 |\n",
       "| Nova Scotia               | 89.89841 |\n",
       "| Nunavut                   | 89.78599 |\n",
       "| Ontario                   | 88.80849 |\n",
       "| Prince Edward Island      | 93.13359 |\n",
       "| Quebec                    | 81.83740 |\n",
       "| Saskatchewan              | 86.96510 |\n",
       "| Yukon                     | 91.25158 |\n",
       "\n"
      ],
      "text/plain": [
       "   province                  mean_percent\n",
       "1  Alberta                   87.80650    \n",
       "2  British Columbia          86.47937    \n",
       "3  Manitoba                  82.33538    \n",
       "4  New Brunswick             88.97628    \n",
       "5  Newfoundland and Labrador 93.20139    \n",
       "6  Northwest Territories     91.35557    \n",
       "7  Nova Scotia               89.89841    \n",
       "8  Nunavut                   89.78599    \n",
       "9  Ontario                   88.80849    \n",
       "10 Prince Edward Island      93.13359    \n",
       "11 Quebec                    81.83740    \n",
       "12 Saskatchewan              86.96510    \n",
       "13 Yukon                     91.25158    "
      ]
     },
     "metadata": {},
     "output_type": "display_data"
    }
   ],
   "source": [
    "options(repr.plot.width = 10, repr.plot.height = 8)\n",
    "options(repr.matrix.max.rows = 15)\n",
    "recover_table <- covid_train |> \n",
    "    mutate(mean_percent = mean(percentrecover, na.rm = TRUE)) |>\n",
    "    select(province, mean_percent) |>\n",
    "    group_by(province) |>\n",
    "    summarize(mean_percent = mean(mean_percent)) \n",
    "recover_table"
   ]
  },
  {
   "cell_type": "markdown",
   "id": "adb06414-cb9d-4c1d-bd9b-ab286fa9b0a7",
   "metadata": {},
   "source": [
    "For the visualization itself, we plotted the province name against the over average recovery rate. This visualization shows that there is a relationship between recovery rates and province (different provinces and territories have different recovery rates), demonstrating that we will be able to identify the province with the highest recovery rate, whether overall, month-by-month, or even day-by-day."
   ]
  },
  {
   "cell_type": "code",
   "execution_count": 64,
   "id": "5a474be7-f18c-4c25-85b9-b27075af343f",
   "metadata": {},
   "outputs": [
    {
     "data": {
      "image/png": "[encoded data removed]",
      "text/plain": [
       "plot without title"
      ]
     },
     "metadata": {
      "image/png": {
       "height": 480,
       "width": 600
      }
     },
     "output_type": "display_data"
    }
   ],
   "source": [
    "recover_plot <- recover_table |>\n",
    "ggplot(aes(x = fct_reorder(province, mean_percent, .desc = TRUE), y = mean_percent)) +\n",
    "        geom_bar(stat = \"identity\")+\n",
    "        labs(x = \"Province\", y = \"Average Percent Recovered\", fill = \"Province\")+\n",
    "        theme(text = element_text(size = 20))+\n",
    "        coord_flip()+\n",
    "    ggtitle(\"Relationship between Average \\nPercent Recovered and Province\")\n",
    "recover_plot"
   ]
  },
  {
   "cell_type": "markdown",
   "id": "1e838ea1-3c2e-4742-9aeb-5c403c108506",
   "metadata": {},
   "source": [
    "### Methods\n",
    "\n",
    "For our data analysis, we will split the COVID-19 data (dating from January 31, 2020, to December 17, 2021) into a testing and training set. Next, we will use the date, number confirmed, number probable, number of deaths, total number, and percent recovered to train our data to predict which province the data is describing. \n",
    "\n",
    "THIS IS NOT DONE: CONSULT GROUP MEMBERS"
   ]
  },
  {
   "cell_type": "markdown",
   "id": "0e0b86a0-0983-479f-b8d4-65addd788111",
   "metadata": {},
   "source": [
    "### Expected Outcomes and Significance\n",
    "\n",
    "We believe that the Maritime provinces (Nova Scotia, Newfoundland and Labrador, PEI, New Brunswick) will have the highest COVID-19 recovery rates. They have a smaller population and likely have a healthcare system that will not be overwhelmed by COVID-19 cases.\n",
    "After finding which province that has the highest recovery rate, we can infer which province has handled COVID-19 the best and identify the provinces that need more support or response strategies. \n",
    "\n",
    "Future questions:\n",
    "\n",
    "1. Why does the identified province have the highest recovery rate? \n",
    "2. Does the recovery rate relate to other categorical variables that show a considerable difference between the province with highest recovery rate and others? (response times, types of restrictions, healthcare system, etc.)\n",
    "3. Can the successes of this province be adapted to help improve the recovery rates of other provinces?\n"
   ]
  },
  {
   "cell_type": "code",
   "execution_count": null,
   "id": "6d3125b4-17e7-41c5-a2c2-5155c474302f",
   "metadata": {},
   "outputs": [],
   "source": []
  }
 ],
 "metadata": {
  "kernelspec": {
   "display_name": "R",
   "language": "R",
   "name": "ir"
  },
  "language_info": {
   "codemirror_mode": "r",
   "file_extension": ".r",
   "mimetype": "text/x-r-source",
   "name": "R",
   "pygments_lexer": "r",
   "version": "4.1.3"
  }
 },
 "nbformat": 4,
 "nbformat_minor": 5
}
