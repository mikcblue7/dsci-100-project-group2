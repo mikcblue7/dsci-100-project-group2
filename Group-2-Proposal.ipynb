{
 "cells": [
  {
   "cell_type": "markdown",
   "id": "8065e80f-ac83-43b8-a812-c093bdcd3857",
   "metadata": {},
   "source": [
    "## problems we need to fix before final project: (coment from TA)\n",
    "### major issue right now: not enough data\n",
    "- #####Warning message:\n",
    "“Too little data to stratify.\n",
    "• Resampling will be unstratified.”\n",
    "- ##### underfitting? (look at our accuracy vs k)\n",
    "\n",
    "- ##### Identified NA values, but did not do anything to deal with them. For example, since so many NA values are within the numprob column, this column can be removed and thus all NA values will be gone as well (current code causes NA by coercion error).\n",
    "    - fix: remove numprob column, filter out NA\n",
    "    - fixed\n",
    "\n",
    "- ##### Work is not reproducible (data is read from local directory as opposed to remote source).Did not use set.seed() when doing initial.split (this also causes non-reproducibility since it will make different splits each time).\n",
    "    - fix: set a seed\n",
    "    - fixed, set.seed(100)\n",
    "\n",
    "- ##### Why set options(repr.matrix.max.rows = 6) for the first few tables when it's causing the data you're trying to display  to get cut off?\n",
    "    - fix: row = 13\n",
    "    - fixed\n",
    "\n",
    "- #####  Proposal lacks justification for choice of predictors - a lot of these predictors boil down to population size and testing capacity.\n",
    "\n",
    "    - We can remove some population predictors:number confirmed, number probable, number of deaths, total number, keep:date,percent recovered (split date)\n",
    "    - fixed\n",
    "\n",
    "- ##### This dataset requires more exploratory analysis to determine coverage over time for different provinces and the distribution of predictor statistics by province. If the difference in number probable, number of deaths, total number, and number confirmed is consistent between provinces, then perhaps it only makes sense to use one of these?\n",
    "    -  we can do date v.s. percent recovered for the provinces, distribution of predictor statistics by province (idk how?). We might want to keep one of these population based predictors as suggested in addition to time and percent recovered (mabe use number of confirmed to show testing capability of healthcare system).\n",
    "    - later\n",
    "\n",
    "- ##### Be careful with the 'too little data to stratify error'. This means that one of the classes might have too few data points in each class to stratify. \n",
    "  -  see if this still shows up after we remove numprob column, is it still show up we remove Nunavut\n",
    "  - not fixed !!! removing colomns and Nunauvut did not help, I think the only way to fix this is to use another dataset ot colomns other than % recovered?\n",
    "  - (Mikayla) Fixed this problem by removing the territories (Nunavut, Yukon and Northwest Territories)\n",
    "\n",
    "- ##### Need to explain insights from summary table. Now that you have calculated the means of each column, what can you derive from that? \n",
    "  -  I thought we did...? Mabe write a new paragraph for summary table (since now we only explained it with graph)\n",
    "  - later\n",
    " \n",
    "- ##### Writing: Note that you've significantly exceeded the word count. I recommend doing your best to adhere to the limit in the final report submission.\n",
    "  -  Final work count is 2000, we should check Rubric before submission \n",
    "- ##### For choosing K, (Jason) asked to TA: He said that we need to start setting K as 2, and increase K by 1 until K = 5 to find the best fitted k. \n",
    "\n",
    "- ### We need to focus on the choosing K, summary and reference part this week!\n",
    "- ##  Thanks for Linda's work!!!"
   ]
  },
  {
   "cell_type": "markdown",
   "id": "82571850-76be-42a6-8087-9e8deea013f9",
   "metadata": {},
   "source": [
    "# Predicting Canadian provinces based on COVID-19 data\n",
    "### Group Members\n",
    "Jason Ji (69217222), Mikayla Chau (29043288), Linda Zhang (95711800), Alireza Mohammadi (20700985)"
   ]
  },
  {
   "cell_type": "code",
   "execution_count": 52,
   "id": "bf75b4dd-98eb-46a1-82d5-e2761062def5",
   "metadata": {},
   "outputs": [],
   "source": [
    "library(tidyverse)\n",
    "library(repr)\n",
    "library(tidymodels)\n",
    "options(repr.matrix.max.rows = 6)\n",
    "set.seed(100)"
   ]
  },
  {
   "cell_type": "markdown",
   "id": "8129fcdc-108b-4e7e-8c16-a40620b171f0",
   "metadata": {},
   "source": [
    "### Intoduction\n",
    "\n",
    "\n",
    "COVID-19 is an infectious disease caused by SARS-CoV-2 virus (Government of Canada). The first known case was identified in Wuhan, China, on December 12th 2019 (CDC Museum Covid-19 Timeline). The disease quickly spread worldwide, resulting in the COVID-19 pandemic. The common symptoms of COVID-19 include fever, cough, headache, loss of smell and taste(Government of Canada). Canada is also severely impacted by COVID-19. Although there are a number of available vaccines and treatments, there were nearly 4,300,000 infected people by the end of September, 2022 . Ontario has the highest total number of infected people, nearly 1,470,000, however, the total number of infected people in Nunavut is just 3531. (Government of Canada) Because the Yukon, Northwest Territories and Nunavut are the closest to the Arctic Circle, there are not as many people living there as other 10 provinces, which causes a huge difference in the number of the total infected people per province/territory.\n",
    "\n",
    "In this project, we want to predict which Canadian province best describes a territorial health report which has the total number of confirmed COVID-19 cases in a particular month of the year. In order to do so we will investigate public health information gathered from different Canadian territories since the start of the pandemic. \n",
    "\n",
    "The dataset we work on in this project is taken from https://health-infobase.canada.ca/ (health info base of Government of Canada) based on data that provincial and territorial partners published on cases and deaths. This data contains daily information of COVID-19 cases from January 2020 until December 2021. There are 7 important properties we want to choose as our classifier:\n",
    "\n",
    "1. province : Canada province/territory (P/T) from which the information was reported, containing names of 13 Canadian provinces and territories.\n",
    "2. date : Date of recorded observation\n",
    "3. numconf : Number of confirmed cases in each P/T (Canada= sum of all P/T)\n",
    "4. numprob : Number of probable cases in each P/T (Canada= sum of all P/T)\n",
    "5. numdeaths : Number of deaths in each P/T (Canada= sum of all P/T)\n",
    "6. numtotal : Total number of cases, calculated by number of confirmed cases plus number of probable cases.\n",
    "7. Percentrecover : Percentage of recovered cases, Calculated by the number of recovered cases for P/T divided by the total number of confirmed cases for that P/T [(numrecover/numtotal) * 100]\n",
    "\n",
    "As of October 21, 2022, 9 am ET,Public Health Agency of Canada(PHAC) has received detailed case report data on 4,135,488 cases.\n",
    "\n",
    "\n",
    "\n",
    "References:\n",
    "\n",
    "Public Health Agency. “Government of Canada.” Canada.ca, Government of Canada, 18 Aug. 2022, https://www.canada.ca/en/public-health/services/diseases/2019-novel-coronavirus-infection.html\n",
    "“CDC Museum Covid-19 Timeline.” David J. Sencer CDC Museum: In Association with the Smithsonian Institution, Centers for Disease Control and Prevention, 16 Aug. 2022, https://www.cdc.gov/museum/timeline/covid19.html. "
   ]
  },
  {
   "cell_type": "markdown",
   "id": "e791c4a4-da0e-4974-ae8e-28613ac7265e",
   "metadata": {},
   "source": [
    "### Preliminary Data Analysis"
   ]
  },
  {
   "cell_type": "markdown",
   "id": "dfb1b946-1237-43b6-b59b-b3392c746b9d",
   "metadata": {},
   "source": [
    "The data is mostly tidy, however there are many columns we do not need for our analysis. Tidying the data included taking out these unwanted columns, any unwanted rows (Canada and Repatriated Travellers), and changing some column names to make it more reader-friendly. First, we read the data into R (NOTE: This data is for January 31, 2020 to December 17, 2021)."
   ]
  },
  {
   "cell_type": "code",
   "execution_count": 42,
   "id": "e4063913-ec92-45cf-9912-7dc0f8d002fb",
   "metadata": {},
   "outputs": [
    {
     "name": "stderr",
     "output_type": "stream",
     "text": [
      "\u001b[1mRows: \u001b[22m\u001b[34m9762\u001b[39m \u001b[1mColumns: \u001b[22m\u001b[34m40\u001b[39m\n",
      "\u001b[36m──\u001b[39m \u001b[1mColumn specification\u001b[22m \u001b[36m────────────────────────────────────────────────────────\u001b[39m\n",
      "\u001b[1mDelimiter:\u001b[22m \",\"\n",
      "\u001b[31mchr\u001b[39m   (3): prname, prnameFR, percentrecover\n",
      "\u001b[32mdbl\u001b[39m  (36): pruid, update, numconf, numprob, numdeaths, numtotal, numtested, ...\n",
      "\u001b[34mdate\u001b[39m  (1): date\n",
      "\n",
      "\u001b[36mℹ\u001b[39m Use `spec()` to retrieve the full column specification for this data.\n",
      "\u001b[36mℹ\u001b[39m Specify the column types or set `show_col_types = FALSE` to quiet this message.\n"
     ]
    },
    {
     "data": {
      "text/html": [
       "<table class=\"dataframe\">\n",
       "<caption>A spec_tbl_df: 9762 × 40</caption>\n",
       "<thead>\n",
       "\t<tr><th scope=col>pruid</th><th scope=col>prname</th><th scope=col>prnameFR</th><th scope=col>date</th><th scope=col>update</th><th scope=col>numconf</th><th scope=col>numprob</th><th scope=col>numdeaths</th><th scope=col>numtotal</th><th scope=col>numtested</th><th scope=col>⋯</th><th scope=col>ratedeaths_last14</th><th scope=col>numtotal_last7</th><th scope=col>ratetotal_last7</th><th scope=col>numdeaths_last7</th><th scope=col>ratedeaths_last7</th><th scope=col>avgtotal_last7</th><th scope=col>avgincidence_last7</th><th scope=col>avgdeaths_last7</th><th scope=col>avgratedeaths_last7</th><th scope=col>raterecovered</th></tr>\n",
       "\t<tr><th scope=col>&lt;dbl&gt;</th><th scope=col>&lt;chr&gt;</th><th scope=col>&lt;chr&gt;</th><th scope=col>&lt;date&gt;</th><th scope=col>&lt;dbl&gt;</th><th scope=col>&lt;dbl&gt;</th><th scope=col>&lt;dbl&gt;</th><th scope=col>&lt;dbl&gt;</th><th scope=col>&lt;dbl&gt;</th><th scope=col>&lt;dbl&gt;</th><th scope=col>⋯</th><th scope=col>&lt;dbl&gt;</th><th scope=col>&lt;dbl&gt;</th><th scope=col>&lt;dbl&gt;</th><th scope=col>&lt;dbl&gt;</th><th scope=col>&lt;dbl&gt;</th><th scope=col>&lt;dbl&gt;</th><th scope=col>&lt;dbl&gt;</th><th scope=col>&lt;dbl&gt;</th><th scope=col>&lt;dbl&gt;</th><th scope=col>&lt;dbl&gt;</th></tr>\n",
       "</thead>\n",
       "<tbody>\n",
       "\t<tr><td>35</td><td>Ontario         </td><td>Ontario             </td><td>2020-01-31</td><td>NA</td><td>3</td><td>0</td><td>0</td><td>3</td><td>NA</td><td>⋯</td><td>NA</td><td>NA</td><td>NA</td><td>NA</td><td>NA</td><td>NA</td><td>NA</td><td>NA</td><td>NA</td><td>0</td></tr>\n",
       "\t<tr><td>59</td><td>British Columbia</td><td>Colombie-Britannique</td><td>2020-01-31</td><td>NA</td><td>1</td><td>0</td><td>0</td><td>1</td><td>NA</td><td>⋯</td><td>NA</td><td>NA</td><td>NA</td><td>NA</td><td>NA</td><td>NA</td><td>NA</td><td>NA</td><td>NA</td><td>0</td></tr>\n",
       "\t<tr><td> 1</td><td>Canada          </td><td>Canada              </td><td>2020-01-31</td><td>NA</td><td>4</td><td>0</td><td>0</td><td>4</td><td>NA</td><td>⋯</td><td>NA</td><td>NA</td><td>NA</td><td>NA</td><td>NA</td><td>NA</td><td>NA</td><td>NA</td><td>NA</td><td>0</td></tr>\n",
       "\t<tr><td>⋮</td><td>⋮</td><td>⋮</td><td>⋮</td><td>⋮</td><td>⋮</td><td>⋮</td><td>⋮</td><td>⋮</td><td>⋮</td><td>⋱</td><td>⋮</td><td>⋮</td><td>⋮</td><td>⋮</td><td>⋮</td><td>⋮</td><td>⋮</td><td>⋮</td><td>⋮</td><td>⋮</td></tr>\n",
       "\t<tr><td>62</td><td>Nunavut               </td><td>Nunavut            </td><td>2021-12-17</td><td> 1</td><td>    676</td><td>NA</td><td>    4</td><td>    676</td><td>NA</td><td>⋯</td><td>0.00</td><td>    0</td><td>  0.00</td><td>  0</td><td>0.00</td><td>   0</td><td> 0.00</td><td> 0</td><td>0.00</td><td> 0.00</td></tr>\n",
       "\t<tr><td>99</td><td>Repatriated travellers</td><td>Voyageurs rapatriés</td><td>2021-12-17</td><td>NA</td><td>     13</td><td>NA</td><td>    0</td><td>     13</td><td>NA</td><td>⋯</td><td>  NA</td><td>    0</td><td>    NA</td><td>  0</td><td>  NA</td><td>   0</td><td>   NA</td><td> 0</td><td>  NA</td><td>   NA</td></tr>\n",
       "\t<tr><td> 1</td><td>Canada                </td><td>Canada             </td><td>2021-12-17</td><td>NA</td><td>1866907</td><td>NA</td><td>30032</td><td>1866907</td><td>NA</td><td>⋯</td><td>0.72</td><td>39216</td><td>102.54</td><td>132</td><td>0.35</td><td>5602</td><td>14.65</td><td>19</td><td>0.05</td><td>10.85</td></tr>\n",
       "</tbody>\n",
       "</table>\n"
      ],
      "text/latex": [
       "A spec\\_tbl\\_df: 9762 × 40\n",
       "\\begin{tabular}{lllllllllllllllllllll}\n",
       " pruid & prname & prnameFR & date & update & numconf & numprob & numdeaths & numtotal & numtested & ⋯ & ratedeaths\\_last14 & numtotal\\_last7 & ratetotal\\_last7 & numdeaths\\_last7 & ratedeaths\\_last7 & avgtotal\\_last7 & avgincidence\\_last7 & avgdeaths\\_last7 & avgratedeaths\\_last7 & raterecovered\\\\\n",
       " <dbl> & <chr> & <chr> & <date> & <dbl> & <dbl> & <dbl> & <dbl> & <dbl> & <dbl> & ⋯ & <dbl> & <dbl> & <dbl> & <dbl> & <dbl> & <dbl> & <dbl> & <dbl> & <dbl> & <dbl>\\\\\n",
       "\\hline\n",
       "\t 35 & Ontario          & Ontario              & 2020-01-31 & NA & 3 & 0 & 0 & 3 & NA & ⋯ & NA & NA & NA & NA & NA & NA & NA & NA & NA & 0\\\\\n",
       "\t 59 & British Columbia & Colombie-Britannique & 2020-01-31 & NA & 1 & 0 & 0 & 1 & NA & ⋯ & NA & NA & NA & NA & NA & NA & NA & NA & NA & 0\\\\\n",
       "\t  1 & Canada           & Canada               & 2020-01-31 & NA & 4 & 0 & 0 & 4 & NA & ⋯ & NA & NA & NA & NA & NA & NA & NA & NA & NA & 0\\\\\n",
       "\t ⋮ & ⋮ & ⋮ & ⋮ & ⋮ & ⋮ & ⋮ & ⋮ & ⋮ & ⋮ & ⋱ & ⋮ & ⋮ & ⋮ & ⋮ & ⋮ & ⋮ & ⋮ & ⋮ & ⋮ & ⋮\\\\\n",
       "\t 62 & Nunavut                & Nunavut             & 2021-12-17 &  1 &     676 & NA &     4 &     676 & NA & ⋯ & 0.00 &     0 &   0.00 &   0 & 0.00 &    0 &  0.00 &  0 & 0.00 &  0.00\\\\\n",
       "\t 99 & Repatriated travellers & Voyageurs rapatriés & 2021-12-17 & NA &      13 & NA &     0 &      13 & NA & ⋯ &   NA &     0 &     NA &   0 &   NA &    0 &    NA &  0 &   NA &    NA\\\\\n",
       "\t  1 & Canada                 & Canada              & 2021-12-17 & NA & 1866907 & NA & 30032 & 1866907 & NA & ⋯ & 0.72 & 39216 & 102.54 & 132 & 0.35 & 5602 & 14.65 & 19 & 0.05 & 10.85\\\\\n",
       "\\end{tabular}\n"
      ],
      "text/markdown": [
       "\n",
       "A spec_tbl_df: 9762 × 40\n",
       "\n",
       "| pruid &lt;dbl&gt; | prname &lt;chr&gt; | prnameFR &lt;chr&gt; | date &lt;date&gt; | update &lt;dbl&gt; | numconf &lt;dbl&gt; | numprob &lt;dbl&gt; | numdeaths &lt;dbl&gt; | numtotal &lt;dbl&gt; | numtested &lt;dbl&gt; | ⋯ ⋯ | ratedeaths_last14 &lt;dbl&gt; | numtotal_last7 &lt;dbl&gt; | ratetotal_last7 &lt;dbl&gt; | numdeaths_last7 &lt;dbl&gt; | ratedeaths_last7 &lt;dbl&gt; | avgtotal_last7 &lt;dbl&gt; | avgincidence_last7 &lt;dbl&gt; | avgdeaths_last7 &lt;dbl&gt; | avgratedeaths_last7 &lt;dbl&gt; | raterecovered &lt;dbl&gt; |\n",
       "|---|---|---|---|---|---|---|---|---|---|---|---|---|---|---|---|---|---|---|---|---|\n",
       "| 35 | Ontario          | Ontario              | 2020-01-31 | NA | 3 | 0 | 0 | 3 | NA | ⋯ | NA | NA | NA | NA | NA | NA | NA | NA | NA | 0 |\n",
       "| 59 | British Columbia | Colombie-Britannique | 2020-01-31 | NA | 1 | 0 | 0 | 1 | NA | ⋯ | NA | NA | NA | NA | NA | NA | NA | NA | NA | 0 |\n",
       "|  1 | Canada           | Canada               | 2020-01-31 | NA | 4 | 0 | 0 | 4 | NA | ⋯ | NA | NA | NA | NA | NA | NA | NA | NA | NA | 0 |\n",
       "| ⋮ | ⋮ | ⋮ | ⋮ | ⋮ | ⋮ | ⋮ | ⋮ | ⋮ | ⋮ | ⋱ | ⋮ | ⋮ | ⋮ | ⋮ | ⋮ | ⋮ | ⋮ | ⋮ | ⋮ | ⋮ |\n",
       "| 62 | Nunavut                | Nunavut             | 2021-12-17 |  1 |     676 | NA |     4 |     676 | NA | ⋯ | 0.00 |     0 |   0.00 |   0 | 0.00 |    0 |  0.00 |  0 | 0.00 |  0.00 |\n",
       "| 99 | Repatriated travellers | Voyageurs rapatriés | 2021-12-17 | NA |      13 | NA |     0 |      13 | NA | ⋯ |   NA |     0 |     NA |   0 |   NA |    0 |    NA |  0 |   NA |    NA |\n",
       "|  1 | Canada                 | Canada              | 2021-12-17 | NA | 1866907 | NA | 30032 | 1866907 | NA | ⋯ | 0.72 | 39216 | 102.54 | 132 | 0.35 | 5602 | 14.65 | 19 | 0.05 | 10.85 |\n",
       "\n"
      ],
      "text/plain": [
       "     pruid prname                 prnameFR             date       update\n",
       "1    35    Ontario                Ontario              2020-01-31 NA    \n",
       "2    59    British Columbia       Colombie-Britannique 2020-01-31 NA    \n",
       "3     1    Canada                 Canada               2020-01-31 NA    \n",
       "⋮    ⋮     ⋮                      ⋮                    ⋮          ⋮     \n",
       "9760 62    Nunavut                Nunavut              2021-12-17  1    \n",
       "9761 99    Repatriated travellers Voyageurs rapatriés  2021-12-17 NA    \n",
       "9762  1    Canada                 Canada               2021-12-17 NA    \n",
       "     numconf numprob numdeaths numtotal numtested ⋯ ratedeaths_last14\n",
       "1    3       0       0         3        NA        ⋯ NA               \n",
       "2    1       0       0         1        NA        ⋯ NA               \n",
       "3    4       0       0         4        NA        ⋯ NA               \n",
       "⋮    ⋮       ⋮       ⋮         ⋮        ⋮         ⋱ ⋮                \n",
       "9760     676 NA          4         676  NA        ⋯ 0.00             \n",
       "9761      13 NA          0          13  NA        ⋯   NA             \n",
       "9762 1866907 NA      30032     1866907  NA        ⋯ 0.72             \n",
       "     numtotal_last7 ratetotal_last7 numdeaths_last7 ratedeaths_last7\n",
       "1    NA             NA              NA              NA              \n",
       "2    NA             NA              NA              NA              \n",
       "3    NA             NA              NA              NA              \n",
       "⋮    ⋮              ⋮               ⋮               ⋮               \n",
       "9760     0            0.00            0             0.00            \n",
       "9761     0              NA            0               NA            \n",
       "9762 39216          102.54          132             0.35            \n",
       "     avgtotal_last7 avgincidence_last7 avgdeaths_last7 avgratedeaths_last7\n",
       "1    NA             NA                 NA              NA                 \n",
       "2    NA             NA                 NA              NA                 \n",
       "3    NA             NA                 NA              NA                 \n",
       "⋮    ⋮              ⋮                  ⋮               ⋮                  \n",
       "9760    0            0.00               0              0.00               \n",
       "9761    0              NA               0                NA               \n",
       "9762 5602           14.65              19              0.05               \n",
       "     raterecovered\n",
       "1    0            \n",
       "2    0            \n",
       "3    0            \n",
       "⋮    ⋮            \n",
       "9760  0.00        \n",
       "9761    NA        \n",
       "9762 10.85        "
      ]
     },
     "metadata": {},
     "output_type": "display_data"
    }
   ],
   "source": [
    "covid <- read_csv(\"canada-covid-19.csv\")\n",
    "covid"
   ]
  },
  {
   "cell_type": "markdown",
   "id": "32dedf62-f266-4cb4-8960-ff50240d4ea3",
   "metadata": {},
   "source": [
    "Next, we tidy our data, keeping only the columns we will use for our model."
   ]
  },
  {
   "cell_type": "code",
   "execution_count": 43,
   "id": "56c5cabf-4705-40c2-a1dc-6558b1f77cc3",
   "metadata": {},
   "outputs": [
    {
     "data": {
      "text/html": [
       "<table class=\"dataframe\">\n",
       "<caption>A grouped_df: 6200 × 5</caption>\n",
       "<thead>\n",
       "\t<tr><th scope=col>province</th><th scope=col>year</th><th scope=col>month</th><th scope=col>numconf</th><th scope=col>percentrecover</th></tr>\n",
       "\t<tr><th scope=col>&lt;fct&gt;</th><th scope=col>&lt;dbl&gt;</th><th scope=col>&lt;dbl&gt;</th><th scope=col>&lt;dbl&gt;</th><th scope=col>&lt;dbl&gt;</th></tr>\n",
       "</thead>\n",
       "<tbody>\n",
       "\t<tr><td>British Columbia</td><td>2020</td><td>3</td><td>725</td><td>25.66</td></tr>\n",
       "\t<tr><td>Alberta         </td><td>2020</td><td>3</td><td>486</td><td> 5.56</td></tr>\n",
       "\t<tr><td>Saskatchewan    </td><td>2020</td><td>3</td><td> 95</td><td> 3.16</td></tr>\n",
       "\t<tr><td>⋮</td><td>⋮</td><td>⋮</td><td>⋮</td><td>⋮</td></tr>\n",
       "\t<tr><td>New Brunswick       </td><td>2021</td><td>12</td><td>10313</td><td>86.40</td></tr>\n",
       "\t<tr><td>Nova Scotia         </td><td>2021</td><td>12</td><td> 9202</td><td>91.94</td></tr>\n",
       "\t<tr><td>Prince Edward Island</td><td>2021</td><td>12</td><td>  475</td><td>84.21</td></tr>\n",
       "</tbody>\n",
       "</table>\n"
      ],
      "text/latex": [
       "A grouped\\_df: 6200 × 5\n",
       "\\begin{tabular}{lllll}\n",
       " province & year & month & numconf & percentrecover\\\\\n",
       " <fct> & <dbl> & <dbl> & <dbl> & <dbl>\\\\\n",
       "\\hline\n",
       "\t British Columbia & 2020 & 3 & 725 & 25.66\\\\\n",
       "\t Alberta          & 2020 & 3 & 486 &  5.56\\\\\n",
       "\t Saskatchewan     & 2020 & 3 &  95 &  3.16\\\\\n",
       "\t ⋮ & ⋮ & ⋮ & ⋮ & ⋮\\\\\n",
       "\t New Brunswick        & 2021 & 12 & 10313 & 86.40\\\\\n",
       "\t Nova Scotia          & 2021 & 12 &  9202 & 91.94\\\\\n",
       "\t Prince Edward Island & 2021 & 12 &   475 & 84.21\\\\\n",
       "\\end{tabular}\n"
      ],
      "text/markdown": [
       "\n",
       "A grouped_df: 6200 × 5\n",
       "\n",
       "| province &lt;fct&gt; | year &lt;dbl&gt; | month &lt;dbl&gt; | numconf &lt;dbl&gt; | percentrecover &lt;dbl&gt; |\n",
       "|---|---|---|---|---|\n",
       "| British Columbia | 2020 | 3 | 725 | 25.66 |\n",
       "| Alberta          | 2020 | 3 | 486 |  5.56 |\n",
       "| Saskatchewan     | 2020 | 3 |  95 |  3.16 |\n",
       "| ⋮ | ⋮ | ⋮ | ⋮ | ⋮ |\n",
       "| New Brunswick        | 2021 | 12 | 10313 | 86.40 |\n",
       "| Nova Scotia          | 2021 | 12 |  9202 | 91.94 |\n",
       "| Prince Edward Island | 2021 | 12 |   475 | 84.21 |\n",
       "\n"
      ],
      "text/plain": [
       "     province             year month numconf percentrecover\n",
       "1    British Columbia     2020 3     725     25.66         \n",
       "2    Alberta              2020 3     486      5.56         \n",
       "3    Saskatchewan         2020 3      95      3.16         \n",
       "⋮    ⋮                    ⋮    ⋮     ⋮       ⋮             \n",
       "6198 New Brunswick        2021 12    10313   86.40         \n",
       "6199 Nova Scotia          2021 12     9202   91.94         \n",
       "6200 Prince Edward Island 2021 12      475   84.21         "
      ]
     },
     "metadata": {},
     "output_type": "display_data"
    }
   ],
   "source": [
    "# filtered original data into containing parameters that are needed for training the model. Parameters: province, date, number of confirmed cases, percent of recovered cases\n",
    "filtered_covid <- covid |> \n",
    "    mutate(province = prname) |>\n",
    "    select(province, date, numconf, percentrecover)\n",
    "\n",
    "# Further filtering to remove missing data and inappropriate data\n",
    "removed_missing_covid <- filtered_covid |>\n",
    "    filter(province != \"Repatriated travellers\") |>\n",
    "    filter(province != \"Canada\", province != \"Yukon\", \n",
    "           province != \"Northwest Territories\", province != \"Nunavut\") |>\n",
    "    filter(percentrecover != \"NA\")|>\n",
    "    filter(percentrecover != \"N/A\")\n",
    "\n",
    "# formatting the percent of recovered cases into numeric values and organize the data by grouping by province\n",
    "organized_covid <- removed_missing_covid |>\n",
    "    mutate(percentrecover = as.numeric(percentrecover)) |>\n",
    "    mutate(province = as.factor(province)) |>\n",
    "    group_by(province)\n",
    "\n",
    "# splitting the date variable into year, month and day\n",
    "# removing variable day because it is not useful enough to capture information such as provincial COVID policies that are adjusted on monthly bases\n",
    "split_date_covid <- organized_covid |>\n",
    "separate(col = date, into = c(\"year\",\"month\",\"day\"), sep = \"-\")\n",
    "\n",
    "tidy_covid <- split_date_covid|>\n",
    "    select(- day)|>\n",
    "    mutate(year = as.numeric(year))|>\n",
    "    mutate(month = as.numeric(month))\n",
    "    \n",
    "tidy_covid"
   ]
  },
  {
   "cell_type": "markdown",
   "id": "87e97b4e-5e12-45a7-9382-045a38dea876",
   "metadata": {},
   "source": [
    "Next, we split our data set into a training and testing set, ensuring our model will not be affected by the data we will test it with."
   ]
  },
  {
   "cell_type": "code",
   "execution_count": 44,
   "id": "3ab18bac-921f-4d69-9b19-9ab81cb52a53",
   "metadata": {},
   "outputs": [
    {
     "data": {
      "text/html": [
       "<table class=\"dataframe\">\n",
       "<caption>A grouped_df: 4650 × 5</caption>\n",
       "<thead>\n",
       "\t<tr><th scope=col>province</th><th scope=col>year</th><th scope=col>month</th><th scope=col>numconf</th><th scope=col>percentrecover</th></tr>\n",
       "\t<tr><th scope=col>&lt;fct&gt;</th><th scope=col>&lt;dbl&gt;</th><th scope=col>&lt;dbl&gt;</th><th scope=col>&lt;dbl&gt;</th><th scope=col>&lt;dbl&gt;</th></tr>\n",
       "</thead>\n",
       "<tbody>\n",
       "\t<tr><td>British Columbia</td><td>2020</td><td>3</td><td>725</td><td>25.66</td></tr>\n",
       "\t<tr><td>Alberta         </td><td>2020</td><td>3</td><td>486</td><td> 5.56</td></tr>\n",
       "\t<tr><td>Saskatchewan    </td><td>2020</td><td>3</td><td> 95</td><td> 3.16</td></tr>\n",
       "\t<tr><td>⋮</td><td>⋮</td><td>⋮</td><td>⋮</td><td>⋮</td></tr>\n",
       "\t<tr><td>Newfoundland and Labrador</td><td>2021</td><td>12</td><td>2152</td><td>95.31</td></tr>\n",
       "\t<tr><td>Nova Scotia              </td><td>2021</td><td>12</td><td>9202</td><td>91.94</td></tr>\n",
       "\t<tr><td>Prince Edward Island     </td><td>2021</td><td>12</td><td> 475</td><td>84.21</td></tr>\n",
       "</tbody>\n",
       "</table>\n"
      ],
      "text/latex": [
       "A grouped\\_df: 4650 × 5\n",
       "\\begin{tabular}{lllll}\n",
       " province & year & month & numconf & percentrecover\\\\\n",
       " <fct> & <dbl> & <dbl> & <dbl> & <dbl>\\\\\n",
       "\\hline\n",
       "\t British Columbia & 2020 & 3 & 725 & 25.66\\\\\n",
       "\t Alberta          & 2020 & 3 & 486 &  5.56\\\\\n",
       "\t Saskatchewan     & 2020 & 3 &  95 &  3.16\\\\\n",
       "\t ⋮ & ⋮ & ⋮ & ⋮ & ⋮\\\\\n",
       "\t Newfoundland and Labrador & 2021 & 12 & 2152 & 95.31\\\\\n",
       "\t Nova Scotia               & 2021 & 12 & 9202 & 91.94\\\\\n",
       "\t Prince Edward Island      & 2021 & 12 &  475 & 84.21\\\\\n",
       "\\end{tabular}\n"
      ],
      "text/markdown": [
       "\n",
       "A grouped_df: 4650 × 5\n",
       "\n",
       "| province &lt;fct&gt; | year &lt;dbl&gt; | month &lt;dbl&gt; | numconf &lt;dbl&gt; | percentrecover &lt;dbl&gt; |\n",
       "|---|---|---|---|---|\n",
       "| British Columbia | 2020 | 3 | 725 | 25.66 |\n",
       "| Alberta          | 2020 | 3 | 486 |  5.56 |\n",
       "| Saskatchewan     | 2020 | 3 |  95 |  3.16 |\n",
       "| ⋮ | ⋮ | ⋮ | ⋮ | ⋮ |\n",
       "| Newfoundland and Labrador | 2021 | 12 | 2152 | 95.31 |\n",
       "| Nova Scotia               | 2021 | 12 | 9202 | 91.94 |\n",
       "| Prince Edward Island      | 2021 | 12 |  475 | 84.21 |\n",
       "\n"
      ],
      "text/plain": [
       "     province                  year month numconf percentrecover\n",
       "1    British Columbia          2020 3     725     25.66         \n",
       "2    Alberta                   2020 3     486      5.56         \n",
       "3    Saskatchewan              2020 3      95      3.16         \n",
       "⋮    ⋮                         ⋮    ⋮     ⋮       ⋮             \n",
       "4648 Newfoundland and Labrador 2021 12    2152    95.31         \n",
       "4649 Nova Scotia               2021 12    9202    91.94         \n",
       "4650 Prince Edward Island      2021 12     475    84.21         "
      ]
     },
     "metadata": {},
     "output_type": "display_data"
    },
    {
     "data": {
      "text/html": [
       "<table class=\"dataframe\">\n",
       "<caption>A grouped_df: 1550 × 5</caption>\n",
       "<thead>\n",
       "\t<tr><th scope=col>province</th><th scope=col>year</th><th scope=col>month</th><th scope=col>numconf</th><th scope=col>percentrecover</th></tr>\n",
       "\t<tr><th scope=col>&lt;fct&gt;</th><th scope=col>&lt;dbl&gt;</th><th scope=col>&lt;dbl&gt;</th><th scope=col>&lt;dbl&gt;</th><th scope=col>&lt;dbl&gt;</th></tr>\n",
       "</thead>\n",
       "<tbody>\n",
       "\t<tr><td>Manitoba     </td><td>2020</td><td>3</td><td>11</td><td>2.78</td></tr>\n",
       "\t<tr><td>New Brunswick</td><td>2020</td><td>3</td><td>45</td><td>2.22</td></tr>\n",
       "\t<tr><td>Nova Scotia  </td><td>2020</td><td>3</td><td>90</td><td>2.22</td></tr>\n",
       "\t<tr><td>⋮</td><td>⋮</td><td>⋮</td><td>⋮</td><td>⋮</td></tr>\n",
       "\t<tr><td>Prince Edward Island</td><td>2021</td><td>12</td><td>   444</td><td>88.96</td></tr>\n",
       "\t<tr><td>Quebec              </td><td>2021</td><td>12</td><td>478246</td><td>93.48</td></tr>\n",
       "\t<tr><td>New Brunswick       </td><td>2021</td><td>12</td><td> 10313</td><td>86.40</td></tr>\n",
       "</tbody>\n",
       "</table>\n"
      ],
      "text/latex": [
       "A grouped\\_df: 1550 × 5\n",
       "\\begin{tabular}{lllll}\n",
       " province & year & month & numconf & percentrecover\\\\\n",
       " <fct> & <dbl> & <dbl> & <dbl> & <dbl>\\\\\n",
       "\\hline\n",
       "\t Manitoba      & 2020 & 3 & 11 & 2.78\\\\\n",
       "\t New Brunswick & 2020 & 3 & 45 & 2.22\\\\\n",
       "\t Nova Scotia   & 2020 & 3 & 90 & 2.22\\\\\n",
       "\t ⋮ & ⋮ & ⋮ & ⋮ & ⋮\\\\\n",
       "\t Prince Edward Island & 2021 & 12 &    444 & 88.96\\\\\n",
       "\t Quebec               & 2021 & 12 & 478246 & 93.48\\\\\n",
       "\t New Brunswick        & 2021 & 12 &  10313 & 86.40\\\\\n",
       "\\end{tabular}\n"
      ],
      "text/markdown": [
       "\n",
       "A grouped_df: 1550 × 5\n",
       "\n",
       "| province &lt;fct&gt; | year &lt;dbl&gt; | month &lt;dbl&gt; | numconf &lt;dbl&gt; | percentrecover &lt;dbl&gt; |\n",
       "|---|---|---|---|---|\n",
       "| Manitoba      | 2020 | 3 | 11 | 2.78 |\n",
       "| New Brunswick | 2020 | 3 | 45 | 2.22 |\n",
       "| Nova Scotia   | 2020 | 3 | 90 | 2.22 |\n",
       "| ⋮ | ⋮ | ⋮ | ⋮ | ⋮ |\n",
       "| Prince Edward Island | 2021 | 12 |    444 | 88.96 |\n",
       "| Quebec               | 2021 | 12 | 478246 | 93.48 |\n",
       "| New Brunswick        | 2021 | 12 |  10313 | 86.40 |\n",
       "\n"
      ],
      "text/plain": [
       "     province             year month numconf percentrecover\n",
       "1    Manitoba             2020 3     11      2.78          \n",
       "2    New Brunswick        2020 3     45      2.22          \n",
       "3    Nova Scotia          2020 3     90      2.22          \n",
       "⋮    ⋮                    ⋮    ⋮     ⋮       ⋮             \n",
       "1548 Prince Edward Island 2021 12       444  88.96         \n",
       "1549 Quebec               2021 12    478246  93.48         \n",
       "1550 New Brunswick        2021 12     10313  86.40         "
      ]
     },
     "metadata": {},
     "output_type": "display_data"
    }
   ],
   "source": [
    "covid_split <- initial_split(tidy_covid, prop = 0.75, strata = province)\n",
    "covid_train <- training(covid_split)\n",
    "covid_test <- testing(covid_split)\n",
    "\n",
    "covid_train\n",
    "covid_test"
   ]
  },
  {
   "cell_type": "markdown",
   "id": "64d2da3c-2ae9-46c1-a0b7-15c1f1da1701",
   "metadata": {},
   "source": [
    "### Summary Tables\n",
    "\n",
    "The below table documents the average, minimum, and maximum values of each column."
   ]
  },
  {
   "cell_type": "code",
   "execution_count": 45,
   "id": "bda472fe-f929-413a-bb57-e6abcb66f253",
   "metadata": {},
   "outputs": [],
   "source": [
    "# obs_num_summary <- group_by(covid_train, province)%>%\n",
    "#                             summarize( \n",
    "#                              min_conf = min(numconf, na.rm = TRUE),\n",
    "#                              mean_conf = mean(numconf,na.rm = TRUE),\n",
    "#                              most_conf = max(numconf, na.rm = TRUE),\n",
    "#                              min_death = min(numdeaths, na.rm = TRUE),\n",
    "#                              mean_death = mean(numdeaths,na.rm = TRUE),\n",
    "#                              most_death = max(numdeaths, na.rm = TRUE),\n",
    "#                              min_total = min(numtotal, na.rm = TRUE),\n",
    "#                              mean_death = mean(numtotal,na.rm = TRUE),\n",
    "#                              most_total = max(numtotal, na.rm = TRUE),\n",
    "#                              )\n",
    "# obs_num_summary"
   ]
  },
  {
   "cell_type": "markdown",
   "id": "206cfb5a-d6df-4241-bcf2-a5085258e616",
   "metadata": {},
   "source": [
    "This table collects the number of observations for each province, ordering from most to least."
   ]
  },
  {
   "cell_type": "code",
   "execution_count": 46,
   "id": "e4b9ed44-3d7d-4dc1-aedb-60f2caac26af",
   "metadata": {},
   "outputs": [],
   "source": [
    "# province_obs <- group_by(covid_train,province)%>%\n",
    "# summarize(num_obs=n()) |>\n",
    "# arrange(by = desc(num_obs))\n",
    "# province_obs"
   ]
  },
  {
   "cell_type": "markdown",
   "id": "676087ba-1fb0-4e29-9c35-a0c04756629b",
   "metadata": {},
   "source": [
    "This table records how much missing data there is and in which columns they occur."
   ]
  },
  {
   "cell_type": "code",
   "execution_count": 47,
   "id": "e3c29c76-ce80-40fe-93e2-a39a0c24e74a",
   "metadata": {},
   "outputs": [],
   "source": [
    "# missing <- covid_train %>% summarise_all(~ sum(is.na(.)))\n",
    "# missing"
   ]
  },
  {
   "cell_type": "markdown",
   "id": "a01288ad-7340-4b09-9b7a-a44d71062b3b",
   "metadata": {},
   "source": [
    "### Visualization\n",
    "\n",
    "Before we completed the visualization, we had to mutate the data slightly, finding the overall average recovery rate for each province."
   ]
  },
  {
   "cell_type": "code",
   "execution_count": 48,
   "id": "ae618fd5-4154-4b30-ab1a-fbd8e18f8157",
   "metadata": {},
   "outputs": [
    {
     "data": {
      "text/html": [
       "<table class=\"dataframe\">\n",
       "<caption>A tibble: 10 × 2</caption>\n",
       "<thead>\n",
       "\t<tr><th scope=col>province</th><th scope=col>mean_percent</th></tr>\n",
       "\t<tr><th scope=col>&lt;fct&gt;</th><th scope=col>&lt;dbl&gt;</th></tr>\n",
       "</thead>\n",
       "<tbody>\n",
       "\t<tr><td>Quebec          </td><td>82.42790</td></tr>\n",
       "\t<tr><td>Manitoba        </td><td>83.11239</td></tr>\n",
       "\t<tr><td>British Columbia</td><td>86.58118</td></tr>\n",
       "\t<tr><td>⋮</td><td>⋮</td></tr>\n",
       "\t<tr><td>Nova Scotia              </td><td>90.89494</td></tr>\n",
       "\t<tr><td>Newfoundland and Labrador</td><td>93.37858</td></tr>\n",
       "\t<tr><td>Prince Edward Island     </td><td>93.48900</td></tr>\n",
       "</tbody>\n",
       "</table>\n"
      ],
      "text/latex": [
       "A tibble: 10 × 2\n",
       "\\begin{tabular}{ll}\n",
       " province & mean\\_percent\\\\\n",
       " <fct> & <dbl>\\\\\n",
       "\\hline\n",
       "\t Quebec           & 82.42790\\\\\n",
       "\t Manitoba         & 83.11239\\\\\n",
       "\t British Columbia & 86.58118\\\\\n",
       "\t ⋮ & ⋮\\\\\n",
       "\t Nova Scotia               & 90.89494\\\\\n",
       "\t Newfoundland and Labrador & 93.37858\\\\\n",
       "\t Prince Edward Island      & 93.48900\\\\\n",
       "\\end{tabular}\n"
      ],
      "text/markdown": [
       "\n",
       "A tibble: 10 × 2\n",
       "\n",
       "| province &lt;fct&gt; | mean_percent &lt;dbl&gt; |\n",
       "|---|---|\n",
       "| Quebec           | 82.42790 |\n",
       "| Manitoba         | 83.11239 |\n",
       "| British Columbia | 86.58118 |\n",
       "| ⋮ | ⋮ |\n",
       "| Nova Scotia               | 90.89494 |\n",
       "| Newfoundland and Labrador | 93.37858 |\n",
       "| Prince Edward Island      | 93.48900 |\n",
       "\n"
      ],
      "text/plain": [
       "   province                  mean_percent\n",
       "1  Quebec                    82.42790    \n",
       "2  Manitoba                  83.11239    \n",
       "3  British Columbia          86.58118    \n",
       "⋮  ⋮                         ⋮           \n",
       "8  Nova Scotia               90.89494    \n",
       "9  Newfoundland and Labrador 93.37858    \n",
       "10 Prince Edward Island      93.48900    "
      ]
     },
     "metadata": {},
     "output_type": "display_data"
    }
   ],
   "source": [
    "options(repr.plot.width = 10, repr.plot.height = 8)\n",
    "recover_table <- covid_train |> \n",
    "     mutate(mean_percent = mean(percentrecover, na.rm = TRUE)) |>\n",
    "     select(province, mean_percent) |>\n",
    "     group_by(province) |>\n",
    "     summarize(mean_percent = mean(mean_percent)) |>\n",
    "     arrange(mean_percent)\n",
    "\n",
    "recover_table"
   ]
  },
  {
   "cell_type": "markdown",
   "id": "adb06414-cb9d-4c1d-bd9b-ab286fa9b0a7",
   "metadata": {},
   "source": [
    "For the visualization itself, we plotted the province name against the over average recovery rate. This visualization shows that there is a relationship between recovery rates and province (different provinces and territories have different recovery rates), demonstrating that we will be able to identify the province with the highest recovery rate, whether overall, month-by-month, or even day-by-day."
   ]
  },
  {
   "cell_type": "code",
   "execution_count": 49,
   "id": "5a474be7-f18c-4c25-85b9-b27075af343f",
   "metadata": {},
   "outputs": [],
   "source": [
    "# recover_plot <- recover_table |>\n",
    "# ggplot(aes(x = fct_reorder(province, mean_percent, .desc = TRUE), y = mean_percent)) +\n",
    "#         geom_bar(stat = \"identity\")+\n",
    "#         labs(x = \"Province\", y = \"Average Percent Recovered\", fill = \"Province\")+\n",
    "#         theme(text = element_text(size = 20))+\n",
    "#         coord_flip()+\n",
    "#     ggtitle(\"Relationship between Average \\nPercent Recovered and Province\")\n",
    "# recover_plot"
   ]
  },
  {
   "cell_type": "markdown",
   "id": "1e838ea1-3c2e-4742-9aeb-5c403c108506",
   "metadata": {},
   "source": [
    "### Methods\n",
    "\n",
    "For our data analysis, we will split the COVID-19 data (dating from January 31, 2020, to December 17, 2021) into a testing and training set. Next, we will use the date, number confirmed, number probable, number of deaths, total number, and percent recovered to train our data to predict which province the data is describing. \n",
    "\n",
    "As stated in the introduction, difference in provice/territory population means that the number of people who recover does not carry the same weight between provinces. Therefore, we use percent recovered to account for this variation.\n",
    "\n",
    "In addition to the data of the total number of confirmed cases, there are other variables which are different for 13 provinces in Canada and we can use them as our classifiers. Such as, number of probable cases,  number of deaths and percentage of recovery cases.\n",
    "\n",
    "At the end of the project, we will visualize our results through a scatter plot, plotting the number of confirmed cases against date, then colouring the data points according to province."
   ]
  },
  {
   "cell_type": "markdown",
   "id": "0e0b86a0-0983-479f-b8d4-65addd788111",
   "metadata": {},
   "source": [
    "### Expected Outcomes and Significance\n",
    "\n",
    "For this project, we will be building a Knn classification model that predicts province name based on date, number of confirmed cases, number of probable cases, number of deaths, total number of cases and  percentage of recovered cases. We believe that these predictors (except for date) are a unique feature of each province which is a result of its province demographics, COVID policies and medical system. For example, in our visualization, Prince Edward Island and Newfoundland and Labrador have the same highest recovery rate. We believe that the Maritime provinces (Nova Scotia, Newfoundland and Labrador, PEI, New Brunswick) will have the highest COVID-19 recovery rates because They have a smaller population and likely have a healthcare system that will not be overwhelmed by COVID-19 cases.\n",
    "\n",
    "At the initial stage of proposing our project, from the relationship between average percent recovered and province, we can observe a difference in recovery rate that varies across provinces. This made us wonder what is contributing to this difference? Province demographics, COVID policies and medical system can all lead to the kind of differences between provinces that is displayed in a relationship like recovery rate. More specifically, population density, mask mandate and tester kit provision could contribute to the number of confirmed cases, probable cases and total number of cases in a particular province. Number of deaths, for example, would increase if the demographic of the population appears to be more aged. The efficiency and capacity of the medical system on the other hand can lead to differences in average percent recovered across provinces. We could gain a grasp of whether or not our speculation of “characteristic of province effect covid conditions of that province” is correct if we can make accurate predictions (classify) a province based on covid conditions variables: number of confirmed cases,number of probable cases, number of deaths, total number of cases and  percentage of recovered cases. Our study can allow us to gain a grasp on whether or not the COVID situation in each province is uniquely related to its various demographical, political and infrastructural features that can help future studies to extend on which area to focus more when handling COVID-19 and identify the provinces that need more support or response strategies.\n",
    "\n",
    "\n",
    "Future questions:\n",
    "\n",
    "1. Why does Prince Edward Island and Newfoundland and Labrador have the highest recovery rate? (derive a casual relationship)\n",
    "2. Does the recovery rate relate to other categorical variables that show a considerable difference between the province with highest recovery rate and others? \n",
    "3. Can the successes of such two provinces be adapted to help improve the recovery rates of other provinces given that demographic and medical system differences exist between different provinces?\n",
    "4. How can we make a decision about what percent of weight does every predictor account for?\n"
   ]
  },
  {
   "cell_type": "markdown",
   "id": "244d1d55-f87f-421b-9c30-0a9c35a423a0",
   "metadata": {},
   "source": [
    "### data analysis"
   ]
  },
  {
   "cell_type": "code",
   "execution_count": 50,
   "id": "0d26d62a-92ef-4567-b889-758fc3e29795",
   "metadata": {},
   "outputs": [
    {
     "data": {
      "text/html": [
       "<table class=\"dataframe\">\n",
       "<caption>A tibble: 10 × 7</caption>\n",
       "<thead>\n",
       "\t<tr><th scope=col>neighbors</th><th scope=col>.metric</th><th scope=col>.estimator</th><th scope=col>mean</th><th scope=col>n</th><th scope=col>std_err</th><th scope=col>.config</th></tr>\n",
       "\t<tr><th scope=col>&lt;dbl&gt;</th><th scope=col>&lt;chr&gt;</th><th scope=col>&lt;chr&gt;</th><th scope=col>&lt;dbl&gt;</th><th scope=col>&lt;int&gt;</th><th scope=col>&lt;dbl&gt;</th><th scope=col>&lt;chr&gt;</th></tr>\n",
       "</thead>\n",
       "<tbody>\n",
       "\t<tr><td>1</td><td>accuracy</td><td>multiclass</td><td>0.8916364</td><td>5</td><td>0.005924903</td><td>Preprocessor1_Model01</td></tr>\n",
       "\t<tr><td>2</td><td>accuracy</td><td>multiclass</td><td>0.8916364</td><td>5</td><td>0.005924903</td><td>Preprocessor1_Model02</td></tr>\n",
       "\t<tr><td>3</td><td>accuracy</td><td>multiclass</td><td>0.8535642</td><td>5</td><td>0.006032149</td><td>Preprocessor1_Model03</td></tr>\n",
       "\t<tr><td>⋮</td><td>⋮</td><td>⋮</td><td>⋮</td><td>⋮</td><td>⋮</td><td>⋮</td></tr>\n",
       "\t<tr><td> 8</td><td>accuracy</td><td>multiclass</td><td>0.7967977</td><td>5</td><td>0.008329111</td><td>Preprocessor1_Model08</td></tr>\n",
       "\t<tr><td> 9</td><td>accuracy</td><td>multiclass</td><td>0.7789336</td><td>5</td><td>0.004015127</td><td>Preprocessor1_Model09</td></tr>\n",
       "\t<tr><td>10</td><td>accuracy</td><td>multiclass</td><td>0.7774342</td><td>5</td><td>0.004708443</td><td>Preprocessor1_Model10</td></tr>\n",
       "</tbody>\n",
       "</table>\n"
      ],
      "text/latex": [
       "A tibble: 10 × 7\n",
       "\\begin{tabular}{lllllll}\n",
       " neighbors & .metric & .estimator & mean & n & std\\_err & .config\\\\\n",
       " <dbl> & <chr> & <chr> & <dbl> & <int> & <dbl> & <chr>\\\\\n",
       "\\hline\n",
       "\t 1 & accuracy & multiclass & 0.8916364 & 5 & 0.005924903 & Preprocessor1\\_Model01\\\\\n",
       "\t 2 & accuracy & multiclass & 0.8916364 & 5 & 0.005924903 & Preprocessor1\\_Model02\\\\\n",
       "\t 3 & accuracy & multiclass & 0.8535642 & 5 & 0.006032149 & Preprocessor1\\_Model03\\\\\n",
       "\t ⋮ & ⋮ & ⋮ & ⋮ & ⋮ & ⋮ & ⋮\\\\\n",
       "\t  8 & accuracy & multiclass & 0.7967977 & 5 & 0.008329111 & Preprocessor1\\_Model08\\\\\n",
       "\t  9 & accuracy & multiclass & 0.7789336 & 5 & 0.004015127 & Preprocessor1\\_Model09\\\\\n",
       "\t 10 & accuracy & multiclass & 0.7774342 & 5 & 0.004708443 & Preprocessor1\\_Model10\\\\\n",
       "\\end{tabular}\n"
      ],
      "text/markdown": [
       "\n",
       "A tibble: 10 × 7\n",
       "\n",
       "| neighbors &lt;dbl&gt; | .metric &lt;chr&gt; | .estimator &lt;chr&gt; | mean &lt;dbl&gt; | n &lt;int&gt; | std_err &lt;dbl&gt; | .config &lt;chr&gt; |\n",
       "|---|---|---|---|---|---|---|\n",
       "| 1 | accuracy | multiclass | 0.8916364 | 5 | 0.005924903 | Preprocessor1_Model01 |\n",
       "| 2 | accuracy | multiclass | 0.8916364 | 5 | 0.005924903 | Preprocessor1_Model02 |\n",
       "| 3 | accuracy | multiclass | 0.8535642 | 5 | 0.006032149 | Preprocessor1_Model03 |\n",
       "| ⋮ | ⋮ | ⋮ | ⋮ | ⋮ | ⋮ | ⋮ |\n",
       "|  8 | accuracy | multiclass | 0.7967977 | 5 | 0.008329111 | Preprocessor1_Model08 |\n",
       "|  9 | accuracy | multiclass | 0.7789336 | 5 | 0.004015127 | Preprocessor1_Model09 |\n",
       "| 10 | accuracy | multiclass | 0.7774342 | 5 | 0.004708443 | Preprocessor1_Model10 |\n",
       "\n"
      ],
      "text/plain": [
       "   neighbors .metric  .estimator mean      n std_err     .config              \n",
       "1  1         accuracy multiclass 0.8916364 5 0.005924903 Preprocessor1_Model01\n",
       "2  2         accuracy multiclass 0.8916364 5 0.005924903 Preprocessor1_Model02\n",
       "3  3         accuracy multiclass 0.8535642 5 0.006032149 Preprocessor1_Model03\n",
       "⋮  ⋮         ⋮        ⋮          ⋮         ⋮ ⋮           ⋮                    \n",
       "8   8        accuracy multiclass 0.7967977 5 0.008329111 Preprocessor1_Model08\n",
       "9   9        accuracy multiclass 0.7789336 5 0.004015127 Preprocessor1_Model09\n",
       "10 10        accuracy multiclass 0.7774342 5 0.004708443 Preprocessor1_Model10"
      ]
     },
     "metadata": {},
     "output_type": "display_data"
    },
    {
     "data": {
      "image/png": "[encoded data removed]",
      "text/plain": [
       "plot without title"
      ]
     },
     "metadata": {
      "image/png": {
       "height": 480,
       "width": 600
      }
     },
     "output_type": "display_data"
    }
   ],
   "source": [
    "# Preforming 5 fold cross validation to find the best value for k\n",
    "covid_train_vfold <- vfold_cv(covid_train, v= 5, strata= province)\n",
    "\n",
    "# Model specification\n",
    "knn_spec <- nearest_neighbor(weight_func= \"rectangular\", neighbors= tune()) |>\n",
    "    set_engine(\"kknn\") |>\n",
    "    set_mode(\"classification\")\n",
    "\n",
    "# Recipe for setting province as target variable and all others as predictors;\n",
    "# Then standardize the predictors\n",
    "covid_recipe <- recipe(province ~ ., data= covid_train) |>\n",
    "    step_scale(all_predictors()) |>\n",
    "    step_center(all_predictors())\n",
    "\n",
    "# Evaluate the model for 10 values of k\n",
    "k_vals <- tibble(neighbors = seq(from = 1, to = 10, by = 1))\n",
    "\n",
    "knn_fit <- workflow() |>\n",
    "    add_recipe(covid_recipe) |>\n",
    "    add_model(knn_spec) |>\n",
    "    tune_grid(resamples= covid_train_vfold, grid= k_vals) |>\n",
    "    collect_metrics() |>\n",
    "    filter(.metric == \"accuracy\")\n",
    "knn_fit\n",
    "\n",
    "# Plot mean accuracy for values of k\n",
    "accuracy_vs_k <- ggplot(knn_fit, aes(x = neighbors, y = mean)) +\n",
    "  geom_point() +\n",
    "  geom_line() +\n",
    "  labs(x = \"Neighbors\", y = \"Accuracy Estimate\") + \n",
    "  theme(text = element_text(size = 12))\n",
    "\n",
    "accuracy_vs_k"
   ]
  },
  {
   "cell_type": "markdown",
   "id": "f67d5abc-ebb9-40e6-a6dc-1e1c3c00bec4",
   "metadata": {},
   "source": [
    "I think we would be good with just k = 2 since our data is already in a \"line plot\" so it makes sense that our model is more inaccurate with the more neighbours we choose (in previous worksheets, we were analyzing data that was more scattered which is why the number of neighbours was larger)."
   ]
  },
  {
   "cell_type": "code",
   "execution_count": 51,
   "id": "da4f03f1-d449-463e-94d2-e5681421119a",
   "metadata": {},
   "outputs": [
    {
     "data": {
      "text/html": [
       "<table class=\"dataframe\">\n",
       "<caption>A tibble: 1550 × 6</caption>\n",
       "<thead>\n",
       "\t<tr><th scope=col>.pred_class</th><th scope=col>province</th><th scope=col>year</th><th scope=col>month</th><th scope=col>numconf</th><th scope=col>percentrecover</th></tr>\n",
       "\t<tr><th scope=col>&lt;fct&gt;</th><th scope=col>&lt;fct&gt;</th><th scope=col>&lt;dbl&gt;</th><th scope=col>&lt;dbl&gt;</th><th scope=col>&lt;dbl&gt;</th><th scope=col>&lt;dbl&gt;</th></tr>\n",
       "</thead>\n",
       "<tbody>\n",
       "\t<tr><td>Nova Scotia </td><td>Manitoba     </td><td>2020</td><td>3</td><td>11</td><td>2.78</td></tr>\n",
       "\t<tr><td>Saskatchewan</td><td>New Brunswick</td><td>2020</td><td>3</td><td>45</td><td>2.22</td></tr>\n",
       "\t<tr><td>Saskatchewan</td><td>Nova Scotia  </td><td>2020</td><td>3</td><td>90</td><td>2.22</td></tr>\n",
       "\t<tr><td>⋮</td><td>⋮</td><td>⋮</td><td>⋮</td><td>⋮</td><td>⋮</td></tr>\n",
       "\t<tr><td>New Brunswick</td><td>Prince Edward Island</td><td>2021</td><td>12</td><td>   444</td><td>88.96</td></tr>\n",
       "\t<tr><td>Quebec       </td><td>Quebec              </td><td>2021</td><td>12</td><td>478246</td><td>93.48</td></tr>\n",
       "\t<tr><td>New Brunswick</td><td>New Brunswick       </td><td>2021</td><td>12</td><td> 10313</td><td>86.40</td></tr>\n",
       "</tbody>\n",
       "</table>\n"
      ],
      "text/latex": [
       "A tibble: 1550 × 6\n",
       "\\begin{tabular}{llllll}\n",
       " .pred\\_class & province & year & month & numconf & percentrecover\\\\\n",
       " <fct> & <fct> & <dbl> & <dbl> & <dbl> & <dbl>\\\\\n",
       "\\hline\n",
       "\t Nova Scotia  & Manitoba      & 2020 & 3 & 11 & 2.78\\\\\n",
       "\t Saskatchewan & New Brunswick & 2020 & 3 & 45 & 2.22\\\\\n",
       "\t Saskatchewan & Nova Scotia   & 2020 & 3 & 90 & 2.22\\\\\n",
       "\t ⋮ & ⋮ & ⋮ & ⋮ & ⋮ & ⋮\\\\\n",
       "\t New Brunswick & Prince Edward Island & 2021 & 12 &    444 & 88.96\\\\\n",
       "\t Quebec        & Quebec               & 2021 & 12 & 478246 & 93.48\\\\\n",
       "\t New Brunswick & New Brunswick        & 2021 & 12 &  10313 & 86.40\\\\\n",
       "\\end{tabular}\n"
      ],
      "text/markdown": [
       "\n",
       "A tibble: 1550 × 6\n",
       "\n",
       "| .pred_class &lt;fct&gt; | province &lt;fct&gt; | year &lt;dbl&gt; | month &lt;dbl&gt; | numconf &lt;dbl&gt; | percentrecover &lt;dbl&gt; |\n",
       "|---|---|---|---|---|---|\n",
       "| Nova Scotia  | Manitoba      | 2020 | 3 | 11 | 2.78 |\n",
       "| Saskatchewan | New Brunswick | 2020 | 3 | 45 | 2.22 |\n",
       "| Saskatchewan | Nova Scotia   | 2020 | 3 | 90 | 2.22 |\n",
       "| ⋮ | ⋮ | ⋮ | ⋮ | ⋮ | ⋮ |\n",
       "| New Brunswick | Prince Edward Island | 2021 | 12 |    444 | 88.96 |\n",
       "| Quebec        | Quebec               | 2021 | 12 | 478246 | 93.48 |\n",
       "| New Brunswick | New Brunswick        | 2021 | 12 |  10313 | 86.40 |\n",
       "\n"
      ],
      "text/plain": [
       "     .pred_class   province             year month numconf percentrecover\n",
       "1    Nova Scotia   Manitoba             2020 3     11      2.78          \n",
       "2    Saskatchewan  New Brunswick        2020 3     45      2.22          \n",
       "3    Saskatchewan  Nova Scotia          2020 3     90      2.22          \n",
       "⋮    ⋮             ⋮                    ⋮    ⋮     ⋮       ⋮             \n",
       "1548 New Brunswick Prince Edward Island 2021 12       444  88.96         \n",
       "1549 Quebec        Quebec               2021 12    478246  93.48         \n",
       "1550 New Brunswick New Brunswick        2021 12     10313  86.40         "
      ]
     },
     "metadata": {},
     "output_type": "display_data"
    },
    {
     "data": {
      "text/html": [
       "<table class=\"dataframe\">\n",
       "<caption>A tibble: 1 × 1</caption>\n",
       "<thead>\n",
       "\t<tr><th scope=col>.estimate</th></tr>\n",
       "\t<tr><th scope=col>&lt;dbl&gt;</th></tr>\n",
       "</thead>\n",
       "<tbody>\n",
       "\t<tr><td>0.8980645</td></tr>\n",
       "</tbody>\n",
       "</table>\n"
      ],
      "text/latex": [
       "A tibble: 1 × 1\n",
       "\\begin{tabular}{l}\n",
       " .estimate\\\\\n",
       " <dbl>\\\\\n",
       "\\hline\n",
       "\t 0.8980645\\\\\n",
       "\\end{tabular}\n"
      ],
      "text/markdown": [
       "\n",
       "A tibble: 1 × 1\n",
       "\n",
       "| .estimate &lt;dbl&gt; |\n",
       "|---|\n",
       "| 0.8980645 |\n",
       "\n"
      ],
      "text/plain": [
       "  .estimate\n",
       "1 0.8980645"
      ]
     },
     "metadata": {},
     "output_type": "display_data"
    },
    {
     "data": {
      "text/plain": [
       "                           Truth\n",
       "Prediction                  Alberta British Columbia Manitoba New Brunswick\n",
       "  Alberta                       151                0        0             0\n",
       "  British Columbia                0              153        2             0\n",
       "  Manitoba                        0                1      159             0\n",
       "  New Brunswick                   0                0        6           111\n",
       "  Newfoundland and Labrador       0                0        1            17\n",
       "  Nova Scotia                     1                1        3             3\n",
       "  Ontario                         0                0        0             0\n",
       "  Prince Edward Island            1                0        2             7\n",
       "  Quebec                          0                0        0             1\n",
       "  Saskatchewan                    1                4        7             8\n",
       "                           Truth\n",
       "Prediction                  Newfoundland and Labrador Nova Scotia Ontario\n",
       "  Alberta                                           0           1       0\n",
       "  British Columbia                                  0           1       0\n",
       "  Manitoba                                          2           3       0\n",
       "  New Brunswick                                    11          13       1\n",
       "  Newfoundland and Labrador                       129           0       0\n",
       "  Nova Scotia                                       1         130       0\n",
       "  Ontario                                           0           1     136\n",
       "  Prince Edward Island                              7           1       0\n",
       "  Quebec                                            0           1       6\n",
       "  Saskatchewan                                      2           6       0\n",
       "                           Truth\n",
       "Prediction                  Prince Edward Island Quebec Saskatchewan\n",
       "  Alberta                                      0      0            0\n",
       "  British Columbia                             0      0            1\n",
       "  Manitoba                                     1      0            9\n",
       "  New Brunswick                                3      0            4\n",
       "  Newfoundland and Labrador                    4      0            0\n",
       "  Nova Scotia                                  0      0            3\n",
       "  Ontario                                      0      3            1\n",
       "  Prince Edward Island                       138      0            2\n",
       "  Quebec                                       0    158            1\n",
       "  Saskatchewan                                 3      0          127"
      ]
     },
     "metadata": {},
     "output_type": "display_data"
    }
   ],
   "source": [
    "# Choosing the best k based on accuracy plot\n",
    "best_k <- 2\n",
    "\n",
    "# Model specification\n",
    "covid_spec <- nearest_neighbor(weight_func= \"rectangular\", neighbors= best_k) |>\n",
    "    set_engine(\"kknn\") |>\n",
    "    set_mode(\"classification\")\n",
    "\n",
    "# Combine model specification and recipe in a workflow and build the classifier\n",
    "covid_fit <- workflow() |>\n",
    "    add_recipe(covid_recipe) |>\n",
    "    add_model(covid_spec) |>\n",
    "    fit(data= covid_train)\n",
    "\n",
    "# Predict province using test data\n",
    "class_prediction <- covid_fit |>\n",
    "    predict(covid_test) |>\n",
    "    bind_cols(covid_test)\n",
    "class_prediction\n",
    "\n",
    "# Compute the accuracy \n",
    "classifier_accuracy <- class_prediction |>\n",
    "    metrics(truth= province, estimate= .pred_class) |>\n",
    "    filter(.metric == \"accuracy\") |>\n",
    "    select(.estimate)\n",
    "classifier_accuracy\n",
    "\n",
    "# Confusion matrix\n",
    "confusion_matrix <- class_prediction |>\n",
    "    conf_mat(truth= province, estimate= .pred_class)\n",
    "confusion_matrix"
   ]
  },
  {
   "cell_type": "markdown",
   "id": "729a7636-ca5c-4d46-9d1b-8a795bdf4991",
   "metadata": {},
   "source": [
    "### Reference"
   ]
  },
  {
   "cell_type": "markdown",
   "id": "ff798934-08e3-433a-9497-8d153de333c5",
   "metadata": {},
   "source": [
    "1. Canada, P. H. A. of. (2020, May 31). Covid-19 epidemiology update. Canada.ca. Retrieved November 30, 2022, from https://health-infobase.canada.ca/covid-19/?redir=1#tiles \n",
    "This website is updated by everyday, but we just took the data from date of January 31st, 2020 to December 17th, 2011.\n",
    "\n",
    "2. Centers for Disease Control and Prevention. (n.d.). Symptoms of COVID-19. Centers for Disease Control and Prevention. Retrieved November 30, 2022, from https://www.cdc.gov/coronavirus/2019-ncov/symptoms-testing/symptoms.html \n",
    "We know several symptoms of COVID-19."
   ]
  },
  {
   "cell_type": "code",
   "execution_count": null,
   "id": "b3ae7d69-efc7-4338-a335-9d2c9a85e00c",
   "metadata": {},
   "outputs": [],
   "source": []
  }
 ],
 "metadata": {
  "kernelspec": {
   "display_name": "R",
   "language": "R",
   "name": "ir"
  },
  "language_info": {
   "codemirror_mode": "r",
   "file_extension": ".r",
   "mimetype": "text/x-r-source",
   "name": "R",
   "pygments_lexer": "r",
   "version": "4.1.3"
  }
 },
 "nbformat": 4,
 "nbformat_minor": 5
}
