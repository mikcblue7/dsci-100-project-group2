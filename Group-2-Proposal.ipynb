{
 "cells": [
  {
   "cell_type": "markdown",
   "id": "82571850-76be-42a6-8087-9e8deea013f9",
   "metadata": {},
   "source": [
    "# TITLE\n",
    "### Group Members\n",
    "Jason Ji (69217222), Mikayla Chau (29043288), Linda Zhang (95711800), Alireza Mohammadi (20700985)\n",
    "\n",
    "### Intoduction\n"
   ]
  },
  {
   "cell_type": "markdown",
   "id": "e791c4a4-da0e-4974-ae8e-28613ac7265e",
   "metadata": {},
   "source": [
    "### Preliminary Data Analysis"
   ]
  },
  {
   "cell_type": "code",
   "execution_count": null,
   "id": "d0b4c36d-721d-4be6-a95d-81f3b1cb6303",
   "metadata": {},
   "outputs": [],
   "source": []
  }
 ],
 "metadata": {
  "kernelspec": {
   "display_name": "R",
   "language": "R",
   "name": "ir"
  },
  "language_info": {
   "codemirror_mode": "r",
   "file_extension": ".r",
   "mimetype": "text/x-r-source",
   "name": "R",
   "pygments_lexer": "r",
   "version": "4.1.3"
  }
 },
 "nbformat": 4,
 "nbformat_minor": 5
}
