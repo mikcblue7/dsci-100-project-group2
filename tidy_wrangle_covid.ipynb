{
 "cells": [
  {
   "cell_type": "code",
   "execution_count": 4,
   "id": "33e027b4-41d7-472c-a5fb-f7089216dba1",
   "metadata": {},
   "outputs": [],
   "source": [
    "library(tidyverse)\n",
    "library(repr)\n",
    "library(tidymodels)\n",
    "options(repr.matrix.max.rows = 6)"
   ]
  },
  {
   "cell_type": "code",
   "execution_count": 5,
   "id": "ff2a61c7-067a-4c86-abd2-11110150179a",
   "metadata": {},
   "outputs": [
    {
     "name": "stderr",
     "output_type": "stream",
     "text": [
      "\u001b[1mRows: \u001b[22m\u001b[34m9762\u001b[39m \u001b[1mColumns: \u001b[22m\u001b[34m40\u001b[39m\n",
      "\u001b[36m──\u001b[39m \u001b[1mColumn specification\u001b[22m \u001b[36m────────────────────────────────────────────────────────\u001b[39m\n",
      "\u001b[1mDelimiter:\u001b[22m \",\"\n",
      "\u001b[31mchr\u001b[39m   (3): prname, prnameFR, percentrecover\n",
      "\u001b[32mdbl\u001b[39m  (36): pruid, update, numconf, numprob, numdeaths, numtotal, numtested, ...\n",
      "\u001b[34mdate\u001b[39m  (1): date\n",
      "\n",
      "\u001b[36mℹ\u001b[39m Use `spec()` to retrieve the full column specification for this data.\n",
      "\u001b[36mℹ\u001b[39m Specify the column types or set `show_col_types = FALSE` to quiet this message.\n"
     ]
    },
    {
     "data": {
      "text/html": [
       "<table class=\"dataframe\">\n",
       "<caption>A spec_tbl_df: 9762 × 40</caption>\n",
       "<thead>\n",
       "\t<tr><th scope=col>pruid</th><th scope=col>prname</th><th scope=col>prnameFR</th><th scope=col>date</th><th scope=col>update</th><th scope=col>numconf</th><th scope=col>numprob</th><th scope=col>numdeaths</th><th scope=col>numtotal</th><th scope=col>numtested</th><th scope=col>⋯</th><th scope=col>ratedeaths_last14</th><th scope=col>numtotal_last7</th><th scope=col>ratetotal_last7</th><th scope=col>numdeaths_last7</th><th scope=col>ratedeaths_last7</th><th scope=col>avgtotal_last7</th><th scope=col>avgincidence_last7</th><th scope=col>avgdeaths_last7</th><th scope=col>avgratedeaths_last7</th><th scope=col>raterecovered</th></tr>\n",
       "\t<tr><th scope=col>&lt;dbl&gt;</th><th scope=col>&lt;chr&gt;</th><th scope=col>&lt;chr&gt;</th><th scope=col>&lt;date&gt;</th><th scope=col>&lt;dbl&gt;</th><th scope=col>&lt;dbl&gt;</th><th scope=col>&lt;dbl&gt;</th><th scope=col>&lt;dbl&gt;</th><th scope=col>&lt;dbl&gt;</th><th scope=col>&lt;dbl&gt;</th><th scope=col>⋯</th><th scope=col>&lt;dbl&gt;</th><th scope=col>&lt;dbl&gt;</th><th scope=col>&lt;dbl&gt;</th><th scope=col>&lt;dbl&gt;</th><th scope=col>&lt;dbl&gt;</th><th scope=col>&lt;dbl&gt;</th><th scope=col>&lt;dbl&gt;</th><th scope=col>&lt;dbl&gt;</th><th scope=col>&lt;dbl&gt;</th><th scope=col>&lt;dbl&gt;</th></tr>\n",
       "</thead>\n",
       "<tbody>\n",
       "\t<tr><td>35</td><td>Ontario         </td><td>Ontario             </td><td>2020-01-31</td><td>NA</td><td>3</td><td>0</td><td>0</td><td>3</td><td>NA</td><td>⋯</td><td>NA</td><td>NA</td><td>NA</td><td>NA</td><td>NA</td><td>NA</td><td>NA</td><td>NA</td><td>NA</td><td>0</td></tr>\n",
       "\t<tr><td>59</td><td>British Columbia</td><td>Colombie-Britannique</td><td>2020-01-31</td><td>NA</td><td>1</td><td>0</td><td>0</td><td>1</td><td>NA</td><td>⋯</td><td>NA</td><td>NA</td><td>NA</td><td>NA</td><td>NA</td><td>NA</td><td>NA</td><td>NA</td><td>NA</td><td>0</td></tr>\n",
       "\t<tr><td> 1</td><td>Canada          </td><td>Canada              </td><td>2020-01-31</td><td>NA</td><td>4</td><td>0</td><td>0</td><td>4</td><td>NA</td><td>⋯</td><td>NA</td><td>NA</td><td>NA</td><td>NA</td><td>NA</td><td>NA</td><td>NA</td><td>NA</td><td>NA</td><td>0</td></tr>\n",
       "\t<tr><td>⋮</td><td>⋮</td><td>⋮</td><td>⋮</td><td>⋮</td><td>⋮</td><td>⋮</td><td>⋮</td><td>⋮</td><td>⋮</td><td>⋱</td><td>⋮</td><td>⋮</td><td>⋮</td><td>⋮</td><td>⋮</td><td>⋮</td><td>⋮</td><td>⋮</td><td>⋮</td><td>⋮</td></tr>\n",
       "\t<tr><td>62</td><td>Nunavut               </td><td>Nunavut            </td><td>2021-12-17</td><td> 1</td><td>    676</td><td>NA</td><td>    4</td><td>    676</td><td>NA</td><td>⋯</td><td>0.00</td><td>    0</td><td>  0.00</td><td>  0</td><td>0.00</td><td>   0</td><td> 0.00</td><td> 0</td><td>0.00</td><td> 0.00</td></tr>\n",
       "\t<tr><td>99</td><td>Repatriated travellers</td><td>Voyageurs rapatriés</td><td>2021-12-17</td><td>NA</td><td>     13</td><td>NA</td><td>    0</td><td>     13</td><td>NA</td><td>⋯</td><td>  NA</td><td>    0</td><td>    NA</td><td>  0</td><td>  NA</td><td>   0</td><td>   NA</td><td> 0</td><td>  NA</td><td>   NA</td></tr>\n",
       "\t<tr><td> 1</td><td>Canada                </td><td>Canada             </td><td>2021-12-17</td><td>NA</td><td>1866907</td><td>NA</td><td>30032</td><td>1866907</td><td>NA</td><td>⋯</td><td>0.72</td><td>39216</td><td>102.54</td><td>132</td><td>0.35</td><td>5602</td><td>14.65</td><td>19</td><td>0.05</td><td>10.85</td></tr>\n",
       "</tbody>\n",
       "</table>\n"
      ],
      "text/latex": [
       "A spec\\_tbl\\_df: 9762 × 40\n",
       "\\begin{tabular}{lllllllllllllllllllll}\n",
       " pruid & prname & prnameFR & date & update & numconf & numprob & numdeaths & numtotal & numtested & ⋯ & ratedeaths\\_last14 & numtotal\\_last7 & ratetotal\\_last7 & numdeaths\\_last7 & ratedeaths\\_last7 & avgtotal\\_last7 & avgincidence\\_last7 & avgdeaths\\_last7 & avgratedeaths\\_last7 & raterecovered\\\\\n",
       " <dbl> & <chr> & <chr> & <date> & <dbl> & <dbl> & <dbl> & <dbl> & <dbl> & <dbl> & ⋯ & <dbl> & <dbl> & <dbl> & <dbl> & <dbl> & <dbl> & <dbl> & <dbl> & <dbl> & <dbl>\\\\\n",
       "\\hline\n",
       "\t 35 & Ontario          & Ontario              & 2020-01-31 & NA & 3 & 0 & 0 & 3 & NA & ⋯ & NA & NA & NA & NA & NA & NA & NA & NA & NA & 0\\\\\n",
       "\t 59 & British Columbia & Colombie-Britannique & 2020-01-31 & NA & 1 & 0 & 0 & 1 & NA & ⋯ & NA & NA & NA & NA & NA & NA & NA & NA & NA & 0\\\\\n",
       "\t  1 & Canada           & Canada               & 2020-01-31 & NA & 4 & 0 & 0 & 4 & NA & ⋯ & NA & NA & NA & NA & NA & NA & NA & NA & NA & 0\\\\\n",
       "\t ⋮ & ⋮ & ⋮ & ⋮ & ⋮ & ⋮ & ⋮ & ⋮ & ⋮ & ⋮ & ⋱ & ⋮ & ⋮ & ⋮ & ⋮ & ⋮ & ⋮ & ⋮ & ⋮ & ⋮ & ⋮\\\\\n",
       "\t 62 & Nunavut                & Nunavut             & 2021-12-17 &  1 &     676 & NA &     4 &     676 & NA & ⋯ & 0.00 &     0 &   0.00 &   0 & 0.00 &    0 &  0.00 &  0 & 0.00 &  0.00\\\\\n",
       "\t 99 & Repatriated travellers & Voyageurs rapatriés & 2021-12-17 & NA &      13 & NA &     0 &      13 & NA & ⋯ &   NA &     0 &     NA &   0 &   NA &    0 &    NA &  0 &   NA &    NA\\\\\n",
       "\t  1 & Canada                 & Canada              & 2021-12-17 & NA & 1866907 & NA & 30032 & 1866907 & NA & ⋯ & 0.72 & 39216 & 102.54 & 132 & 0.35 & 5602 & 14.65 & 19 & 0.05 & 10.85\\\\\n",
       "\\end{tabular}\n"
      ],
      "text/markdown": [
       "\n",
       "A spec_tbl_df: 9762 × 40\n",
       "\n",
       "| pruid &lt;dbl&gt; | prname &lt;chr&gt; | prnameFR &lt;chr&gt; | date &lt;date&gt; | update &lt;dbl&gt; | numconf &lt;dbl&gt; | numprob &lt;dbl&gt; | numdeaths &lt;dbl&gt; | numtotal &lt;dbl&gt; | numtested &lt;dbl&gt; | ⋯ ⋯ | ratedeaths_last14 &lt;dbl&gt; | numtotal_last7 &lt;dbl&gt; | ratetotal_last7 &lt;dbl&gt; | numdeaths_last7 &lt;dbl&gt; | ratedeaths_last7 &lt;dbl&gt; | avgtotal_last7 &lt;dbl&gt; | avgincidence_last7 &lt;dbl&gt; | avgdeaths_last7 &lt;dbl&gt; | avgratedeaths_last7 &lt;dbl&gt; | raterecovered &lt;dbl&gt; |\n",
       "|---|---|---|---|---|---|---|---|---|---|---|---|---|---|---|---|---|---|---|---|---|\n",
       "| 35 | Ontario          | Ontario              | 2020-01-31 | NA | 3 | 0 | 0 | 3 | NA | ⋯ | NA | NA | NA | NA | NA | NA | NA | NA | NA | 0 |\n",
       "| 59 | British Columbia | Colombie-Britannique | 2020-01-31 | NA | 1 | 0 | 0 | 1 | NA | ⋯ | NA | NA | NA | NA | NA | NA | NA | NA | NA | 0 |\n",
       "|  1 | Canada           | Canada               | 2020-01-31 | NA | 4 | 0 | 0 | 4 | NA | ⋯ | NA | NA | NA | NA | NA | NA | NA | NA | NA | 0 |\n",
       "| ⋮ | ⋮ | ⋮ | ⋮ | ⋮ | ⋮ | ⋮ | ⋮ | ⋮ | ⋮ | ⋱ | ⋮ | ⋮ | ⋮ | ⋮ | ⋮ | ⋮ | ⋮ | ⋮ | ⋮ | ⋮ |\n",
       "| 62 | Nunavut                | Nunavut             | 2021-12-17 |  1 |     676 | NA |     4 |     676 | NA | ⋯ | 0.00 |     0 |   0.00 |   0 | 0.00 |    0 |  0.00 |  0 | 0.00 |  0.00 |\n",
       "| 99 | Repatriated travellers | Voyageurs rapatriés | 2021-12-17 | NA |      13 | NA |     0 |      13 | NA | ⋯ |   NA |     0 |     NA |   0 |   NA |    0 |    NA |  0 |   NA |    NA |\n",
       "|  1 | Canada                 | Canada              | 2021-12-17 | NA | 1866907 | NA | 30032 | 1866907 | NA | ⋯ | 0.72 | 39216 | 102.54 | 132 | 0.35 | 5602 | 14.65 | 19 | 0.05 | 10.85 |\n",
       "\n"
      ],
      "text/plain": [
       "     pruid prname                 prnameFR             date       update\n",
       "1    35    Ontario                Ontario              2020-01-31 NA    \n",
       "2    59    British Columbia       Colombie-Britannique 2020-01-31 NA    \n",
       "3     1    Canada                 Canada               2020-01-31 NA    \n",
       "⋮    ⋮     ⋮                      ⋮                    ⋮          ⋮     \n",
       "9760 62    Nunavut                Nunavut              2021-12-17  1    \n",
       "9761 99    Repatriated travellers Voyageurs rapatriés  2021-12-17 NA    \n",
       "9762  1    Canada                 Canada               2021-12-17 NA    \n",
       "     numconf numprob numdeaths numtotal numtested ⋯ ratedeaths_last14\n",
       "1    3       0       0         3        NA        ⋯ NA               \n",
       "2    1       0       0         1        NA        ⋯ NA               \n",
       "3    4       0       0         4        NA        ⋯ NA               \n",
       "⋮    ⋮       ⋮       ⋮         ⋮        ⋮         ⋱ ⋮                \n",
       "9760     676 NA          4         676  NA        ⋯ 0.00             \n",
       "9761      13 NA          0          13  NA        ⋯   NA             \n",
       "9762 1866907 NA      30032     1866907  NA        ⋯ 0.72             \n",
       "     numtotal_last7 ratetotal_last7 numdeaths_last7 ratedeaths_last7\n",
       "1    NA             NA              NA              NA              \n",
       "2    NA             NA              NA              NA              \n",
       "3    NA             NA              NA              NA              \n",
       "⋮    ⋮              ⋮               ⋮               ⋮               \n",
       "9760     0            0.00            0             0.00            \n",
       "9761     0              NA            0               NA            \n",
       "9762 39216          102.54          132             0.35            \n",
       "     avgtotal_last7 avgincidence_last7 avgdeaths_last7 avgratedeaths_last7\n",
       "1    NA             NA                 NA              NA                 \n",
       "2    NA             NA                 NA              NA                 \n",
       "3    NA             NA                 NA              NA                 \n",
       "⋮    ⋮              ⋮                  ⋮               ⋮                  \n",
       "9760    0            0.00               0              0.00               \n",
       "9761    0              NA               0                NA               \n",
       "9762 5602           14.65              19              0.05               \n",
       "     raterecovered\n",
       "1    0            \n",
       "2    0            \n",
       "3    0            \n",
       "⋮    ⋮            \n",
       "9760  0.00        \n",
       "9761    NA        \n",
       "9762 10.85        "
      ]
     },
     "metadata": {},
     "output_type": "display_data"
    }
   ],
   "source": [
    "covid <- read_csv(\"canada-covid-19.csv\")\n",
    "covid"
   ]
  },
  {
   "cell_type": "code",
   "execution_count": 23,
   "id": "99ab267d-d3e7-4369-8a70-31707fed751f",
   "metadata": {},
   "outputs": [
    {
     "data": {
      "text/html": [
       "<table class=\"dataframe\">\n",
       "<caption>A grouped_df: 8452 × 7</caption>\n",
       "<thead>\n",
       "\t<tr><th scope=col>province</th><th scope=col>date</th><th scope=col>numconf</th><th scope=col>numprob</th><th scope=col>numdeaths</th><th scope=col>numtotal</th><th scope=col>percentrecover</th></tr>\n",
       "\t<tr><th scope=col>&lt;chr&gt;</th><th scope=col>&lt;date&gt;</th><th scope=col>&lt;dbl&gt;</th><th scope=col>&lt;dbl&gt;</th><th scope=col>&lt;dbl&gt;</th><th scope=col>&lt;dbl&gt;</th><th scope=col>&lt;chr&gt;</th></tr>\n",
       "</thead>\n",
       "<tbody>\n",
       "\t<tr><td>Ontario         </td><td>2020-01-31</td><td>3</td><td>0</td><td>0</td><td>3</td><td>NA</td></tr>\n",
       "\t<tr><td>British Columbia</td><td>2020-01-31</td><td>1</td><td>0</td><td>0</td><td>1</td><td>NA</td></tr>\n",
       "\t<tr><td>Ontario         </td><td>2020-02-08</td><td>3</td><td>0</td><td>0</td><td>3</td><td>NA</td></tr>\n",
       "\t<tr><td>⋮</td><td>⋮</td><td>⋮</td><td>⋮</td><td>⋮</td><td>⋮</td><td>⋮</td></tr>\n",
       "\t<tr><td>Yukon                </td><td>2021-12-17</td><td>1621</td><td>NA</td><td>14</td><td>1621</td><td>96.79</td></tr>\n",
       "\t<tr><td>Northwest Territories</td><td>2021-12-17</td><td>2082</td><td>NA</td><td>12</td><td>2082</td><td>98.75</td></tr>\n",
       "\t<tr><td>Nunavut              </td><td>2021-12-17</td><td> 676</td><td>NA</td><td> 4</td><td> 676</td><td>99.26</td></tr>\n",
       "</tbody>\n",
       "</table>\n"
      ],
      "text/latex": [
       "A grouped\\_df: 8452 × 7\n",
       "\\begin{tabular}{lllllll}\n",
       " province & date & numconf & numprob & numdeaths & numtotal & percentrecover\\\\\n",
       " <chr> & <date> & <dbl> & <dbl> & <dbl> & <dbl> & <chr>\\\\\n",
       "\\hline\n",
       "\t Ontario          & 2020-01-31 & 3 & 0 & 0 & 3 & NA\\\\\n",
       "\t British Columbia & 2020-01-31 & 1 & 0 & 0 & 1 & NA\\\\\n",
       "\t Ontario          & 2020-02-08 & 3 & 0 & 0 & 3 & NA\\\\\n",
       "\t ⋮ & ⋮ & ⋮ & ⋮ & ⋮ & ⋮ & ⋮\\\\\n",
       "\t Yukon                 & 2021-12-17 & 1621 & NA & 14 & 1621 & 96.79\\\\\n",
       "\t Northwest Territories & 2021-12-17 & 2082 & NA & 12 & 2082 & 98.75\\\\\n",
       "\t Nunavut               & 2021-12-17 &  676 & NA &  4 &  676 & 99.26\\\\\n",
       "\\end{tabular}\n"
      ],
      "text/markdown": [
       "\n",
       "A grouped_df: 8452 × 7\n",
       "\n",
       "| province &lt;chr&gt; | date &lt;date&gt; | numconf &lt;dbl&gt; | numprob &lt;dbl&gt; | numdeaths &lt;dbl&gt; | numtotal &lt;dbl&gt; | percentrecover &lt;chr&gt; |\n",
       "|---|---|---|---|---|---|---|\n",
       "| Ontario          | 2020-01-31 | 3 | 0 | 0 | 3 | NA |\n",
       "| British Columbia | 2020-01-31 | 1 | 0 | 0 | 1 | NA |\n",
       "| Ontario          | 2020-02-08 | 3 | 0 | 0 | 3 | NA |\n",
       "| ⋮ | ⋮ | ⋮ | ⋮ | ⋮ | ⋮ | ⋮ |\n",
       "| Yukon                 | 2021-12-17 | 1621 | NA | 14 | 1621 | 96.79 |\n",
       "| Northwest Territories | 2021-12-17 | 2082 | NA | 12 | 2082 | 98.75 |\n",
       "| Nunavut               | 2021-12-17 |  676 | NA |  4 |  676 | 99.26 |\n",
       "\n"
      ],
      "text/plain": [
       "     province              date       numconf numprob numdeaths numtotal\n",
       "1    Ontario               2020-01-31 3       0       0         3       \n",
       "2    British Columbia      2020-01-31 1       0       0         1       \n",
       "3    Ontario               2020-02-08 3       0       0         3       \n",
       "⋮    ⋮                     ⋮          ⋮       ⋮       ⋮         ⋮       \n",
       "8450 Yukon                 2021-12-17 1621    NA      14        1621    \n",
       "8451 Northwest Territories 2021-12-17 2082    NA      12        2082    \n",
       "8452 Nunavut               2021-12-17  676    NA       4         676    \n",
       "     percentrecover\n",
       "1    NA            \n",
       "2    NA            \n",
       "3    NA            \n",
       "⋮    ⋮             \n",
       "8450 96.79         \n",
       "8451 98.75         \n",
       "8452 99.26         "
      ]
     },
     "metadata": {},
     "output_type": "display_data"
    }
   ],
   "source": [
    "tidy_covid <- covid |> \n",
    "    mutate(province = prname) |>\n",
    "    select(province, date, numconf, numprob, numdeaths, numtotal, percentrecover) |>\n",
    "    filter(province != \"Repatriated travellers\") |>\n",
    "    filter(province != \"Canada\") |>\n",
    "    group_by(province)\n",
    "tidy_covid"
   ]
  },
  {
   "cell_type": "code",
   "execution_count": null,
   "id": "6b1b94b1-5f1e-41db-a090-475baf756b6b",
   "metadata": {},
   "outputs": [],
   "source": []
  }
 ],
 "metadata": {
  "kernelspec": {
   "display_name": "R",
   "language": "R",
   "name": "ir"
  },
  "language_info": {
   "codemirror_mode": "r",
   "file_extension": ".r",
   "mimetype": "text/x-r-source",
   "name": "R",
   "pygments_lexer": "r",
   "version": "4.1.3"
  }
 },
 "nbformat": 4,
 "nbformat_minor": 5
}
